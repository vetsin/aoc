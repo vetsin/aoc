{
 "cells": [
  {
   "cell_type": "code",
   "execution_count": 226,
   "id": "12cc5918",
   "metadata": {},
   "outputs": [],
   "source": [
    "data = '''O....#....\n",
    "O.OO#....#\n",
    ".....##...\n",
    "OO.#O....O\n",
    ".O.....O#.\n",
    "O.#..O.#.#\n",
    "..O..#O..O\n",
    ".......O..\n",
    "#....###..\n",
    "#OO..#....'''"
   ]
  },
  {
   "cell_type": "code",
   "execution_count": 1,
   "id": "ca944e5c",
   "metadata": {},
   "outputs": [],
   "source": [
    "from aocd import get_data\n",
    "data = get_data(day=14, year=2023)"
   ]
  },
  {
   "cell_type": "code",
   "execution_count": 15,
   "id": "0a75605d",
   "metadata": {},
   "outputs": [],
   "source": [
    "import numpy as np\n",
    "from functools import lru_cache"
   ]
  },
  {
   "cell_type": "code",
   "execution_count": 30,
   "id": "c32e1325",
   "metadata": {},
   "outputs": [],
   "source": [
    "\n",
    "def rtilt(row):\n",
    "    return tilt(row, False)\n",
    "\n",
    "@lru_cache(maxsize=None)\n",
    "def get_parts(row):\n",
    "    return ''.join(row).split('#')\n",
    "\n",
    "@lru_cache(maxsize=None)\n",
    "def shift(part, reverse):\n",
    "    return ''.join(sorted(part, reverse=reverse))\n",
    "    \n",
    "def tilt(row, reverse=True):\n",
    "    return list('#'.join([shift(x, reverse) for x in get_parts(tuple(row)) ]))"
   ]
  },
  {
   "cell_type": "code",
   "execution_count": 31,
   "id": "a470c67b",
   "metadata": {},
   "outputs": [
    {
     "data": {
      "text/plain": [
       "105461"
      ]
     },
     "execution_count": 31,
     "metadata": {},
     "output_type": "execute_result"
    }
   ],
   "source": [
    "table = np.array([ list(x) for x in data.splitlines() ])\n",
    "tilted = np.apply_along_axis(tilt, 0, table)\n",
    "sum([ c*(i+1) for i,c in enumerate((tilted == 'O').sum(axis=1)[::-1]) ])"
   ]
  },
  {
   "cell_type": "code",
   "execution_count": null,
   "id": "048ee20a",
   "metadata": {},
   "outputs": [],
   "source": []
  },
  {
   "cell_type": "code",
   "execution_count": 32,
   "id": "70ec1174",
   "metadata": {},
   "outputs": [
    {
     "data": {
      "text/plain": [
       "105461"
      ]
     },
     "execution_count": 32,
     "metadata": {},
     "output_type": "execute_result"
    }
   ],
   "source": [
    "# tilt 0 is north, 1 is west\n",
    "# rtilt 0 is south, 1 is east\n",
    "cycles = 1000 #1_000_000_000\n",
    "table = np.array([ list(x) for x in data.splitlines() ])\n",
    "for _ in range(cycles):\n",
    "    # N W S E\n",
    "    table = np.apply_along_axis(tilt, 0, table)\n",
    "    table = np.apply_along_axis(tilt, 1, table)\n",
    "    table = np.apply_along_axis(rtilt, 0, table)\n",
    "    table = np.apply_along_axis(rtilt, 1, table)\n",
    "sum([ c*(i+1) for i,c in enumerate((tilted == 'O').sum(axis=1)[::-1]) ])"
   ]
  },
  {
   "cell_type": "code",
   "execution_count": null,
   "id": "fb5e3d64",
   "metadata": {},
   "outputs": [],
   "source": []
  }
 ],
 "metadata": {
  "kernelspec": {
   "display_name": "Python 3",
   "language": "python",
   "name": "python3"
  },
  "language_info": {
   "codemirror_mode": {
    "name": "ipython",
    "version": 3
   },
   "file_extension": ".py",
   "mimetype": "text/x-python",
   "name": "python",
   "nbconvert_exporter": "python",
   "pygments_lexer": "ipython3",
   "version": "3.8.5"
  }
 },
 "nbformat": 4,
 "nbformat_minor": 5
}
