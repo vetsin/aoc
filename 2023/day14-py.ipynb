{
 "cells": [
  {
   "cell_type": "code",
   "execution_count": 477,
   "id": "12cc5918",
   "metadata": {
    "ExecuteTime": {
     "end_time": "2023-12-14T21:09:37.651166Z",
     "start_time": "2023-12-14T21:09:37.647506Z"
    }
   },
   "outputs": [],
   "source": [
    "data = '''O....#....\n",
    "O.OO#....#\n",
    ".....##...\n",
    "OO.#O....O\n",
    ".O.....O#.\n",
    "O.#..O.#.#\n",
    "..O..#O..O\n",
    ".......O..\n",
    "#....###..\n",
    "#OO..#....'''"
   ]
  },
  {
   "cell_type": "code",
   "execution_count": 484,
   "id": "ca944e5c",
   "metadata": {
    "ExecuteTime": {
     "end_time": "2023-12-14T21:11:29.102582Z",
     "start_time": "2023-12-14T21:11:29.099214Z"
    }
   },
   "outputs": [],
   "source": [
    "from aocd import get_data\n",
    "data = get_data(day=14, year=2023)"
   ]
  },
  {
   "cell_type": "code",
   "execution_count": 485,
   "id": "0a75605d",
   "metadata": {
    "ExecuteTime": {
     "end_time": "2023-12-14T21:11:30.536882Z",
     "start_time": "2023-12-14T21:11:30.533806Z"
    }
   },
   "outputs": [],
   "source": [
    "import numpy as np\n",
    "from functools import cache"
   ]
  },
  {
   "cell_type": "code",
   "execution_count": 486,
   "id": "c32e1325",
   "metadata": {
    "ExecuteTime": {
     "end_time": "2023-12-14T21:11:30.835401Z",
     "start_time": "2023-12-14T21:11:30.830226Z"
    }
   },
   "outputs": [],
   "source": [
    "#@cache\n",
    "def rtilt(row:tuple):\n",
    "    return tilt(row, False)\n",
    "\n",
    "#@cache\n",
    "def get_parts(row):\n",
    "    return ''.join(row).split('#')\n",
    "\n",
    "#@cache\n",
    "def shift(part, reverse):\n",
    "    return ''.join(sorted(part, reverse=reverse))\n",
    "    \n",
    "#@cache\n",
    "def tilt(row:tuple, reverse=True):\n",
    "    return list('#'.join([shift(x, reverse) for x in get_parts(row) ]))\n",
    "\n",
    "def ctilt(row, reverse=True):\n",
    "    return tilt(tuple(row), reverse)\n",
    "\n",
    "def crtilt(row):\n",
    "    return rtilt(tuple(row))"
   ]
  },
  {
   "cell_type": "code",
   "execution_count": 487,
   "id": "a470c67b",
   "metadata": {
    "ExecuteTime": {
     "end_time": "2023-12-14T21:11:31.314820Z",
     "start_time": "2023-12-14T21:11:31.301092Z"
    }
   },
   "outputs": [
    {
     "data": {
      "text/plain": [
       "105461"
      ]
     },
     "execution_count": 487,
     "metadata": {},
     "output_type": "execute_result"
    }
   ],
   "source": [
    "table = np.array([ list(x) for x in data.splitlines() ])\n",
    "tilted = np.apply_along_axis(ctilt, 0, table)\n",
    "sum([ c*(i+1) for i,c in enumerate((tilted == 'O').sum(axis=1)[::-1]) ])"
   ]
  },
  {
   "cell_type": "code",
   "execution_count": 488,
   "id": "4960fd5b",
   "metadata": {
    "ExecuteTime": {
     "end_time": "2023-12-14T21:11:32.767047Z",
     "start_time": "2023-12-14T21:11:31.799662Z"
    }
   },
   "outputs": [
    {
     "name": "stdout",
     "output_type": "stream",
     "text": [
      "102837\n",
      "102851\n",
      "102834\n",
      "102831\n",
      "102829\n",
      "102827\n",
      "102828\n"
     ]
    },
    {
     "name": "stderr",
     "output_type": "stream",
     "text": [
      "/var/folders/5t/xztjvk6j5v98pymbd691_4080000gp/T/ipykernel_61128/2546283468.py:13: DeprecationWarning: tostring() is deprecated. Use tobytes() instead.\n",
      "  thash = hash(table.tostring())\n"
     ]
    }
   ],
   "source": [
    "# tilt 0 is north, 1 is west\n",
    "# rtilt 0 is south, 1 is east\n",
    "table = np.array([ list(x) for x in data.splitlines() ])\n",
    "actual_tables = []\n",
    "t_history = []\n",
    "loop_index = -1\n",
    "while True:\n",
    "    # N W S E\n",
    "    table = np.apply_along_axis(ctilt, 0, table)\n",
    "    table = np.apply_along_axis(ctilt, 1, table)\n",
    "    table = np.apply_along_axis(crtilt, 0, table)\n",
    "    table = np.apply_along_axis(crtilt, 1, table)\n",
    "    thash = hash(table.tostring())\n",
    "    if thash in t_history:\n",
    "        loop_index = t_history.index(thash)\n",
    "        break\n",
    "    t_history.append(thash)\n",
    "    actual_tables.append(deepcopy(table))\n",
    "    \n",
    "for final_table in actual_tables[loop_index:]:\n",
    "    x = sum([ c*(i+1) for i,c in enumerate((final_table == 'O').sum(axis=1)[::-1]) ])\n",
    "    print(x)\n",
    "# its this somehow but il lbe honest i guessed from the test list, but it doesnt work on test data???ugh\n",
    "#test = actual_tables[loop_index:]\n",
    "#sum([ c*(i+1) for i,c in enumerate((test[((1_000_000_000+(loop_index)) % (len(test)+1))] == 'O').sum(axis=1)[::-1]) ])"
   ]
  },
  {
   "cell_type": "markdown",
   "id": "3e98518b",
   "metadata": {
    "ExecuteTime": {
     "end_time": "2023-12-14T19:02:03.346353Z",
     "start_time": "2023-12-14T19:02:03.340259Z"
    }
   },
   "source": [
    "# "
   ]
  },
  {
   "cell_type": "code",
   "execution_count": null,
   "id": "269ce9ef",
   "metadata": {},
   "outputs": [],
   "source": []
  }
 ],
 "metadata": {
  "kernelspec": {
   "display_name": "Python 3 (ipykernel)",
   "language": "python",
   "name": "python3"
  },
  "language_info": {
   "codemirror_mode": {
    "name": "ipython",
    "version": 3
   },
   "file_extension": ".py",
   "mimetype": "text/x-python",
   "name": "python",
   "nbconvert_exporter": "python",
   "pygments_lexer": "ipython3",
   "version": "3.11.3"
  },
  "toc": {
   "base_numbering": 1,
   "nav_menu": {},
   "number_sections": false,
   "sideBar": false,
   "skip_h1_title": false,
   "title_cell": "Table of Contents",
   "title_sidebar": "Contents",
   "toc_cell": false,
   "toc_position": {},
   "toc_section_display": false,
   "toc_window_display": false
  }
 },
 "nbformat": 4,
 "nbformat_minor": 5
}
