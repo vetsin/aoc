{
 "cells": [
  {
   "cell_type": "code",
   "execution_count": 2,
   "id": "4f9976b3",
   "metadata": {
    "ExecuteTime": {
     "end_time": "2023-12-04T16:55:03.594041Z",
     "start_time": "2023-12-04T16:55:03.590412Z"
    }
   },
   "outputs": [],
   "source": [
    "import re\n",
    "import numpy as np"
   ]
  },
  {
   "cell_type": "code",
   "execution_count": 3,
   "id": "4f4315a6",
   "metadata": {
    "ExecuteTime": {
     "end_time": "2023-12-04T16:55:03.850145Z",
     "start_time": "2023-12-04T16:55:03.847086Z"
    }
   },
   "outputs": [],
   "source": [
    "input = \"\"\"Card 1: 41 48 83 86 17 | 83 86  6 31 17  9 48 53\n",
    "Card 2: 13 32 20 16 61 | 61 30 68 82 17 32 24 19\n",
    "Card 3:  1 21 53 59 44 | 69 82 63 72 16 21 14  1\n",
    "Card 4: 41 92 73 84 69 | 59 84 76 51 58  5 54 83\n",
    "Card 5: 87 83 26 28 32 | 88 30 70 12 93 22 82 36\n",
    "Card 6: 31 18 13 56 72 | 74 77 10 23 35 67 36 11\"\"\""
   ]
  },
  {
   "cell_type": "code",
   "execution_count": 27,
   "id": "4c0c1d9e",
   "metadata": {
    "ExecuteTime": {
     "end_time": "2023-12-04T17:04:09.917036Z",
     "start_time": "2023-12-04T17:04:09.913146Z"
    }
   },
   "outputs": [],
   "source": [
    "with open('../.day4-input.txt', 'r') as f:\n",
    "    input = f.read()"
   ]
  },
  {
   "cell_type": "code",
   "execution_count": 37,
   "id": "9c32c88a",
   "metadata": {
    "ExecuteTime": {
     "end_time": "2023-12-04T17:08:22.940539Z",
     "start_time": "2023-12-04T17:08:22.934598Z"
    }
   },
   "outputs": [],
   "source": [
    "class Card:\n",
    "    def __init__(self, seed:str):\n",
    "        num, winners, mine = re.split(r'[:|]', seed[5:])\n",
    "        self.num = int(num)\n",
    "        winning = np.fromstring(winners, sep=' ')\n",
    "        numbers = np.fromstring(mine, sep=' ')\n",
    "        self.win_count = np.intersect1d(winning, numbers).size\n",
    "        self.score = pow(2, self.win_count-1) if self.win_count else 0"
   ]
  },
  {
   "cell_type": "code",
   "execution_count": 38,
   "id": "37141864",
   "metadata": {
    "ExecuteTime": {
     "end_time": "2023-12-04T17:08:23.413856Z",
     "start_time": "2023-12-04T17:08:23.395223Z"
    }
   },
   "outputs": [
    {
     "data": {
      "text/plain": [
       "22488"
      ]
     },
     "execution_count": 38,
     "metadata": {},
     "output_type": "execute_result"
    }
   ],
   "source": [
    "cards = map(Card, input.splitlines())\n",
    "sum([c.score for c in cards])"
   ]
  },
  {
   "cell_type": "code",
   "execution_count": 33,
   "id": "d0e778ab",
   "metadata": {
    "ExecuteTime": {
     "end_time": "2023-12-04T17:07:13.625964Z",
     "start_time": "2023-12-04T17:06:42.072385Z"
    }
   },
   "outputs": [
    {
     "data": {
      "text/plain": [
       "7013204"
      ]
     },
     "execution_count": 33,
     "metadata": {},
     "output_type": "execute_result"
    }
   ],
   "source": [
    "cards = np.array([ Card(l) for l in input.splitlines() ])\n",
    "to_process = np.full(cards.size, 1)\n",
    "for i, c in enumerate(to_process):\n",
    "    #assert cards[i].num == i, f\"{cards[i].num} is not {i+1}\" # sanity\n",
    "    for j in range(c):\n",
    "        if wc := cards[i].win_count():\n",
    "            wr = range(i+1, i+wc+1)\n",
    "            to_process[wr] = to_process[wr] + 1\n",
    "sum(to_process)"
   ]
  },
  {
   "cell_type": "code",
   "execution_count": null,
   "id": "de3a6f79",
   "metadata": {},
   "outputs": [],
   "source": []
  }
 ],
 "metadata": {
  "kernelspec": {
   "display_name": "Python 3 (ipykernel)",
   "language": "python",
   "name": "python3"
  },
  "language_info": {
   "codemirror_mode": {
    "name": "ipython",
    "version": 3
   },
   "file_extension": ".py",
   "mimetype": "text/x-python",
   "name": "python",
   "nbconvert_exporter": "python",
   "pygments_lexer": "ipython3",
   "version": "3.11.3"
  },
  "toc": {
   "base_numbering": 1,
   "nav_menu": {},
   "number_sections": false,
   "sideBar": false,
   "skip_h1_title": false,
   "title_cell": "Table of Contents",
   "title_sidebar": "Contents",
   "toc_cell": false,
   "toc_position": {},
   "toc_section_display": false,
   "toc_window_display": false
  }
 },
 "nbformat": 4,
 "nbformat_minor": 5
}
