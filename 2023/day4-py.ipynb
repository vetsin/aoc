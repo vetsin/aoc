{
 "cells": [
  {
   "cell_type": "code",
   "execution_count": 58,
   "id": "4f9976b3",
   "metadata": {},
   "outputs": [],
   "source": [
    "import re\n",
    "import numpy as np"
   ]
  },
  {
   "cell_type": "code",
   "execution_count": 91,
   "id": "4f4315a6",
   "metadata": {},
   "outputs": [],
   "source": [
    "input = \"\"\"Card 1: 41 48 83 86 17 | 83 86  6 31 17  9 48 53\n",
    "Card 2: 13 32 20 16 61 | 61 30 68 82 17 32 24 19\n",
    "Card 3:  1 21 53 59 44 | 69 82 63 72 16 21 14  1\n",
    "Card 4: 41 92 73 84 69 | 59 84 76 51 58  5 54 83\n",
    "Card 5: 87 83 26 28 32 | 88 30 70 12 93 22 82 36\n",
    "Card 6: 31 18 13 56 72 | 74 77 10 23 35 67 36 11\"\"\""
   ]
  },
  {
   "cell_type": "code",
   "execution_count": 88,
   "id": "4c0c1d9e",
   "metadata": {},
   "outputs": [],
   "source": [
    "with open('.day4-input.txt', 'r') as f:\n",
    "    input = f.read()"
   ]
  },
  {
   "cell_type": "code",
   "execution_count": 110,
   "id": "9c32c88a",
   "metadata": {},
   "outputs": [],
   "source": [
    "class Card:\n",
    "    def __init__(self, seed:str):\n",
    "        num, winners, mine = re.split(r'[:|]', seed[5:])\n",
    "        self.num = int(num)\n",
    "        self.winning = np.fromstring(winners, sep=' ')\n",
    "        self.numbers = np.fromstring(mine, sep=' ')\n",
    "        \n",
    "    def win_count(self) -> int:\n",
    "        return np.intersect1d(self.winning, self.numbers).size\n",
    "    \n",
    "    def score(self) -> int:\n",
    "        winners = self.win_count()\n",
    "        return pow(2, winners-1) if winners else 0"
   ]
  },
  {
   "cell_type": "code",
   "execution_count": 111,
   "id": "37141864",
   "metadata": {},
   "outputs": [
    {
     "data": {
      "text/plain": [
       "13"
      ]
     },
     "execution_count": 111,
     "metadata": {},
     "output_type": "execute_result"
    }
   ],
   "source": [
    "cards = map(Card, input.splitlines())\n",
    "sum(map(Card.score, cards))"
   ]
  },
  {
   "cell_type": "code",
   "execution_count": 131,
   "id": "7d7d4867",
   "metadata": {},
   "outputs": [
    {
     "data": {
      "text/plain": [
       "3"
      ]
     },
     "execution_count": 131,
     "metadata": {},
     "output_type": "execute_result"
    }
   ],
   "source": [
    "cards[2].num"
   ]
  },
  {
   "cell_type": "code",
   "execution_count": 141,
   "id": "d0e778ab",
   "metadata": {},
   "outputs": [
    {
     "data": {
      "text/plain": [
       "[1, 2, 3, 4]"
      ]
     },
     "execution_count": 141,
     "metadata": {},
     "output_type": "execute_result"
    }
   ],
   "source": [
    "list(range(1, 5))"
   ]
  },
  {
   "cell_type": "code",
   "execution_count": 159,
   "id": "84d5cd23",
   "metadata": {},
   "outputs": [
    {
     "name": "stdout",
     "output_type": "stream",
     "text": [
      "<__main__.Card object at 0x7f8d45cf6520>\n",
      "<__main__.Card object at 0x7f8d45cf60a0>\n",
      "<__main__.Card object at 0x7f8d45cf6640>\n",
      "<__main__.Card object at 0x7f8d45c8f9d0>\n",
      "<__main__.Card object at 0x7f8d45c8fb80>\n",
      "<__main__.Card object at 0x7f8d45c8ff40>\n",
      "[array([1, 2, 3, 4]), array([2, 3]), array([3, 4]), array([4])]\n"
     ]
    }
   ],
   "source": [
    "cards = np.array([ Card(l) for l in input.splitlines() ])\n",
    "\n",
    "def process(s):\n",
    "    wins = []\n",
    "    for num in s:\n",
    "        print(cards[num])\n",
    "    for c in cards:\n",
    "        if wc := c.win_count():\n",
    "            wins.append(np.arange(c.num, c.num+wc))\n",
    "    print(wins)\n",
    "            \n",
    "process(np.arange(0, len(cards)))"
   ]
  },
  {
   "cell_type": "code",
   "execution_count": 140,
   "id": "1b0e888d",
   "metadata": {},
   "outputs": [
    {
     "name": "stdout",
     "output_type": "stream",
     "text": [
      "Process 1 and won 4 (2..5) range(1, 5)\n",
      "\t1\n",
      "Process 2 and won 2 (3..4) range(2, 4)\n",
      "\t2\n",
      "Process 3 and won 2 (4..5) range(3, 5)\n",
      "\t3\n",
      "Process 4 and won 1 (5..5) range(4, 5)\n",
      "\t4\n",
      "Process 5 and won 0 (6..5) range(5, 5)\n",
      "\t4\n",
      "Process 5 and won 0 (6..5) range(5, 5)\n",
      "\t3\n",
      "Process 4 and won 1 (5..5) range(4, 5)\n",
      "\t4\n",
      "Process 5 and won 0 (6..5) range(5, 5)\n",
      "\t2\n",
      "Process 3 and won 2 (4..5) range(3, 5)\n",
      "\t3\n",
      "Process 4 and won 1 (5..5) range(4, 5)\n",
      "\t4\n",
      "Process 5 and won 0 (6..5) range(5, 5)\n",
      "\t4\n",
      "Process 5 and won 0 (6..5) range(5, 5)\n",
      "\t3\n",
      "Process 4 and won 1 (5..5) range(4, 5)\n",
      "\t4\n",
      "Process 5 and won 0 (6..5) range(5, 5)\n",
      "\t4\n",
      "Process 5 and won 0 (6..5) range(5, 5)\n",
      "Process 2 and won 2 (3..4) range(2, 4)\n",
      "\t2\n",
      "Process 3 and won 2 (4..5) range(3, 5)\n",
      "\t3\n",
      "Process 4 and won 1 (5..5) range(4, 5)\n",
      "\t4\n",
      "Process 5 and won 0 (6..5) range(5, 5)\n",
      "\t4\n",
      "Process 5 and won 0 (6..5) range(5, 5)\n",
      "\t3\n",
      "Process 4 and won 1 (5..5) range(4, 5)\n",
      "\t4\n",
      "Process 5 and won 0 (6..5) range(5, 5)\n",
      "Process 3 and won 2 (4..5) range(3, 5)\n",
      "\t3\n",
      "Process 4 and won 1 (5..5) range(4, 5)\n",
      "\t4\n",
      "Process 5 and won 0 (6..5) range(5, 5)\n",
      "\t4\n",
      "Process 5 and won 0 (6..5) range(5, 5)\n",
      "Process 4 and won 1 (5..5) range(4, 5)\n",
      "\t4\n",
      "Process 5 and won 0 (6..5) range(5, 5)\n",
      "Process 5 and won 0 (6..5) range(5, 5)\n",
      "Process 6 and won 0 (7..6) range(6, 6)\n"
     ]
    },
    {
     "data": {
      "text/plain": [
       "7770"
      ]
     },
     "execution_count": 140,
     "metadata": {},
     "output_type": "execute_result"
    }
   ],
   "source": [
    "cards = [ Card(l) for l in input.splitlines() ]\n",
    "total = 0\n",
    "\n",
    "def process(card, total):\n",
    "    wc = card.win_count()\n",
    "    total += wc\n",
    "    print(f\"Process {card.num} and won {wc} ({card.num+1}..{card.num+wc}) {range(card.num, card.num+wc)}\")\n",
    "    for i in range(card.num, card.num+wc):\n",
    "        print(f\"\\t{i}\")\n",
    "        total += process(cards[i], total)\n",
    "    return total\n",
    "\n",
    "    \n",
    "for card in cards:\n",
    "    total += process(card, 0)\n",
    "    \n",
    "total"
   ]
  },
  {
   "cell_type": "code",
   "execution_count": null,
   "id": "6f7cae00",
   "metadata": {},
   "outputs": [],
   "source": []
  }
 ],
 "metadata": {
  "kernelspec": {
   "display_name": "Python 3",
   "language": "python",
   "name": "python3"
  },
  "language_info": {
   "codemirror_mode": {
    "name": "ipython",
    "version": 3
   },
   "file_extension": ".py",
   "mimetype": "text/x-python",
   "name": "python",
   "nbconvert_exporter": "python",
   "pygments_lexer": "ipython3",
   "version": "3.8.5"
  }
 },
 "nbformat": 4,
 "nbformat_minor": 5
}
