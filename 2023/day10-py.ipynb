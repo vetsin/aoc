{
 "cells": [
  {
   "cell_type": "code",
   "execution_count": 602,
   "id": "914f1eac-a046-43e0-8ebb-41afae79ac5b",
   "metadata": {},
   "outputs": [],
   "source": [
    "from aocd import get_data\n",
    "data = get_data(day=10, year=2023)"
   ]
  },
  {
   "cell_type": "code",
   "execution_count": 632,
   "id": "857d1a22-7862-4b8a-9eb1-94cae946f30c",
   "metadata": {},
   "outputs": [],
   "source": [
    "import numpy as np"
   ]
  },
  {
   "cell_type": "code",
   "execution_count": 122,
   "id": "3328ce80-283a-4b11-b102-c47169c11e7f",
   "metadata": {},
   "outputs": [],
   "source": [
    "data = '''.....\n",
    ".S-7.\n",
    ".|.|.\n",
    ".L-J.\n",
    ".....'''"
   ]
  },
  {
   "cell_type": "code",
   "execution_count": 70,
   "id": "93b011c2-1eeb-4779-800f-199e12e25d21",
   "metadata": {},
   "outputs": [],
   "source": [
    "data = '''..F7..\n",
    ".FJ|..\n",
    "SJ.L7.\n",
    "|F--J.\n",
    "LJ....'''"
   ]
  },
  {
   "cell_type": "code",
   "execution_count": 603,
   "id": "8e6bc1fa-35a9-407b-8371-26f62a94f5d9",
   "metadata": {},
   "outputs": [
    {
     "data": {
      "text/plain": [
       "6927"
      ]
     },
     "execution_count": 603,
     "metadata": {},
     "output_type": "execute_result"
    }
   ],
   "source": [
    "max_depth = 0\n",
    "m = np.array([list(x) for x in data.splitlines()])\n",
    "visited = set()\n",
    "S = [x[0] for x in np.where(m == 'S')]\n",
    "\n",
    "class N:\n",
    "    def __init__(self, pos, sym, depth, parent=None):\n",
    "        self.pos = pos\n",
    "        self.sym = sym\n",
    "        self.depth = depth\n",
    "        self.parent = parent\n",
    "        self.children = []\n",
    "\n",
    "    def walk(self):\n",
    "        queue = [self]\n",
    "\n",
    "        while queue:\n",
    "            current_node = queue.pop(0)\n",
    "            y, x = current_node.pos\n",
    "\n",
    "            if x < m.shape[1]-1 and (y, x + 1) != current_node.parent and current_node.sym in 'S-FL':\n",
    "                r = m[y, x + 1][0]\n",
    "                if r in '-7J':\n",
    "                    if current_node._add(N((y, x + 1), r, current_node.depth + 1, current_node.pos)):\n",
    "                        queue.append(current_node.children[-1])\n",
    "                    else:\n",
    "                        break\n",
    "\n",
    "            if y < m.shape[0]-1 and (y + 1, x) != current_node.parent and current_node.sym in 'S|F7':\n",
    "                b = m[y + 1, x][0]\n",
    "                if b in '|LJ':\n",
    "                    if current_node._add(N((y + 1, x), b, current_node.depth + 1, current_node.pos)):\n",
    "                        queue.append(current_node.children[-1])\n",
    "                    else:\n",
    "                        break\n",
    "\n",
    "            if x > 0 and (y, x - 1) != current_node.parent and current_node.sym in 'S-7J':\n",
    "                l = m[y, x - 1][0]\n",
    "                if l in '-FL':\n",
    "                    if current_node._add(N((y, x - 1), l, current_node.depth + 1, current_node.pos)):\n",
    "                        queue.append(current_node.children[-1])\n",
    "                    else:\n",
    "                        break\n",
    "\n",
    "            if y > 0 and (y - 1, x) != current_node.parent and current_node.sym in 'S|LJ':\n",
    "                t = m[y - 1, x][0]\n",
    "                if t in '|F7':\n",
    "                    if current_node._add(N((y - 1, x), t, current_node.depth + 1, current_node.pos)):\n",
    "                        queue.append(current_node.children[-1])\n",
    "                    else:\n",
    "                        break\n",
    "\n",
    "    def _add(self, n):\n",
    "        global max_depth\n",
    "        if n.pos in visited:\n",
    "            self.children.append(n)\n",
    "            return False\n",
    "        else:\n",
    "            visited.add(n.pos)\n",
    "            self.children.append(n)\n",
    "            if n.depth > max_depth:\n",
    "                max_depth = n.depth\n",
    "            return True\n",
    "\n",
    "    def __str__(self):\n",
    "        r = '' + repr(self)\n",
    "        for c in self.children:\n",
    "            r += f\"\\n{c}\"\n",
    "        return r\n",
    "\n",
    "    def __repr__(self):\n",
    "        return f\"{'  ' * self.depth}N({self.pos}, sym={self.sym}, depth={self.depth}, parent={self.parent})\"\n",
    "\n",
    "root = N(S, 'S', 0)\n",
    "root.walk()\n",
    "#print(root)\n",
    "max_depth"
   ]
  },
  {
   "cell_type": "code",
   "execution_count": 604,
   "id": "e6109b50",
   "metadata": {},
   "outputs": [
    {
     "name": "stdout",
     "output_type": "stream",
     "text": [
      "[['-' 'J' 'L' 'J' 'L']\n",
      " ['-' '-' '7' 'F' '7']\n",
      " ['-' '-' 'S' '|' '|']\n",
      " ['-' '-' '7' '|' '|']\n",
      " ['F' '7' '|' '|' '|']]\n"
     ]
    }
   ],
   "source": [
    "def inspect(pos, size=1):\n",
    "    r0 = 0+size\n",
    "    r1 = 1+size\n",
    "    print(m[(pos[0]-r0):(pos[0]+r1), (pos[1]-r0):(pos[1]+r1)])\n",
    "inspect(S, 2)"
   ]
  },
  {
   "cell_type": "code",
   "execution_count": 592,
   "id": "b75dfeae",
   "metadata": {},
   "outputs": [
    {
     "data": {
      "text/plain": [
       "80"
      ]
     },
     "execution_count": 592,
     "metadata": {},
     "output_type": "execute_result"
    }
   ],
   "source": [
    "data = '''FF7FSF7F7F7F7F7F---7\n",
    "L|LJ||||||||||||F--J\n",
    "FL-7LJLJ||||||LJL-77\n",
    "F--JF--7||LJLJ7F7FJ-\n",
    "L---JF-JLJ.||-FJLJJ7\n",
    "|F|F-JF---7F7-L7L|7|\n",
    "|FFJF7L7F-JF7|JL---7\n",
    "7-L-JL7||F7|L7F-7F7|\n",
    "L.L7LFJ|||||FJL7||LJ\n",
    "L7JLJL-JLJLJL--JLJ.L'''\n",
    "max_depth = 0\n",
    "m = np.array([list(x) for x in data.splitlines()])\n",
    "visited = set()\n",
    "S = [x[0] for x in np.where(m == 'S')]\n",
    "root = N(S, 'S', 0)\n",
    "root.walk()\n",
    "max_depth"
   ]
  },
  {
   "cell_type": "code",
   "execution_count": 622,
   "id": "2f96d928",
   "metadata": {},
   "outputs": [],
   "source": [
    "from scipy import ndimage\n",
    "from skimage.segmentation import clear_border\n",
    "from skimage.measure import points_in_poly\n",
    "from skimage import measure\n",
    "from skimage import draw\n",
    "from PIL import Image as im \n",
    "%matplotlib inline \n",
    "from matplotlib import pyplot as plt\n",
    "import sys"
   ]
  },
  {
   "cell_type": "code",
   "execution_count": 624,
   "id": "be909522",
   "metadata": {},
   "outputs": [],
   "source": [
    "sys.setrecursionlimit(100000)"
   ]
  },
  {
   "cell_type": "code",
   "execution_count": 625,
   "id": "ae7cba20",
   "metadata": {},
   "outputs": [
    {
     "data": {
      "text/plain": [
       "13854"
      ]
     },
     "execution_count": 625,
     "metadata": {},
     "output_type": "execute_result"
    }
   ],
   "source": [
    "l, r = root.children\n",
    "def form_poly(r, poly):\n",
    "    poly.append(r.pos)\n",
    "    for e in r.children:\n",
    "        form_poly(e, poly)\n",
    "    return poly\n",
    "rline = form_poly(r, [])\n",
    "lline = form_poly(l, [])[::-1]\n",
    "full_line = rline + lline\n",
    "#print(f\"{rline[0]} to {rline[1]} {len(rline)}\")\n",
    "#print(f\"{lline[0]} to {lline[1]} {len(lline)}\")\n",
    "len(full_line)"
   ]
  },
  {
   "cell_type": "code",
   "execution_count": 596,
   "id": "161e92f7",
   "metadata": {},
   "outputs": [],
   "source": [
    "#pathed = np.zeros(m.shape, dtype=int)\n",
    "#for e in visited:\n",
    "#    pathed[e] = 1\n",
    "pathed = None"
   ]
  },
  {
   "cell_type": "code",
   "execution_count": 650,
   "id": "5567d8b8",
   "metadata": {},
   "outputs": [
    {
     "data": {
      "image/png": "[encoded data removed]",
      "text/plain": [
       "<Figure size 640x480 with 1 Axes>"
      ]
     },
     "metadata": {},
     "output_type": "display_data"
    }
   ],
   "source": [
    "drawn_poly = np.zeros(m.shape, dtype=int)\n",
    "for p in full_line:\n",
    "    drawn_poly[p] = 1\n",
    "drawn_poly[root.pos[0],root.pos[1]] = 1 # why didnt my line have it whatever\n",
    "plt.imshow(drawn_poly, interpolation='nearest')\n",
    "plt.show()"
   ]
  },
  {
   "cell_type": "code",
   "execution_count": 627,
   "id": "74039352",
   "metadata": {},
   "outputs": [
    {
     "data": {
      "image/png": "[encoded data removed]",
      "text/plain": [
       "<Figure size 640x480 with 1 Axes>"
      ]
     },
     "metadata": {},
     "output_type": "display_data"
    }
   ],
   "source": [
    "group_labeled, gcount = ndimage.label(ndimage.binary_fill_holes(drawn_poly).astype(int) - drawn_poly)\n",
    "plt.imshow(group_labeled, interpolation='nearest')\n",
    "plt.show()"
   ]
  },
  {
   "cell_type": "code",
   "execution_count": 628,
   "id": "ade95cd5",
   "metadata": {},
   "outputs": [
    {
     "data": {
      "image/png": "[encoded data removed]",
      "text/plain": [
       "<Figure size 640x480 with 1 Axes>"
      ]
     },
     "metadata": {},
     "output_type": "display_data"
    }
   ],
   "source": [
    "full = (drawn_poly+group_labeled+1).astype(int)\n",
    "plt.imshow(full, interpolation='nearest')\n",
    "plt.show()"
   ]
  },
  {
   "cell_type": "code",
   "execution_count": 633,
   "id": "7a7b959b",
   "metadata": {},
   "outputs": [
    {
     "data": {
      "text/plain": [
       "467"
      ]
     },
     "execution_count": 633,
     "metadata": {},
     "output_type": "execute_result"
    }
   ],
   "source": [
    "nxp = drawn_poly\n",
    "total = 0\n",
    "for i in range(1, gcount+1):\n",
    "    w = np.where(group_labeled == i)\n",
    "    #print(w)\n",
    "    #print(list(zip(*w)))\n",
    "    r = points_in_poly(list(zip(*w)), full_line)\n",
    "    if all(r):\n",
    "        for e in zip(*w):\n",
    "            nxp[e] = i\n",
    "        total += len(list(zip(*w)))\n",
    "        #print(f\"{i} is in with {}\")\n",
    "\n",
    "    #print('')\n",
    "total"
   ]
  },
  {
   "cell_type": "code",
   "execution_count": null,
   "id": "8dbe8389",
   "metadata": {},
   "outputs": [],
   "source": []
  }
 ],
 "metadata": {
  "kernelspec": {
   "display_name": "Python 3 (ipykernel)",
   "language": "python",
   "name": "python3"
  },
  "language_info": {
   "codemirror_mode": {
    "name": "ipython",
    "version": 3
   },
   "file_extension": ".py",
   "mimetype": "text/x-python",
   "name": "python",
   "nbconvert_exporter": "python",
   "pygments_lexer": "ipython3",
   "version": "3.9.15"
  }
 },
 "nbformat": 4,
 "nbformat_minor": 5
}
