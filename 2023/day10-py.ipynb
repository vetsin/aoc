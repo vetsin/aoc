{
 "cells": [
  {
   "cell_type": "code",
   "execution_count": 1,
   "id": "914f1eac-a046-43e0-8ebb-41afae79ac5b",
   "metadata": {},
   "outputs": [
    {
     "name": "stdout",
     "output_type": "stream",
     "text": [
      "/etc/ssl/certs/ca-certificates.crt /etc/ssl/certs\n"
     ]
    }
   ],
   "source": [
    "from aocd import get_data\n",
    "data = get_data(day=10, year=2023)"
   ]
  },
  {
   "cell_type": "code",
   "execution_count": 7,
   "id": "857d1a22-7862-4b8a-9eb1-94cae946f30c",
   "metadata": {},
   "outputs": [],
   "source": [
    "import numpy as np"
   ]
  },
  {
   "cell_type": "code",
   "execution_count": 43,
   "id": "3328ce80-283a-4b11-b102-c47169c11e7f",
   "metadata": {},
   "outputs": [],
   "source": [
    "data = '''.....\n",
    ".S-7.\n",
    ".|.|.\n",
    ".L-J.\n",
    ".....'''"
   ]
  },
  {
   "cell_type": "code",
   "execution_count": 109,
   "id": "f26a4d1f-be0f-44a6-92b7-bb3f8a0aa55c",
   "metadata": {},
   "outputs": [],
   "source": [
    "m = np.array([ list(x) for x in data.splitlines() ])\n",
    "visited = []\n",
    "S = np.where(m == 'S')"
   ]
  },
  {
   "cell_type": "code",
   "execution_count": 112,
   "id": "033626bd-f88d-47b2-9e85-b547bde828b6",
   "metadata": {},
   "outputs": [
    {
     "name": "stdout",
     "output_type": "stream",
     "text": [
      "S[1,1] Right '-'\n",
      "S[1,1] Bot '|'\n",
      "nah\n",
      "S[1,1] Left '.'\n",
      "S[1,1] Top '.'\n",
      "-[1,1] Bot '|'\n",
      "nah\n",
      "-[1,1] Top '.'\n"
     ]
    }
   ],
   "source": [
    "class N:\n",
    "    def __init__(self, pos, sym=None):\n",
    "        self.pos = [ x[0] for x in S ]\n",
    "        self.sym = sym\n",
    "        self.children = []\n",
    "\n",
    "    def walk(self):\n",
    "        y, x = self.pos\n",
    "        if x < m.shape[1] and self.sym not in '-J7':\n",
    "            r = m[y, x+1][0]\n",
    "            #print(f\"{self.sym}[{y},{x}] Right {r!r}\")\n",
    "            if r in '-7J':\n",
    "                self._add(N((y, x+1), r))\n",
    "        if y < m.shape[0] and self.sym not in '|LJ':\n",
    "            b = m[y+1, x][0]\n",
    "            #print(f\"{self.sym}[{y},{x}] Bot {b!r}\")\n",
    "            if b in '|7F':\n",
    "                self._add(N((y+1, x), b))\n",
    "        if x > 0 and self.sym not in '-7J':\n",
    "            l = m[y, x-1][0] # left\n",
    "            #print(f\"{self.sym}[{y},{x}] Left {l!r}\")\n",
    "            if l in '-J7':\n",
    "                self._add(N((y, x-1), l))\n",
    "        if y > 0 and self.sym not in '|7F':\n",
    "            t = m[y-1, x][0] # top\n",
    "            #print(f\"{self.sym}[{y},{x}] Top {t!r}\")\n",
    "            if t in '|LJ':\n",
    "                self._add(N((y-1, x), t))\n",
    "        for c in self.children:\n",
    "            c.walk()\n",
    "\n",
    "    def _add(self, n):\n",
    "        if n.pos in visited:\n",
    "            print('nah')\n",
    "        else:\n",
    "            visited.append(self.pos)\n",
    "            self.children.append(n)\n",
    "    def __repr__(self):\n",
    "        return f\"N({self.pos}, {self.sym}, {len(self.children)})\"\n",
    "\n",
    "root = N(S, 'S')\n",
    "root.walk()"
   ]
  },
  {
   "cell_type": "code",
   "execution_count": 120,
   "id": "29580dd1-cf99-490f-a4ad-29257d062a69",
   "metadata": {},
   "outputs": [
    {
     "name": "stdout",
     "output_type": "stream",
     "text": [
      "okay N([1, 1], -, 0)\n"
     ]
    },
    {
     "data": {
      "text/plain": [
       "-1"
      ]
     },
     "execution_count": 120,
     "metadata": {},
     "output_type": "execute_result"
    }
   ],
   "source": [
    "def deeper(node, depth, max_depth):\n",
    "    depth += 1\n",
    "    for n in node.children:\n",
    "        print(f\"okay {n}\")\n",
    "        md = deeper(n, depth, max_depth)\n",
    "        if md > max_depth:\n",
    "            max_depth = md\n",
    "    return max_depth\n",
    "deeper(root, -1, -1)"
   ]
  },
  {
   "cell_type": "code",
   "execution_count": 122,
   "id": "ec923336-a004-4dd7-bd47-2305e690aca6",
   "metadata": {},
   "outputs": [
    {
     "ename": "IndexError",
     "evalue": "list index out of range",
     "output_type": "error",
     "traceback": [
      "\u001b[0;31m---------------------------------------------------------------------------\u001b[0m",
      "\u001b[0;31mIndexError\u001b[0m                                Traceback (most recent call last)",
      "Cell \u001b[0;32mIn[122], line 1\u001b[0m\n\u001b[0;32m----> 1\u001b[0m \u001b[43mroot\u001b[49m\u001b[38;5;241;43m.\u001b[39;49m\u001b[43mchildren\u001b[49m\u001b[43m[\u001b[49m\u001b[38;5;241;43m1\u001b[39;49m\u001b[43m]\u001b[49m\n",
      "\u001b[0;31mIndexError\u001b[0m: list index out of range"
     ]
    }
   ],
   "source": [
    "root.children[1]"
   ]
  },
  {
   "cell_type": "code",
   "execution_count": 104,
   "id": "14f16fd4-e329-4c59-aeb9-d79fe987585e",
   "metadata": {},
   "outputs": [
    {
     "data": {
      "text/plain": [
       "[1, 1]"
      ]
     },
     "execution_count": 104,
     "metadata": {},
     "output_type": "execute_result"
    }
   ],
   "source": [
    "[ x[0] for x in S ]"
   ]
  },
  {
   "cell_type": "code",
   "execution_count": 100,
   "id": "93b011c2-1eeb-4779-800f-199e12e25d21",
   "metadata": {},
   "outputs": [
    {
     "ename": "NameError",
     "evalue": "name 'pos' is not defined",
     "output_type": "error",
     "traceback": [
      "\u001b[0;31m---------------------------------------------------------------------------\u001b[0m",
      "\u001b[0;31mNameError\u001b[0m                                 Traceback (most recent call last)",
      "Cell \u001b[0;32mIn[100], line 1\u001b[0m\n\u001b[0;32m----> 1\u001b[0m \u001b[43mpos\u001b[49m\n",
      "\u001b[0;31mNameError\u001b[0m: name 'pos' is not defined"
     ]
    }
   ],
   "source": []
  },
  {
   "cell_type": "code",
   "execution_count": null,
   "id": "8e6bc1fa-35a9-407b-8371-26f62a94f5d9",
   "metadata": {},
   "outputs": [],
   "source": []
  }
 ],
 "metadata": {
  "kernelspec": {
   "display_name": "Python 3 (ipykernel)",
   "language": "python",
   "name": "python3"
  },
  "language_info": {
   "codemirror_mode": {
    "name": "ipython",
    "version": 3
   },
   "file_extension": ".py",
   "mimetype": "text/x-python",
   "name": "python",
   "nbconvert_exporter": "python",
   "pygments_lexer": "ipython3",
   "version": "3.10.13"
  }
 },
 "nbformat": 4,
 "nbformat_minor": 5
}
