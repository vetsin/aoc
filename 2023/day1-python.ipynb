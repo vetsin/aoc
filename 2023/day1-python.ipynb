{
 "cells": [
  {
   "cell_type": "code",
   "execution_count": 108,
   "id": "9d7ec84d",
   "metadata": {
    "ExecuteTime": {
     "end_time": "2023-12-02T00:21:48.525197Z",
     "start_time": "2023-12-02T00:21:48.520097Z"
    }
   },
   "outputs": [],
   "source": [
    "input = \"\"\"1abc2\n",
    "pqr3stu8vwx\n",
    "a1b2c3d4e5f\n",
    "treb7uchet\"\"\""
   ]
  },
  {
   "cell_type": "code",
   "execution_count": 57,
   "id": "636c7e73",
   "metadata": {
    "ExecuteTime": {
     "end_time": "2023-12-01T22:20:14.890122Z",
     "start_time": "2023-12-01T22:20:14.886752Z"
    }
   },
   "outputs": [],
   "source": [
    "with open('.day1-input.txt','r') as f:\n",
    "    input = f.read().strip()"
   ]
  },
  {
   "cell_type": "code",
   "execution_count": 58,
   "id": "7c17a935",
   "metadata": {
    "ExecuteTime": {
     "end_time": "2023-12-01T22:20:19.872876Z",
     "start_time": "2023-12-01T22:20:19.860040Z"
    }
   },
   "outputs": [
    {
     "data": {
      "text/plain": [
       "55208"
      ]
     },
     "execution_count": 58,
     "metadata": {},
     "output_type": "execute_result"
    }
   ],
   "source": [
    "total = 0\n",
    "for line in input.split('\\n'):\n",
    "    nums = [c for c in line if c.isnumeric()]\n",
    "    total += int(f\"{nums[0]}{nums[-1]}\")\n",
    "total"
   ]
  },
  {
   "cell_type": "markdown",
   "id": "af3c247b",
   "metadata": {},
   "source": [
    "# DEUX"
   ]
  },
  {
   "cell_type": "code",
   "execution_count": 73,
   "id": "795ecb30",
   "metadata": {
    "ExecuteTime": {
     "end_time": "2023-12-01T23:18:45.148155Z",
     "start_time": "2023-12-01T23:18:45.145132Z"
    }
   },
   "outputs": [],
   "source": [
    "input = \"\"\"two1nine\n",
    "eightwothree\n",
    "abcone2threexyz\n",
    "xtwone3four\n",
    "4nineeightseven2\n",
    "zoneight234\n",
    "7pqrstsixteen\"\"\""
   ]
  },
  {
   "cell_type": "code",
   "execution_count": 204,
   "id": "ecbb6120",
   "metadata": {
    "ExecuteTime": {
     "end_time": "2023-12-02T00:46:09.621723Z",
     "start_time": "2023-12-02T00:46:09.616492Z"
    }
   },
   "outputs": [],
   "source": [
    "with open('.day1-input-p2.txt','r') as f:\n",
    "    input = f.read().strip()"
   ]
  },
  {
   "cell_type": "code",
   "execution_count": 146,
   "id": "8f909eff",
   "metadata": {
    "ExecuteTime": {
     "end_time": "2023-12-02T00:32:52.339657Z",
     "start_time": "2023-12-02T00:32:52.289566Z"
    }
   },
   "outputs": [],
   "source": [
    "import pandas as pd\n",
    "from num2words import num2words"
   ]
  },
  {
   "cell_type": "code",
   "execution_count": 209,
   "id": "7c27f53b",
   "metadata": {
    "ExecuteTime": {
     "end_time": "2023-12-02T00:46:59.455830Z",
     "start_time": "2023-12-02T00:46:59.451117Z"
    }
   },
   "outputs": [],
   "source": [
    "numbers = dict(sum([ [(str(x),x), (num2words(x),x)] for x in range(1,10) ], []))\n",
    "pat = re.compile(f\"(?=({'|'.join(numbers)}))\")"
   ]
  },
  {
   "cell_type": "code",
   "execution_count": 211,
   "id": "f99f20d9",
   "metadata": {
    "ExecuteTime": {
     "end_time": "2023-12-02T00:47:10.055365Z",
     "start_time": "2023-12-02T00:47:10.038803Z"
    }
   },
   "outputs": [
    {
     "data": {
      "text/plain": [
       "54578"
      ]
     },
     "execution_count": 211,
     "metadata": {},
     "output_type": "execute_result"
    }
   ],
   "source": [
    "total = 0\n",
    "for line in input.split('\\n'):\n",
    "    nums = [ numbers[m.group(1)] for m in pat.finditer(line) ]\n",
    "    total += int(f\"{nums[0]}{nums[-1]}\")\n",
    "total"
   ]
  }
 ],
 "metadata": {
  "kernelspec": {
   "display_name": "Python 3 (ipykernel)",
   "language": "python",
   "name": "python3"
  },
  "language_info": {
   "codemirror_mode": {
    "name": "ipython",
    "version": 3
   },
   "file_extension": ".py",
   "mimetype": "text/x-python",
   "name": "python",
   "nbconvert_exporter": "python",
   "pygments_lexer": "ipython3",
   "version": "3.11.3"
  },
  "toc": {
   "base_numbering": 1,
   "nav_menu": {},
   "number_sections": false,
   "sideBar": false,
   "skip_h1_title": false,
   "title_cell": "Table of Contents",
   "title_sidebar": "Contents",
   "toc_cell": false,
   "toc_position": {},
   "toc_section_display": false,
   "toc_window_display": false
  }
 },
 "nbformat": 4,
 "nbformat_minor": 5
}
