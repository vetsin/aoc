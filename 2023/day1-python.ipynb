{
 "cells": [
  {
   "cell_type": "code",
   "execution_count": 1,
   "id": "9d7ec84d",
   "metadata": {
    "ExecuteTime": {
     "end_time": "2023-12-01T19:56:51.085759Z",
     "start_time": "2023-12-01T19:56:51.071232Z"
    }
   },
   "outputs": [],
   "source": [
    "input = \"\"\"1abc2\n",
    "pqr3stu8vwx\n",
    "a1b2c3d4e5f\n",
    "treb7uchet\"\"\""
   ]
  },
  {
   "cell_type": "code",
   "execution_count": 57,
   "id": "636c7e73",
   "metadata": {
    "ExecuteTime": {
     "end_time": "2023-12-01T22:20:14.890122Z",
     "start_time": "2023-12-01T22:20:14.886752Z"
    }
   },
   "outputs": [],
   "source": [
    "with open('.day1-input.txt','r') as f:\n",
    "    input = f.read().strip()"
   ]
  },
  {
   "cell_type": "code",
   "execution_count": 58,
   "id": "7c17a935",
   "metadata": {
    "ExecuteTime": {
     "end_time": "2023-12-01T22:20:19.872876Z",
     "start_time": "2023-12-01T22:20:19.860040Z"
    }
   },
   "outputs": [
    {
     "data": {
      "text/plain": [
       "55208"
      ]
     },
     "execution_count": 58,
     "metadata": {},
     "output_type": "execute_result"
    }
   ],
   "source": [
    "total = 0\n",
    "for line in input.split('\\n'):\n",
    "    nums = [c for c in line if c.isnumeric()]\n",
    "    total += int(f\"{nums[0]}{nums[-1]}\")\n",
    "total"
   ]
  },
  {
   "cell_type": "markdown",
   "id": "af3c247b",
   "metadata": {},
   "source": [
    "# DEUX"
   ]
  },
  {
   "cell_type": "code",
   "execution_count": 72,
   "id": "9bc932d8",
   "metadata": {
    "ExecuteTime": {
     "end_time": "2023-12-01T23:18:44.974107Z",
     "start_time": "2023-12-01T23:18:44.971885Z"
    }
   },
   "outputs": [],
   "source": [
    "import re"
   ]
  },
  {
   "cell_type": "code",
   "execution_count": 73,
   "id": "795ecb30",
   "metadata": {
    "ExecuteTime": {
     "end_time": "2023-12-01T23:18:45.148155Z",
     "start_time": "2023-12-01T23:18:45.145132Z"
    }
   },
   "outputs": [],
   "source": [
    "input = \"\"\"two1nine\n",
    "eightwothree\n",
    "abcone2threexyz\n",
    "xtwone3four\n",
    "4nineeightseven2\n",
    "zoneight234\n",
    "7pqrstsixteen\"\"\""
   ]
  },
  {
   "cell_type": "code",
   "execution_count": 74,
   "id": "f73c930a",
   "metadata": {
    "ExecuteTime": {
     "end_time": "2023-12-01T23:18:45.321891Z",
     "start_time": "2023-12-01T23:18:45.316948Z"
    }
   },
   "outputs": [],
   "source": [
    "numbers = [\"one\", \"two\", \"three\", \"four\", \"five\", \"six\", \"seven\", \"eight\", \"nine\"]\n",
    "pat = re.compile(f\"(?=({'|'.join(numbers)}))\")"
   ]
  },
  {
   "cell_type": "code",
   "execution_count": 105,
   "id": "d1475614",
   "metadata": {
    "ExecuteTime": {
     "end_time": "2023-12-01T23:24:45.461033Z",
     "start_time": "2023-12-01T23:24:45.455052Z"
    }
   },
   "outputs": [
    {
     "ename": "SyntaxError",
     "evalue": "Lambda expression parameters cannot be parenthesized (3177867862.py, line 1)",
     "output_type": "error",
     "traceback": [
      "\u001b[0;36m  Cell \u001b[0;32mIn[105], line 1\u001b[0;36m\u001b[0m\n\u001b[0;31m    map(lambda (k,v): (k,v), numbers)\u001b[0m\n\u001b[0m               ^\u001b[0m\n\u001b[0;31mSyntaxError\u001b[0m\u001b[0;31m:\u001b[0m Lambda expression parameters cannot be parenthesized\n"
     ]
    }
   ],
   "source": [
    "map(lambda (k,v): (k,v), numbers)"
   ]
  },
  {
   "cell_type": "code",
   "execution_count": 96,
   "id": "cf788d65",
   "metadata": {
    "ExecuteTime": {
     "end_time": "2023-12-01T23:22:59.150981Z",
     "start_time": "2023-12-01T23:22:59.143679Z"
    }
   },
   "outputs": [
    {
     "data": {
      "text/plain": [
       "'(?=(one|two|three|four|five|six|seven|eight|nine))'"
      ]
     },
     "execution_count": 96,
     "metadata": {},
     "output_type": "execute_result"
    }
   ],
   "source": [
    "f\"(?=({'|'.join(numbers)}))\""
   ]
  },
  {
   "cell_type": "code",
   "execution_count": 75,
   "id": "ecbb6120",
   "metadata": {
    "ExecuteTime": {
     "end_time": "2023-12-01T23:18:45.771659Z",
     "start_time": "2023-12-01T23:18:45.766203Z"
    }
   },
   "outputs": [],
   "source": [
    "with open('.day1-input-p2.txt','r') as f:\n",
    "    input = f.read().strip()"
   ]
  },
  {
   "cell_type": "code",
   "execution_count": 104,
   "id": "ba2de173",
   "metadata": {
    "ExecuteTime": {
     "end_time": "2023-12-01T23:24:19.772209Z",
     "start_time": "2023-12-01T23:24:19.765317Z"
    }
   },
   "outputs": [
    {
     "name": "stdout",
     "output_type": "stream",
     "text": [
      "-\n",
      "<re.Match object; span=(19, 19), match=''>\n",
      "two\n",
      "2\n",
      "-\n",
      "<re.Match object; span=(21, 21), match=''>\n",
      "one\n",
      "1\n"
     ]
    },
    {
     "data": {
      "text/plain": [
       "0"
      ]
     },
     "execution_count": 104,
     "metadata": {},
     "output_type": "execute_result"
    }
   ],
   "source": [
    "total = 0\n",
    "for (n, line) in enumerate(input.split('\\n')):\n",
    "    if line != \"gtzqvvsntvqnhrkxqb6twonebt\":\n",
    "        continue\n",
    "        \n",
    "    for m in pat.finditer(line):\n",
    "        print('-')\n",
    "        print(m)\n",
    "        print(m.group(1))\n",
    "        print(numbers.index(m.group(1))+1)\n",
    "\n",
    "    #    v = m.group(0)\n",
    "    #    line = line.replace(v, str(numbers.index(v)+1))\n",
    "    #nums = [c for c in line if c.isnumeric()]\n",
    "    #total += int(f\"{nums[0]}{nums[-1]}\")\n",
    "total"
   ]
  },
  {
   "cell_type": "code",
   "execution_count": null,
   "id": "8f909eff",
   "metadata": {},
   "outputs": [],
   "source": []
  }
 ],
 "metadata": {
  "kernelspec": {
   "display_name": "Python 3 (ipykernel)",
   "language": "python",
   "name": "python3"
  },
  "language_info": {
   "codemirror_mode": {
    "name": "ipython",
    "version": 3
   },
   "file_extension": ".py",
   "mimetype": "text/x-python",
   "name": "python",
   "nbconvert_exporter": "python",
   "pygments_lexer": "ipython3",
   "version": "3.11.3"
  },
  "toc": {
   "base_numbering": 1,
   "nav_menu": {},
   "number_sections": false,
   "sideBar": false,
   "skip_h1_title": false,
   "title_cell": "Table of Contents",
   "title_sidebar": "Contents",
   "toc_cell": false,
   "toc_position": {},
   "toc_section_display": false,
   "toc_window_display": false
  }
 },
 "nbformat": 4,
 "nbformat_minor": 5
}
