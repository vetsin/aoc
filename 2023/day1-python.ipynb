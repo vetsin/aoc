{
 "cells": [
  {
   "cell_type": "code",
   "execution_count": 1,
   "id": "f3e333b9",
   "metadata": {
    "ExecuteTime": {
     "end_time": "2023-12-01T19:56:51.085759Z",
     "start_time": "2023-12-01T19:56:51.071232Z"
    }
   },
   "outputs": [],
   "source": [
    "input = \"\"\"1abc2\n",
    "pqr3stu8vwx\n",
    "a1b2c3d4e5f\n",
    "treb7uchet\"\"\""
   ]
  },
  {
   "cell_type": "code",
   "execution_count": 11,
   "id": "b29dae70",
   "metadata": {
    "ExecuteTime": {
     "end_time": "2023-12-01T19:59:45.863801Z",
     "start_time": "2023-12-01T19:59:45.858457Z"
    }
   },
   "outputs": [],
   "source": [
    "with open('.day1-input.txt','r') as f:\n",
    "    input = f.read()"
   ]
  },
  {
   "cell_type": "code",
   "execution_count": 14,
   "id": "331ee412",
   "metadata": {
    "ExecuteTime": {
     "end_time": "2023-12-01T20:01:01.139126Z",
     "start_time": "2023-12-01T20:01:01.129341Z"
    }
   },
   "outputs": [
    {
     "data": {
      "text/plain": [
       "55208"
      ]
     },
     "execution_count": 14,
     "metadata": {},
     "output_type": "execute_result"
    }
   ],
   "source": [
    "total = 0\n",
    "for line in input.split('\\n'):\n",
    "    nums = [c for c in line if c.isnumeric()]\n",
    "    if nums:\n",
    "        total += int(f\"{nums[0]}{nums[-1]}\")\n",
    "total"
   ]
  }
 ],
 "metadata": {
  "kernelspec": {
   "display_name": "Python 3 (ipykernel)",
   "language": "python",
   "name": "python3"
  },
  "language_info": {
   "codemirror_mode": {
    "name": "ipython",
    "version": 3
   },
   "file_extension": ".py",
   "mimetype": "text/x-python",
   "name": "python",
   "nbconvert_exporter": "python",
   "pygments_lexer": "ipython3",
   "version": "3.11.3"
  },
  "toc": {
   "base_numbering": 1,
   "nav_menu": {},
   "number_sections": false,
   "sideBar": false,
   "skip_h1_title": false,
   "title_cell": "Table of Contents",
   "title_sidebar": "Contents",
   "toc_cell": false,
   "toc_position": {},
   "toc_section_display": false,
   "toc_window_display": false
  }
 },
 "nbformat": 4,
 "nbformat_minor": 5
}
