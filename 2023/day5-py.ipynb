{
 "cells": [
  {
   "cell_type": "code",
   "execution_count": 101,
   "id": "527c511b",
   "metadata": {},
   "outputs": [],
   "source": [
    "input = \"\"\"seeds: 79 14 55 13\n",
    "\n",
    "seed-to-soil map:\n",
    "50 98 2\n",
    "52 50 48\n",
    "\n",
    "soil-to-fertilizer map:\n",
    "0 15 37\n",
    "37 52 2\n",
    "39 0 15\n",
    "\n",
    "fertilizer-to-water map:\n",
    "49 53 8\n",
    "0 11 42\n",
    "42 0 7\n",
    "57 7 4\n",
    "\n",
    "water-to-light map:\n",
    "88 18 7\n",
    "18 25 70\n",
    "\n",
    "light-to-temperature map:\n",
    "45 77 23\n",
    "81 45 19\n",
    "68 64 13\n",
    "\n",
    "temperature-to-humidity map:\n",
    "0 69 1\n",
    "1 0 69\n",
    "\n",
    "humidity-to-location map:\n",
    "60 56 37\n",
    "56 93 4\"\"\""
   ]
  },
  {
   "cell_type": "code",
   "execution_count": 1,
   "id": "ddc736c2",
   "metadata": {},
   "outputs": [],
   "source": [
    "with open('.day5-input.txt', 'r') as f:\n",
    "    input = f.read()"
   ]
  },
  {
   "cell_type": "code",
   "execution_count": 2,
   "id": "8efb8164",
   "metadata": {},
   "outputs": [],
   "source": [
    "seeds, *rest = input.split('\\n\\n')\n",
    "seeds = [ int(x) for x in seeds[7:].split(' ') ]"
   ]
  },
  {
   "cell_type": "code",
   "execution_count": 3,
   "id": "19b5198b",
   "metadata": {},
   "outputs": [],
   "source": [
    "class Mapping:\n",
    "    def __init__(self, data):\n",
    "        self.srcs = []\n",
    "        self.dsts = []\n",
    "        self.name, *num_strs = data.strip().split('\\n')\n",
    "        # [dest] [src] [spread]\n",
    "        nums = [ [int(i) for i in x.split(' ')] for x in num_strs ]\n",
    "        for dst, src, spread in nums:\n",
    "            self.dsts.append(range(dst, dst+spread))\n",
    "            self.srcs.append(range(src, src+spread))\n",
    "    \n",
    "    def to(self, seed):\n",
    "        for src, dst in zip(self.srcs, self.dsts):\n",
    "            if seed in src:\n",
    "                return dst[src.index(seed)]\n",
    "        return seed\n",
    "                \n",
    "\n",
    "mappings = [ Mapping(e) for e in rest ]"
   ]
  },
  {
   "cell_type": "code",
   "execution_count": 4,
   "id": "9eeff72b",
   "metadata": {},
   "outputs": [
    {
     "data": {
      "text/plain": [
       "579439039"
      ]
     },
     "execution_count": 4,
     "metadata": {},
     "output_type": "execute_result"
    }
   ],
   "source": [
    "cache = {}\n",
    "def lookup(seeds):\n",
    "    lowest = None\n",
    "    for seed in seeds:\n",
    "        n = seed\n",
    "        if seed in cache:\n",
    "            n = cache[seed]\n",
    "        else:\n",
    "            for m in mappings:\n",
    "                n = m.to(n)\n",
    "            cache[seed] = n\n",
    "        if lowest is None or n < lowest:\n",
    "            lowest = n\n",
    "    return lowest\n",
    "lookup(seeds)"
   ]
  },
  {
   "cell_type": "code",
   "execution_count": 5,
   "id": "d9b48829",
   "metadata": {},
   "outputs": [
    {
     "data": {
      "text/plain": [
       "'seeds: 1514493331 295250933 3793791524 105394212 828589016 654882197 658370118 49359719 4055197159 59237418 314462259 268880047 2249227634 74967914 2370414906 38444198 3291001718 85800943 2102534948 5923540'"
      ]
     },
     "execution_count": 5,
     "metadata": {},
     "output_type": "execute_result"
    }
   ],
   "source": [
    "seeds, *_ = input.split('\\n\\n')\n",
    "seeds"
   ]
  },
  {
   "cell_type": "code",
   "execution_count": 6,
   "id": "8de5da4e",
   "metadata": {},
   "outputs": [],
   "source": [
    "it = iter(seeds[7:].split(' '))\n",
    "seed_ranges = [ range(int(x), int(x)+int(next(it))) for x in it ]"
   ]
  },
  {
   "cell_type": "code",
   "execution_count": 7,
   "id": "ab2f0951",
   "metadata": {},
   "outputs": [],
   "source": [
    "import itertools"
   ]
  },
  {
   "cell_type": "code",
   "execution_count": null,
   "id": "98b68f55",
   "metadata": {},
   "outputs": [],
   "source": [
    "lookup(itertools.chain(*seed_ranges))"
   ]
  },
  {
   "cell_type": "code",
   "execution_count": null,
   "id": "77befccd",
   "metadata": {},
   "outputs": [],
   "source": []
  }
 ],
 "metadata": {
  "kernelspec": {
   "display_name": "Python 3",
   "language": "python",
   "name": "python3"
  },
  "language_info": {
   "codemirror_mode": {
    "name": "ipython",
    "version": 3
   },
   "file_extension": ".py",
   "mimetype": "text/x-python",
   "name": "python",
   "nbconvert_exporter": "python",
   "pygments_lexer": "ipython3",
   "version": "3.8.5"
  }
 },
 "nbformat": 4,
 "nbformat_minor": 5
}
