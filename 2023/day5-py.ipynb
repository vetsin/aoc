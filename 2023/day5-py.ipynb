{
 "cells": [
  {
   "cell_type": "code",
   "execution_count": 1,
   "id": "527c511b",
   "metadata": {
    "ExecuteTime": {
     "end_time": "2023-12-05T20:34:59.811835Z",
     "start_time": "2023-12-05T20:34:59.800393Z"
    }
   },
   "outputs": [],
   "source": [
    "input = \"\"\"seeds: 79 14 55 13\n",
    "\n",
    "seed-to-soil map:\n",
    "50 98 2\n",
    "52 50 48\n",
    "\n",
    "soil-to-fertilizer map:\n",
    "0 15 37\n",
    "37 52 2\n",
    "39 0 15\n",
    "\n",
    "fertilizer-to-water map:\n",
    "49 53 8\n",
    "0 11 42\n",
    "42 0 7\n",
    "57 7 4\n",
    "\n",
    "water-to-light map:\n",
    "88 18 7\n",
    "18 25 70\n",
    "\n",
    "light-to-temperature map:\n",
    "45 77 23\n",
    "81 45 19\n",
    "68 64 13\n",
    "\n",
    "temperature-to-humidity map:\n",
    "0 69 1\n",
    "1 0 69\n",
    "\n",
    "humidity-to-location map:\n",
    "60 56 37\n",
    "56 93 4\"\"\""
   ]
  },
  {
   "cell_type": "code",
   "execution_count": 2,
   "id": "ddc736c2",
   "metadata": {
    "ExecuteTime": {
     "end_time": "2023-12-05T20:35:04.599639Z",
     "start_time": "2023-12-05T20:35:04.596436Z"
    }
   },
   "outputs": [],
   "source": [
    "#with open('.day5-input.txt', 'r') as f:\n",
    "#    input = f.read()"
   ]
  },
  {
   "cell_type": "code",
   "execution_count": 3,
   "id": "8efb8164",
   "metadata": {
    "ExecuteTime": {
     "end_time": "2023-12-05T20:35:06.765942Z",
     "start_time": "2023-12-05T20:35:06.762251Z"
    }
   },
   "outputs": [],
   "source": [
    "seeds, *rest = input.split('\\n\\n')\n",
    "seeds = [ int(x) for x in seeds[7:].split(' ') ]"
   ]
  },
  {
   "cell_type": "code",
   "execution_count": 4,
   "id": "19b5198b",
   "metadata": {
    "ExecuteTime": {
     "end_time": "2023-12-05T20:35:07.042926Z",
     "start_time": "2023-12-05T20:35:07.037196Z"
    }
   },
   "outputs": [],
   "source": [
    "class Mapping:\n",
    "    def __init__(self, data):\n",
    "        self.srcs = []\n",
    "        self.dsts = []\n",
    "        self.name, *num_strs = data.strip().split('\\n')\n",
    "        # [dest] [src] [spread]\n",
    "        nums = [ [int(i) for i in x.split(' ')] for x in num_strs ]\n",
    "        for dst, src, spread in nums:\n",
    "            self.dsts.append(range(dst, dst+spread))\n",
    "            self.srcs.append(range(src, src+spread))\n",
    "    \n",
    "    def to(self, seed):\n",
    "        for src, dst in zip(self.srcs, self.dsts):\n",
    "            if seed in src:\n",
    "                return dst[src.index(seed)]\n",
    "        return seed\n",
    "                \n",
    "\n",
    "mappings = [ Mapping(e) for e in rest ]"
   ]
  },
  {
   "cell_type": "code",
   "execution_count": 5,
   "id": "9eeff72b",
   "metadata": {
    "ExecuteTime": {
     "end_time": "2023-12-05T20:35:07.614062Z",
     "start_time": "2023-12-05T20:35:07.607079Z"
    }
   },
   "outputs": [
    {
     "data": {
      "text/plain": [
       "35"
      ]
     },
     "execution_count": 5,
     "metadata": {},
     "output_type": "execute_result"
    }
   ],
   "source": [
    "def lookup(seeds):\n",
    "    lowest = float('inf')\n",
    "    for seed in seeds:\n",
    "        n = seed\n",
    "        for m in mappings:\n",
    "            n = m.to(n)\n",
    "        if n < lowest:\n",
    "            lowest = n\n",
    "    return lowest\n",
    "lookup(seeds)"
   ]
  },
  {
   "cell_type": "code",
   "execution_count": 6,
   "id": "d9b48829",
   "metadata": {
    "ExecuteTime": {
     "end_time": "2023-12-05T20:35:07.993148Z",
     "start_time": "2023-12-05T20:35:07.988398Z"
    }
   },
   "outputs": [
    {
     "data": {
      "text/plain": [
       "[range(79, 93), range(55, 68)]"
      ]
     },
     "execution_count": 6,
     "metadata": {},
     "output_type": "execute_result"
    }
   ],
   "source": [
    "seeds, *_ = input.split('\\n\\n')\n",
    "it = iter(seeds[7:].split(' '))\n",
    "seed_ranges = [ range(int(x), int(x)+int(next(it))) for x in it ]\n",
    "seed_ranges"
   ]
  },
  {
   "cell_type": "code",
   "execution_count": 7,
   "id": "551532ac",
   "metadata": {
    "ExecuteTime": {
     "end_time": "2023-12-05T20:35:08.520626Z",
     "start_time": "2023-12-05T20:35:08.511526Z"
    }
   },
   "outputs": [
    {
     "data": {
      "text/plain": [
       "[range(55, 68), range(79, 93)]"
      ]
     },
     "execution_count": 7,
     "metadata": {},
     "output_type": "execute_result"
    }
   ],
   "source": [
    "seed_ranges = sorted(seed_ranges, key=lambda r: r.start)\n",
    "def shorten(seed_ranges):\n",
    "    new_ranges = []\n",
    "    i = 0\n",
    "    while i < len(seed_ranges):\n",
    "        c = seed_ranges[i]\n",
    "        if i+1 >= len(seed_ranges):\n",
    "            new_ranges.append(c) \n",
    "            break\n",
    "        n = seed_ranges[i+1]\n",
    "        #print(f\"{c} to {n}\")\n",
    "        new_ranges = []\n",
    "        if c.stop < n.start:\n",
    "            new_ranges.append(c)\n",
    "        elif c.stop > n.stop:\n",
    "            i += 1 # skip next\n",
    "        elif c.stop < n.stop:\n",
    "            # they overlap, erge\n",
    "            new_ranges.append(range(c.start, n.stop))\n",
    "            i += 1 # skip next\n",
    "        #print(f\"\\tnew {new_ranges}\")\n",
    "        i += 1\n",
    "    if new_ranges != seed_ranges:\n",
    "        return shorten(new_ranges)\n",
    "    return new_ranges\n",
    "\n",
    "shorten(seed_ranges)"
   ]
  },
  {
   "cell_type": "code",
   "execution_count": 8,
   "id": "98b68f55",
   "metadata": {
    "ExecuteTime": {
     "end_time": "2023-12-05T20:35:09.154778Z",
     "start_time": "2023-12-05T20:35:09.152228Z"
    }
   },
   "outputs": [],
   "source": [
    "#import itertools\n",
    "#lookup(itertools.chain(*seed_ranges)) # oh god slow"
   ]
  },
  {
   "cell_type": "code",
   "execution_count": 9,
   "id": "b4fc7591",
   "metadata": {
    "ExecuteTime": {
     "end_time": "2023-12-05T20:35:09.524304Z",
     "start_time": "2023-12-05T20:35:09.514425Z"
    }
   },
   "outputs": [],
   "source": [
    "import asyncio\n",
    "from concurrent.futures import ProcessPoolExecutor\n",
    "import multiprocessing as mp"
   ]
  },
  {
   "cell_type": "code",
   "execution_count": 10,
   "id": "219b5413",
   "metadata": {
    "ExecuteTime": {
     "end_time": "2023-12-05T20:35:10.103489Z",
     "start_time": "2023-12-05T20:35:10.095215Z"
    }
   },
   "outputs": [],
   "source": [
    "def split(a, n):\n",
    "    k, m = divmod(len(a), n)\n",
    "    return (a[i*k+min(i, m):(i+1)*k+min(i+1, m)] for i in range(n))\n",
    "\n",
    "async def main():\n",
    "    loop = asyncio.get_running_loop()\n",
    "    \n",
    "    futures = []\n",
    "\n",
    "    with ProcessPoolExecutor(5, mp_context=mp.get_context('fork')) as pool:\n",
    "        for e in seed_ranges:\n",
    "            for part in split(e, 3): # 3 parts per, so len(seed_ranges)*3\n",
    "                #print(f\"Adding {part} to task... for {alookup}\")\n",
    "                r = loop.run_in_executor(pool, lookup, part)\n",
    "                futures.append(r)\n",
    "    \n",
    "    lowest = await asyncio.gather(*futures)\n",
    "    print(min(lowest))"
   ]
  },
  {
   "cell_type": "code",
   "execution_count": 11,
   "id": "a38b0afa",
   "metadata": {
    "ExecuteTime": {
     "end_time": "2023-12-05T20:35:10.769671Z",
     "start_time": "2023-12-05T20:35:10.730955Z"
    }
   },
   "outputs": [
    {
     "name": "stdout",
     "output_type": "stream",
     "text": [
      "46\n"
     ]
    }
   ],
   "source": [
    "await main() # still takes like an hour"
   ]
  },
  {
   "cell_type": "code",
   "execution_count": null,
   "id": "75f91438",
   "metadata": {},
   "outputs": [],
   "source": []
  }
 ],
 "metadata": {
  "kernelspec": {
   "display_name": "Python 3 (ipykernel)",
   "language": "python",
   "name": "python3"
  },
  "language_info": {
   "codemirror_mode": {
    "name": "ipython",
    "version": 3
   },
   "file_extension": ".py",
   "mimetype": "text/x-python",
   "name": "python",
   "nbconvert_exporter": "python",
   "pygments_lexer": "ipython3",
   "version": "3.11.3"
  },
  "toc": {
   "base_numbering": 1,
   "nav_menu": {},
   "number_sections": false,
   "sideBar": false,
   "skip_h1_title": false,
   "title_cell": "Table of Contents",
   "title_sidebar": "Contents",
   "toc_cell": false,
   "toc_position": {},
   "toc_section_display": false,
   "toc_window_display": false
  }
 },
 "nbformat": 4,
 "nbformat_minor": 5
}
