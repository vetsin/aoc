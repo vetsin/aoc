{
 "cells": [
  {
   "cell_type": "code",
   "execution_count": 7,
   "id": "7b4c9302",
   "metadata": {
    "ExecuteTime": {
     "end_time": "2023-12-01T19:18:52.439889Z",
     "start_time": "2023-12-01T19:18:51.896Z"
    }
   },
   "outputs": [],
   "source": [
    "let input = \"1abc2\n",
    "pqr3stu8vwx\n",
    "a1b2c3d4e5f\n",
    "treb7uchet\";"
   ]
  },
  {
   "cell_type": "code",
   "execution_count": 188,
   "id": "825a65a8",
   "metadata": {
    "ExecuteTime": {
     "end_time": "2023-12-01T21:34:52.957384Z",
     "start_time": "2023-12-01T21:34:52.264Z"
    }
   },
   "outputs": [],
   "source": [
    "use std::fs;\n",
    "let input = fs::read_to_string(\".day1-input.txt\").unwrap();"
   ]
  },
  {
   "cell_type": "code",
   "execution_count": 189,
   "id": "f511b211",
   "metadata": {
    "ExecuteTime": {
     "end_time": "2023-12-01T21:34:53.532430Z",
     "start_time": "2023-12-01T21:34:52.704Z"
    }
   },
   "outputs": [
    {
     "name": "stdout",
     "output_type": "stream",
     "text": [
      "55208\n"
     ]
    }
   ],
   "source": [
    "let mut total: u32 = 0;\n",
    "for line in input.lines() {\n",
    "    let nums: Vec<_> = line.chars().filter(|c| c.is_numeric()).collect();\n",
    "    let num = format!(\"{}{}\", nums.first().unwrap(), nums.last().unwrap());\n",
    "    total += num.parse::<u32>().unwrap();\n",
    "}\n",
    "println!(\"{}\",total);"
   ]
  },
  {
   "cell_type": "code",
   "execution_count": 383,
   "id": "272ee4b9",
   "metadata": {
    "ExecuteTime": {
     "end_time": "2023-12-01T23:30:43.589757Z",
     "start_time": "2023-12-01T23:30:43.015Z"
    }
   },
   "outputs": [],
   "source": [
    "let input = \"two1nine\n",
    "eightwothree\n",
    "abcone2threexyz\n",
    "xtwone3four\n",
    "4nineeightseven2\n",
    "zoneight234\n",
    "7pqrstsixteen\";"
   ]
  },
  {
   "cell_type": "code",
   "execution_count": 305,
   "id": "0905dafb",
   "metadata": {
    "ExecuteTime": {
     "end_time": "2023-12-01T23:03:40.152188Z",
     "start_time": "2023-12-01T23:03:36.364Z"
    }
   },
   "outputs": [],
   "source": [
    ":dep fancy-regex"
   ]
  },
  {
   "cell_type": "code",
   "execution_count": 490,
   "id": "6c65f701",
   "metadata": {
    "ExecuteTime": {
     "end_time": "2023-12-02T00:11:34.943207Z",
     "start_time": "2023-12-02T00:11:34.322Z"
    }
   },
   "outputs": [],
   "source": [
    "// no idea how to dynamically construct this\n",
    "const numbers: [(&str, usize); 18] = [\n",
    "    (\"one\",1), (\"1\", 1),\n",
    "    (\"two\",2), (\"2\", 2),\n",
    "    (\"three\",3), (\"3\", 3),\n",
    "    (\"four\",4), (\"4\", 4),\n",
    "    (\"five\",5), (\"5\", 5),\n",
    "    (\"six\",6), (\"6\", 6),\n",
    "    (\"seven\",7), (\"7\", 7),\n",
    "    (\"eight\",8), (\"8\", 8),\n",
    "    (\"nine\",9), (\"9\", 9)\n",
    "];\n",
    "let nummap: HashMap<&str, usize> = numbers.into();"
   ]
  },
  {
   "cell_type": "code",
   "execution_count": 492,
   "id": "e42361a5",
   "metadata": {
    "ExecuteTime": {
     "end_time": "2023-12-02T00:11:51.048305Z",
     "start_time": "2023-12-02T00:11:50.383Z"
    }
   },
   "outputs": [],
   "source": [
    "let k: Vec<_> = nummap.keys().cloned().collect();\n",
    "let pattern: String = format!(\"(?=({}))\", k.join(\"|\"));\n",
    "let re = Regex::new(&pattern).unwrap();"
   ]
  },
  {
   "cell_type": "code",
   "execution_count": 493,
   "id": "a6be8106",
   "metadata": {
    "ExecuteTime": {
     "end_time": "2023-12-02T00:11:53.163709Z",
     "start_time": "2023-12-02T00:11:52.564Z"
    }
   },
   "outputs": [],
   "source": [
    "let input = fs::read_to_string(\".day1-input-p2.txt\").unwrap();"
   ]
  },
  {
   "cell_type": "code",
   "execution_count": 494,
   "id": "95a76f9a",
   "metadata": {
    "ExecuteTime": {
     "end_time": "2023-12-02T00:11:53.769749Z",
     "start_time": "2023-12-02T00:11:52.805Z"
    }
   },
   "outputs": [
    {
     "name": "stdout",
     "output_type": "stream",
     "text": [
      "total 54578\n"
     ]
    }
   ],
   "source": [
    "let mut total: u32 = 0;\n",
    "for line in input.lines() {\n",
    "    let matches: Vec<_> = re.captures_iter(line).map(|m| m.unwrap().get(1).unwrap().as_str()).collect();\n",
    "    let nums: Vec<_> = matches.iter().map(|mat| nummap.get(mat).unwrap().to_string()).collect();\n",
    "    let num = format!(\"{}{}\", nums.first().unwrap(), nums.last().unwrap());\n",
    "    total += num.parse::<u32>().unwrap();\n",
    "}\n",
    "println!(\"total {}\",total);"
   ]
  },
  {
   "cell_type": "code",
   "execution_count": null,
   "id": "26202553",
   "metadata": {},
   "outputs": [],
   "source": []
  }
 ],
 "metadata": {
  "kernelspec": {
   "display_name": "Rust",
   "language": "rust",
   "name": "rust"
  },
  "language_info": {
   "codemirror_mode": "rust",
   "file_extension": ".rs",
   "mimetype": "text/rust",
   "name": "Rust",
   "pygment_lexer": "rust",
   "version": ""
  },
  "toc": {
   "base_numbering": 1,
   "nav_menu": {},
   "number_sections": false,
   "sideBar": false,
   "skip_h1_title": false,
   "title_cell": "Table of Contents",
   "title_sidebar": "Contents",
   "toc_cell": false,
   "toc_position": {},
   "toc_section_display": false,
   "toc_window_display": false
  }
 },
 "nbformat": 4,
 "nbformat_minor": 5
}
