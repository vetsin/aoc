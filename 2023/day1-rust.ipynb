{
 "cells": [
  {
   "cell_type": "code",
   "execution_count": 7,
   "id": "0acc9b5b",
   "metadata": {
    "ExecuteTime": {
     "end_time": "2023-12-01T19:18:52.439889Z",
     "start_time": "2023-12-01T19:18:51.896Z"
    }
   },
   "outputs": [],
   "source": [
    "let input = \"1abc2\n",
    "pqr3stu8vwx\n",
    "a1b2c3d4e5f\n",
    "treb7uchet\";"
   ]
  },
  {
   "cell_type": "code",
   "execution_count": 84,
   "id": "3012e0dc",
   "metadata": {
    "ExecuteTime": {
     "end_time": "2023-12-01T19:56:03.560555Z",
     "start_time": "2023-12-01T19:56:03.114Z"
    }
   },
   "outputs": [],
   "source": [
    "use std::fs;\n",
    "let input = fs::read_to_string(\".day1-input.txt\");"
   ]
  },
  {
   "cell_type": "code",
   "execution_count": 85,
   "id": "4265235b",
   "metadata": {
    "ExecuteTime": {
     "end_time": "2023-12-01T19:56:04.736470Z",
     "start_time": "2023-12-01T19:56:04.192Z"
    }
   },
   "outputs": [
    {
     "name": "stdout",
     "output_type": "stream",
     "text": [
      "55208\n"
     ]
    }
   ],
   "source": [
    "let mut total: u32 = 0;\n",
    "for line in input?.lines() {\n",
    "    let nums: Vec<_> = line.chars().filter(|c| c.is_numeric()).collect();\n",
    "    let num = format!(\"{}{}\", nums.first().unwrap(), nums.last().unwrap());\n",
    "    total += num.parse::<u32>().unwrap();\n",
    "}\n",
    "println!(\"{}\",total);"
   ]
  }
 ],
 "metadata": {
  "kernelspec": {
   "display_name": "Rust",
   "language": "rust",
   "name": "rust"
  },
  "language_info": {
   "codemirror_mode": "rust",
   "file_extension": ".rs",
   "mimetype": "text/rust",
   "name": "Rust",
   "pygment_lexer": "rust",
   "version": ""
  },
  "toc": {
   "base_numbering": 1,
   "nav_menu": {},
   "number_sections": false,
   "sideBar": false,
   "skip_h1_title": false,
   "title_cell": "Table of Contents",
   "title_sidebar": "Contents",
   "toc_cell": false,
   "toc_position": {},
   "toc_section_display": false,
   "toc_window_display": false
  }
 },
 "nbformat": 4,
 "nbformat_minor": 5
}
