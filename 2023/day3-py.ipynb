{
 "cells": [
  {
   "cell_type": "code",
   "execution_count": 1,
   "id": "e8d96bd2",
   "metadata": {},
   "outputs": [],
   "source": [
    "import numpy as np\n",
    "from scipy.ndimage import label, generate_binary_structure\n",
    "import scipy.ndimage as ndimage"
   ]
  },
  {
   "cell_type": "code",
   "execution_count": 198,
   "id": "8a3d9af7",
   "metadata": {},
   "outputs": [],
   "source": [
    "input = \"\"\"467..114..\n",
    "...*......\n",
    "..35..633.\n",
    "......#...\n",
    "617*......\n",
    ".....+.58.\n",
    "..592.....\n",
    "......755.\n",
    "...$.*....\n",
    ".664.598..\"\"\""
   ]
  },
  {
   "cell_type": "code",
   "execution_count": 191,
   "id": "f49139cf",
   "metadata": {},
   "outputs": [],
   "source": [
    "with open('day3-input.txt', 'r') as f:\n",
    "    input = f.read()"
   ]
  },
  {
   "cell_type": "code",
   "execution_count": 199,
   "id": "214cafc2",
   "metadata": {},
   "outputs": [
    {
     "data": {
      "text/plain": [
       "array([['4', '6', '7', '.', '.', '1', '1', '4', '.', '.'],\n",
       "       ['.', '.', '.', '*', '.', '.', '.', '.', '.', '.'],\n",
       "       ['.', '.', '3', '5', '.', '.', '6', '3', '3', '.'],\n",
       "       ['.', '.', '.', '.', '.', '.', '#', '.', '.', '.'],\n",
       "       ['6', '1', '7', '*', '.', '.', '.', '.', '.', '.'],\n",
       "       ['.', '.', '.', '.', '.', '+', '.', '5', '8', '.'],\n",
       "       ['.', '.', '5', '9', '2', '.', '.', '.', '.', '.'],\n",
       "       ['.', '.', '.', '.', '.', '.', '7', '5', '5', '.'],\n",
       "       ['.', '.', '.', '$', '.', '*', '.', '.', '.', '.'],\n",
       "       ['.', '6', '6', '4', '.', '5', '9', '8', '.', '.']], dtype='<U1')"
      ]
     },
     "execution_count": 199,
     "metadata": {},
     "output_type": "execute_result"
    }
   ],
   "source": [
    "data = np.array([ [c for c in l] for l in input.splitlines()])\n",
    "data"
   ]
  },
  {
   "cell_type": "code",
   "execution_count": 200,
   "id": "9f8ba311",
   "metadata": {},
   "outputs": [
    {
     "data": {
      "text/plain": [
       "array([[0, 0, 0, 0, 0, 0, 0, 0, 0, 0],\n",
       "       [0, 0, 0, 1, 0, 0, 0, 0, 0, 0],\n",
       "       [0, 0, 0, 0, 0, 0, 0, 0, 0, 0],\n",
       "       [0, 0, 0, 0, 0, 0, 1, 0, 0, 0],\n",
       "       [0, 0, 0, 1, 0, 0, 0, 0, 0, 0],\n",
       "       [0, 0, 0, 0, 0, 1, 0, 0, 0, 0],\n",
       "       [0, 0, 0, 0, 0, 0, 0, 0, 0, 0],\n",
       "       [0, 0, 0, 0, 0, 0, 0, 0, 0, 0],\n",
       "       [0, 0, 0, 1, 0, 1, 0, 0, 0, 0],\n",
       "       [0, 0, 0, 0, 0, 0, 0, 0, 0, 0]])"
      ]
     },
     "execution_count": 200,
     "metadata": {},
     "output_type": "execute_result"
    }
   ],
   "source": [
    "feats = np.where(~np.char.isnumeric(data) & (data != '.'), 1, 0)\n",
    "feats"
   ]
  },
  {
   "cell_type": "code",
   "execution_count": 201,
   "id": "2cb94427",
   "metadata": {},
   "outputs": [
    {
     "data": {
      "text/plain": [
       "array([[1, 1, 1, 0, 0, 1, 1, 1, 0, 0],\n",
       "       [0, 0, 0, 0, 0, 0, 0, 0, 0, 0],\n",
       "       [0, 0, 1, 1, 0, 0, 1, 1, 1, 0],\n",
       "       [0, 0, 0, 0, 0, 0, 0, 0, 0, 0],\n",
       "       [1, 1, 1, 0, 0, 0, 0, 0, 0, 0],\n",
       "       [0, 0, 0, 0, 0, 0, 0, 1, 1, 0],\n",
       "       [0, 0, 1, 1, 1, 0, 0, 0, 0, 0],\n",
       "       [0, 0, 0, 0, 0, 0, 1, 1, 1, 0],\n",
       "       [0, 0, 0, 0, 0, 0, 0, 0, 0, 0],\n",
       "       [0, 1, 1, 1, 0, 1, 1, 1, 0, 0]])"
      ]
     },
     "execution_count": 201,
     "metadata": {},
     "output_type": "execute_result"
    }
   ],
   "source": [
    "nums = np.where(np.char.isnumeric(data), 1, 0)\n",
    "nums"
   ]
  },
  {
   "cell_type": "code",
   "execution_count": 202,
   "id": "25efac0f",
   "metadata": {},
   "outputs": [
    {
     "data": {
      "text/plain": [
       "array([[ 1,  1,  1,  0,  0,  2,  2,  2,  0,  0],\n",
       "       [ 0,  0,  0,  0,  0,  0,  0,  0,  0,  0],\n",
       "       [ 0,  0,  3,  3,  0,  0,  4,  4,  4,  0],\n",
       "       [ 0,  0,  0,  0,  0,  0,  0,  0,  0,  0],\n",
       "       [ 5,  5,  5,  0,  0,  0,  0,  0,  0,  0],\n",
       "       [ 0,  0,  0,  0,  0,  0,  0,  6,  6,  0],\n",
       "       [ 0,  0,  7,  7,  7,  0,  0,  0,  0,  0],\n",
       "       [ 0,  0,  0,  0,  0,  0,  8,  8,  8,  0],\n",
       "       [ 0,  0,  0,  0,  0,  0,  0,  0,  0,  0],\n",
       "       [ 0,  9,  9,  9,  0, 10, 10, 10,  0,  0]], dtype=int32)"
      ]
     },
     "execution_count": 202,
     "metadata": {},
     "output_type": "execute_result"
    }
   ],
   "source": [
    "nstructure = [[0,0,0],\n",
    " [1,1,1],\n",
    " [0,0,0]]\n",
    "labeled_nums, nums_count = label(nums, structure=nstructure)\n",
    "labeled_nums"
   ]
  },
  {
   "cell_type": "code",
   "execution_count": 203,
   "id": "bf06af77",
   "metadata": {},
   "outputs": [
    {
     "data": {
      "text/plain": [
       "4361"
      ]
     },
     "execution_count": 203,
     "metadata": {},
     "output_type": "execute_result"
    }
   ],
   "source": [
    "def has_adjacent(labeled_nums, i, feat):\n",
    "    grouped = np.where(labeled_nums == i, 1, 0) + feat\n",
    "    labeled_grouped, _ = label(grouped, structure=generate_binary_structure(2,2))\n",
    "    mask = ndimage.sum(grouped, labeled_grouped , np.arange(0,1000))  > 1\n",
    "    sized = mask[labeled_grouped.ravel()].reshape(labeled_grouped.shape).astype(int)\n",
    "    result = sized - np.where(labeled_nums == i, 1, 0)\n",
    "    return result.any(), int(''.join(data[np.where(labeled_nums == i)]))\n",
    "\n",
    "total = 0\n",
    "for i in range(1, nums_count+1):\n",
    "    has, val = has_adjacent(labeled_nums, i, feats)\n",
    "    if has:\n",
    "        total += val\n",
    "total"
   ]
  },
  {
   "cell_type": "markdown",
   "id": "fada4c34",
   "metadata": {},
   "source": [
    "# Part 2"
   ]
  },
  {
   "cell_type": "code",
   "execution_count": 204,
   "id": "6ebcf90f",
   "metadata": {},
   "outputs": [
    {
     "data": {
      "text/plain": [
       "467835"
      ]
     },
     "execution_count": 204,
     "metadata": {},
     "output_type": "execute_result"
    }
   ],
   "source": [
    "stars = np.where(data == '*', 1, 0)\n",
    "star_label, star_count = label(stars)\n",
    "\n",
    "total = 0\n",
    "for i in range(1, star_count+1):\n",
    "    star = np.where(star_label == i, 1, 0)\n",
    "    labeled_gear, new_count = label(labeled_nums + star,  structure=generate_binary_structure(2,2))\n",
    "    if new_count != nums_count:\n",
    "        gear_label_value = labeled_gear[np.where(star == 1)][0]\n",
    "        # select only that label\n",
    "        interest = np.where(labeled_gear == gear_label_value, 1, 0)\n",
    "        # but then remove our star again\n",
    "        distinct, distinct_count = label(interest - star)\n",
    "        nums = []\n",
    "        for i in range(1, distinct_count+1):\n",
    "            num = int(''.join(data[np.where(distinct == i)]))\n",
    "            nums.append(num)\n",
    "        #print(nums)\n",
    "        l, r = list(map(int,nums))\n",
    "        total += l*r\n",
    "total"
   ]
  }
 ],
 "metadata": {
  "kernelspec": {
   "display_name": "Python 3 (ipykernel)",
   "language": "python",
   "name": "python3"
  },
  "language_info": {
   "codemirror_mode": {
    "name": "ipython",
    "version": 3
   },
   "file_extension": ".py",
   "mimetype": "text/x-python",
   "name": "python",
   "nbconvert_exporter": "python",
   "pygments_lexer": "ipython3",
   "version": "3.9.15"
  }
 },
 "nbformat": 4,
 "nbformat_minor": 5
}
