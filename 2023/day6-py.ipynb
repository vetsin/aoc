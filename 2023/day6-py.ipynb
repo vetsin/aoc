{
 "cells": [
  {
   "cell_type": "code",
   "execution_count": 1,
   "id": "81b3f1d8",
   "metadata": {},
   "outputs": [],
   "source": [
    "input = '''Time:      7  15   30\n",
    "Distance:  9  40  200'''"
   ]
  },
  {
   "cell_type": "code",
   "execution_count": 62,
   "id": "696f1ef1",
   "metadata": {},
   "outputs": [],
   "source": [
    "input = '''Time:        51     69     98     78\n",
    "Distance:   377   1171   1224   1505'''"
   ]
  },
  {
   "cell_type": "code",
   "execution_count": 63,
   "id": "b487b57e",
   "metadata": {},
   "outputs": [],
   "source": [
    "import re"
   ]
  },
  {
   "cell_type": "code",
   "execution_count": 64,
   "id": "2d9f22e6",
   "metadata": {},
   "outputs": [
    {
     "data": {
      "text/plain": [
       "[[51, 69, 98, 78], [377, 1171, 1224, 1505]]"
      ]
     },
     "execution_count": 64,
     "metadata": {},
     "output_type": "execute_result"
    }
   ],
   "source": [
    "data = [ [ int(i) for i in re.split(r'\\s+', l.split(':')[1].strip()) ] for l in input.splitlines() ]\n",
    "data"
   ]
  },
  {
   "cell_type": "code",
   "execution_count": 65,
   "id": "e3a9f259",
   "metadata": {},
   "outputs": [
    {
     "name": "stdout",
     "output_type": "stream",
     "text": [
      "51ms to 377mm is 34\n",
      "69ms to 1171mm is 8\n",
      "98ms to 1224mm is 69\n",
      "78ms to 1505mm is 7\n"
     ]
    },
    {
     "data": {
      "text/plain": [
       "131376"
      ]
     },
     "execution_count": 65,
     "metadata": {},
     "output_type": "execute_result"
    }
   ],
   "source": [
    "def distance(time_held, max_time):\n",
    "    return time_held * (max_time - time_held)\n",
    "\n",
    "def ways_to_win(max_time, record_distance):\n",
    "    ways = 0\n",
    "    for i in range(1, max_time):\n",
    "        if distance(i, max_time) > record_distance:\n",
    "            ways += 1\n",
    "    return ways\n",
    "\n",
    "total = 1\n",
    "for t, d in zip(*data):\n",
    "    w = ways_to_win(t, d)\n",
    "    total *= w\n",
    "total"
   ]
  },
  {
   "cell_type": "code",
   "execution_count": 69,
   "id": "35b11924",
   "metadata": {},
   "outputs": [
    {
     "data": {
      "text/plain": [
       "[51699878, 377117112241505]"
      ]
     },
     "execution_count": 69,
     "metadata": {},
     "output_type": "execute_result"
    }
   ],
   "source": [
    "data = [ int(''.join(re.split(r'\\s+', l.split(':')[1].strip()))) for l in input.splitlines() ]\n",
    "data"
   ]
  },
  {
   "cell_type": "code",
   "execution_count": 70,
   "id": "67dd9bb0",
   "metadata": {},
   "outputs": [
    {
     "data": {
      "text/plain": [
       "34123437"
      ]
     },
     "execution_count": 70,
     "metadata": {},
     "output_type": "execute_result"
    }
   ],
   "source": [
    "ways_to_win(data[0], data[1])"
   ]
  },
  {
   "cell_type": "code",
   "execution_count": null,
   "id": "b12f4992",
   "metadata": {},
   "outputs": [],
   "source": []
  }
 ],
 "metadata": {
  "kernelspec": {
   "display_name": "Python 3",
   "language": "python",
   "name": "python3"
  },
  "language_info": {
   "codemirror_mode": {
    "name": "ipython",
    "version": 3
   },
   "file_extension": ".py",
   "mimetype": "text/x-python",
   "name": "python",
   "nbconvert_exporter": "python",
   "pygments_lexer": "ipython3",
   "version": "3.8.5"
  }
 },
 "nbformat": 4,
 "nbformat_minor": 5
}
