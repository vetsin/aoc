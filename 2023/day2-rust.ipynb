{
 "cells": [
  {
   "cell_type": "code",
   "execution_count": 87,
   "id": "a96ff566",
   "metadata": {},
   "outputs": [],
   "source": [
    "let input = \"Game 1: 3 blue, 4 red; 1 red, 2 green, 6 blue; 2 green\n",
    "Game 2: 1 blue, 2 green; 3 green, 4 blue, 1 red; 1 green, 1 blue\n",
    "Game 3: 8 green, 6 blue, 20 red; 5 blue, 4 red, 13 green; 5 green, 1 red\n",
    "Game 4: 1 green, 3 red, 6 blue; 3 green, 6 red; 3 green, 15 blue, 14 red\n",
    "Game 5: 6 red, 1 blue, 3 green; 2 blue, 1 red, 2 green\";"
   ]
  },
  {
   "cell_type": "code",
   "execution_count": 79,
   "id": "9856bab7",
   "metadata": {},
   "outputs": [],
   "source": [
    "use std::fs;\n",
    "let input = fs::read_to_string(\".day2-input-p1.txt\").unwrap();"
   ]
  },
  {
   "cell_type": "code",
   "execution_count": 95,
   "id": "6d4a832b",
   "metadata": {},
   "outputs": [],
   "source": [
    "use std::str::FromStr;\n",
    "use core::cmp::Ordering;\n",
    "\n",
    "#[derive(Debug)]\n",
    "struct Reveal {\n",
    "    green: i32,\n",
    "    blue: i32,\n",
    "    red: i32\n",
    "}\n",
    "\n",
    "#[derive(Debug)]\n",
    "struct Game {\n",
    "    id: i32,\n",
    "    reveals: Vec<Reveal>\n",
    "}\n",
    "\n",
    "#[derive(Debug)]\n",
    "struct ParseError;\n",
    "\n",
    "impl FromStr for Reveal {\n",
    "    type Err = ParseError;\n",
    "    \n",
    "    fn from_str(s: &str) -> Result<Self, Self::Err> {\n",
    "        \n",
    "        let parts = s.split(\", \")\n",
    "            .map(|e| e.split_once(\" \"))\n",
    "            .filter_map(|e| e)\n",
    "            .collect::<Vec<_>>();\n",
    "        \n",
    "        let mut red: i32 = 0;\n",
    "        let mut green: i32 = 0;\n",
    "        let mut blue: i32 = 0;\n",
    "\n",
    "        for (count, color) in parts {\n",
    "            let c = count.parse::<i32>().map_err(|_| ParseError)?;\n",
    "            match color {\n",
    "                \"red\" => red = c,\n",
    "                \"green\" => green = c,\n",
    "                \"blue\" => blue = c,\n",
    "                _ => println!(\"how do i error?\")\n",
    "            }\n",
    "        }\n",
    "        Ok(Reveal { red: red, green: green, blue: blue})\n",
    "    }\n",
    "}\n",
    "\n",
    "impl FromStr for Game {\n",
    "    type Err = ParseError;\n",
    "    \n",
    "    fn from_str(s: &str) -> Result<Self, Self::Err> {\n",
    "        let (id, realstr) = s\n",
    "            .strip_prefix(\"Game \")\n",
    "            .and_then(|s| s.split_once(\": \"))\n",
    "            .ok_or(ParseError)?;\n",
    "        \n",
    "        let id_fromstr = id.parse::<i32>().map_err(|_| ParseError)?;\n",
    "        //println!(\"{}\",realstr);\n",
    "        \n",
    "        let reveals: Result<Vec<Reveal>, _> = realstr\n",
    "            .split(\"; \")\n",
    "            .map(Reveal::from_str)\n",
    "            .collect();\n",
    "        \n",
    "        Ok(Game { id: id_fromstr, reveals: reveals? })\n",
    "    }\n",
    "}\n",
    "\n",
    "fn fewest(game: &Game) -> Reveal {\n",
    "    let mut red: i32 = 0;\n",
    "    let mut green: i32 = 0;\n",
    "    let mut blue: i32 = 0;\n",
    "    \n",
    "    for reveal in game.reveals.iter() {\n",
    "        red = if reveal.red > red { reveal.red } else { red };\n",
    "        green = if reveal.green > green { reveal.green } else { green };\n",
    "        blue = if reveal.blue > blue { reveal.blue } else { blue };\n",
    "    }\n",
    "    \n",
    "    Reveal {\n",
    "        red: red,\n",
    "        green: green,\n",
    "        blue: blue\n",
    "    }\n",
    "}\n",
    "\n",
    "fn pow(reveal: &Reveal) -> i32 {\n",
    "    reveal.red * reveal.blue * reveal.green\n",
    "}\n",
    "\n",
    "fn could_roll(reveal: &Reveal, key: &Reveal) -> bool {\n",
    "    return reveal.red < key.red \n",
    "        && reveal.green < key.green \n",
    "        && reveal.blue < key.blue\n",
    "}"
   ]
  },
  {
   "cell_type": "code",
   "execution_count": 96,
   "id": "d3732530",
   "metadata": {},
   "outputs": [],
   "source": [
    "let key: Reveal = Reveal::from_str(\"12 red, 13 green, 14 blue\").unwrap();\n",
    "let games: Vec<Game> = input.lines().map(Game::from_str).filter_map(|x| x.ok()).collect();"
   ]
  },
  {
   "cell_type": "code",
   "execution_count": 97,
   "id": "d619d386",
   "metadata": {},
   "outputs": [
    {
     "name": "stdout",
     "output_type": "stream",
     "text": [
      "total is 8\n",
      "powtotal is 2286\n"
     ]
    }
   ],
   "source": [
    "let mut total = 0;\n",
    "let mut powtotal = 0;\n",
    "for game in games.iter() {\n",
    "    \n",
    "    if game.reveals.iter().all(|r| could_roll(r, &key)) {\n",
    "        total += game.id;\n",
    "    }\n",
    "    \n",
    "    powtotal += pow(&fewest(&game));\n",
    "}\n",
    "println!(\"total is {:?}\", total);\n",
    "println!(\"powtotal is {:?}\", powtotal);"
   ]
  },
  {
   "cell_type": "code",
   "execution_count": null,
   "id": "15efb7c5",
   "metadata": {},
   "outputs": [],
   "source": []
  }
 ],
 "metadata": {
  "kernelspec": {
   "display_name": "Rust",
   "language": "rust",
   "name": "rust"
  },
  "language_info": {
   "codemirror_mode": "rust",
   "file_extension": ".rs",
   "mimetype": "text/rust",
   "name": "Rust",
   "pygment_lexer": "rust",
   "version": ""
  }
 },
 "nbformat": 4,
 "nbformat_minor": 5
}
