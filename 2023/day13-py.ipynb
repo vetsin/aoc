{
 "cells": [
  {
   "cell_type": "code",
   "execution_count": 14,
   "id": "48fd2b08",
   "metadata": {},
   "outputs": [],
   "source": [
    "from aocd import get_data\n",
    "data = get_data(day=13, year=2023)"
   ]
  },
  {
   "cell_type": "code",
   "execution_count": 19,
   "id": "3f829c9b",
   "metadata": {},
   "outputs": [],
   "source": [
    "data = '''#.##..##.\n",
    "..#.##.#.\n",
    "##......#\n",
    "##......#\n",
    "..#.##.#.\n",
    "..##..##.\n",
    "#.#.##.#.\n",
    "\n",
    "#...##..#\n",
    "#....#..#\n",
    "..##..###\n",
    "#####.##.\n",
    "#####.##.\n",
    "..##..###\n",
    "#....#..#'''"
   ]
  },
  {
   "cell_type": "code",
   "execution_count": 131,
   "id": "86b7440f",
   "metadata": {},
   "outputs": [],
   "source": [
    "import numpy as np\n",
    "from scipy import ndimage\n",
    "%matplotlib inline\n",
    "import matplotlib.pyplot as plt\n",
    "import math"
   ]
  },
  {
   "cell_type": "code",
   "execution_count": 60,
   "id": "8d905b70",
   "metadata": {},
   "outputs": [],
   "source": [
    "def render(i):\n",
    "    plt.axis('off')\n",
    "    plt.imshow(i, cmap='hot', interpolation='none')"
   ]
  },
  {
   "cell_type": "code",
   "execution_count": 20,
   "id": "4ee56f75",
   "metadata": {},
   "outputs": [],
   "source": [
    "boards = [ np.array([ list(y) for y in x.splitlines() ]) for x in data.split('\\n\\n') ]"
   ]
  },
  {
   "cell_type": "code",
   "execution_count": 154,
   "id": "632fa346",
   "metadata": {},
   "outputs": [
    {
     "data": {
      "text/plain": [
       "array([[1, 0, 1, 1, 0, 0, 1, 1, 0],\n",
       "       [0, 0, 1, 0, 1, 1, 0, 1, 0],\n",
       "       [1, 1, 0, 0, 0, 0, 0, 0, 1],\n",
       "       [1, 1, 0, 0, 0, 0, 0, 0, 1],\n",
       "       [0, 0, 1, 0, 1, 1, 0, 1, 0],\n",
       "       [0, 0, 1, 1, 0, 0, 1, 1, 0],\n",
       "       [1, 0, 1, 0, 1, 1, 0, 1, 0]])"
      ]
     },
     "execution_count": 154,
     "metadata": {},
     "output_type": "execute_result"
    },
    {
     "data": {
      "image/png": "[encoded data removed]",
      "text/plain": [
       "<Figure size 432x288 with 1 Axes>"
      ]
     },
     "metadata": {
      "needs_background": "light"
     },
     "output_type": "display_data"
    }
   ],
   "source": [
    "board = boards[0]\n"
   ]
  },
  {
   "cell_type": "code",
   "execution_count": 202,
   "id": "47c8fc51",
   "metadata": {},
   "outputs": [
    {
     "name": "stdout",
     "output_type": "stream",
     "text": [
      "l [['.' '.' '#' '.' '#' '#' '.' '#' '.']\n",
      " ['#' '#' '.' '.' '.' '.' '.' '.' '#']\n",
      " ['#' '#' '.' '.' '.' '.' '.' '.' '#']]\n",
      "r [['.' '.' '#' '.' '#' '#' '.' '#' '.']\n",
      " ['.' '.' '#' '#' '.' '.' '#' '#' '.']\n",
      " ['#' '.' '#' '.' '#' '#' '.' '#' '.']]\n",
      "\n",
      "l [['#' '.' '#' '#' '.' '.' '#' '#' '.']\n",
      " ['.' '.' '#' '.' '#' '#' '.' '#' '.']\n",
      " ['#' '#' '.' '.' '.' '.' '.' '.' '#']]\n",
      "r [['#' '#' '.' '.' '.' '.' '.' '.' '#']\n",
      " ['.' '.' '#' '.' '#' '#' '.' '#' '.']\n",
      " ['.' '.' '#' '#' '.' '.' '#' '#' '.']]\n",
      "\n",
      "l [['.' '#' '#' '.']\n",
      " ['.' '#' '.' '#']\n",
      " ['#' '.' '.' '.']\n",
      " ['#' '.' '.' '.']\n",
      " ['.' '#' '.' '#']\n",
      " ['.' '#' '#' '.']\n",
      " ['.' '#' '.' '#']]\n",
      "r [['.' '#' '#' '.']\n",
      " ['#' '.' '#' '.']\n",
      " ['.' '.' '.' '#']\n",
      " ['.' '.' '.' '#']\n",
      " ['#' '.' '#' '.']\n",
      " ['.' '#' '#' '.']\n",
      " ['#' '.' '#' '.']]\n",
      "\n",
      "l [['#' '.' '#' '#']\n",
      " ['.' '.' '#' '.']\n",
      " ['#' '#' '.' '.']\n",
      " ['#' '#' '.' '.']\n",
      " ['.' '.' '#' '.']\n",
      " ['.' '.' '#' '#']\n",
      " ['#' '.' '#' '.']]\n",
      "r [['.' '.' '#' '#']\n",
      " ['#' '#' '.' '#']\n",
      " ['.' '.' '.' '.']\n",
      " ['.' '.' '.' '.']\n",
      " ['#' '#' '.' '#']\n",
      " ['.' '.' '#' '#']\n",
      " ['#' '#' '.' '#']]\n",
      "\n"
     ]
    }
   ],
   "source": [
    "def split(board, axis=1):\n",
    "    side = board.shape[axis]\n",
    "    min_sides = math.floor(side/2)\n",
    "    to_cut = side - (min_sides*2)\n",
    "    \n",
    "    if axis == 1:\n",
    "        slices = [board[:,to_cut:], board[:,:to_cut*-1]]\n",
    "    else:\n",
    "        slices = [board[to_cut:], board[:to_cut*-1]]\n",
    "    for s in slices:\n",
    "        yield np.split(s, 2, axis=axis)\n",
    "\n",
    "def equals(l, r, axis=1):\n",
    "    if axis == 0:\n",
    "        return (l == r[...,:,::-1]).all()\n",
    "    else:\n",
    "        return (l == r[...,::-1,:]).all()\n",
    "\n",
    "for board in boards:\n",
    "    #board = np.where(board == '#', 1, 0)\n",
    "    for a in 0,1:\n",
    "        for l, r in split(board, axis=a):\n",
    "            print('l', l)\n",
    "            print('r', r)\n",
    "            print('')\n",
    "            if equals(l, r, a):\n",
    "                print('got it')\n",
    "    break\n",
    "    # try to "
   ]
  },
  {
   "cell_type": "code",
   "execution_count": 173,
   "id": "4d91065b",
   "metadata": {},
   "outputs": [
    {
     "data": {
      "text/plain": [
       "slice(1, 9, None)"
      ]
     },
     "execution_count": 173,
     "metadata": {},
     "output_type": "execute_result"
    }
   ],
   "source": [
    "slice(1, 9)"
   ]
  },
  {
   "cell_type": "code",
   "execution_count": 168,
   "id": "ff2e2cfe",
   "metadata": {},
   "outputs": [
    {
     "name": "stdout",
     "output_type": "stream",
     "text": [
      "yes\n"
     ]
    }
   ],
   "source": [
    "side = board.shape[1]\n",
    "min_sides = math.floor(side/2)\n",
    "to_cut = side - (min_sides*2)\n",
    "\n",
    "l, r = np.split(board[:,to_cut:], 2, axis=1)\n",
    "if (l == r[...,:,::-1]).all():\n",
    "    print('yes')"
   ]
  },
  {
   "cell_type": "code",
   "execution_count": 142,
   "id": "8fe8005e",
   "metadata": {},
   "outputs": [
    {
     "name": "stdout",
     "output_type": "stream",
     "text": [
      "yes mirror\n"
     ]
    }
   ],
   "source": [
    "min_sides = math.floor(board.shape[0]/2)\n",
    "to_cut = board.shape[0] - (min_sides*2)\n",
    "\n",
    "l, r = np.split(board[to_cut:], 2)\n",
    "if (l == r[...,::-1,:]).all():\n",
    "    print('yes mirror')\n",
    "else:\n",
    "    l, r = np.split(board[:to_cut], 2)\n",
    "    if (l == r[...,::-1,:]).all():\n",
    "        print('yes mirror other')"
   ]
  },
  {
   "cell_type": "code",
   "execution_count": null,
   "id": "d95a3d3a",
   "metadata": {},
   "outputs": [],
   "source": []
  }
 ],
 "metadata": {
  "kernelspec": {
   "display_name": "Python 3",
   "language": "python",
   "name": "python3"
  },
  "language_info": {
   "codemirror_mode": {
    "name": "ipython",
    "version": 3
   },
   "file_extension": ".py",
   "mimetype": "text/x-python",
   "name": "python",
   "nbconvert_exporter": "python",
   "pygments_lexer": "ipython3",
   "version": "3.8.5"
  }
 },
 "nbformat": 4,
 "nbformat_minor": 5
}
