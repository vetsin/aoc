{
 "cells": [
  {
   "cell_type": "code",
   "execution_count": 88,
   "id": "d7ccb07e-d3c5-429f-92a9-cb291f9cfd3b",
   "metadata": {},
   "outputs": [],
   "source": [
    "data = '''R 6 (#70c710)\n",
    "D 5 (#0dc571)\n",
    "L 2 (#5713f0)\n",
    "D 2 (#d2c081)\n",
    "R 2 (#59c680)\n",
    "D 2 (#411b91)\n",
    "L 5 (#8ceee2)\n",
    "U 2 (#caa173)\n",
    "L 1 (#1b58a2)\n",
    "U 2 (#caa171)\n",
    "R 2 (#7807d2)\n",
    "U 3 (#a77fa3)\n",
    "L 2 (#015232)\n",
    "U 2 (#7a21e3)'''"
   ]
  },
  {
   "cell_type": "code",
   "execution_count": 142,
   "id": "0175222d-945a-4109-886b-ac24939c93cb",
   "metadata": {},
   "outputs": [],
   "source": [
    "from aocd import get_data\n",
    "data = get_data(day=18, year=2023)"
   ]
  },
  {
   "cell_type": "code",
   "execution_count": 2,
   "id": "8022a457-c223-40ed-a5e3-0f9c4a8f7a2d",
   "metadata": {},
   "outputs": [],
   "source": [
    "import numpy as np\n",
    "from skimage import draw\n",
    "from scipy import ndimage\n",
    "%matplotlib inline\n",
    "import matplotlib.pyplot as plt"
   ]
  },
  {
   "cell_type": "code",
   "execution_count": 143,
   "id": "cdef5c64-f9f4-4aeb-8e64-5111f70b17ed",
   "metadata": {},
   "outputs": [],
   "source": [
    "ilines = [ l.split(' ') for l in data.split('\\n') ]\n",
    "instructions = []\n",
    "for d,c,h in ilines:\n",
    "    match d:\n",
    "        case 'U': dd = (-1,0)\n",
    "        case 'D': dd = (1,0)\n",
    "        case 'L': dd = (0,-1)\n",
    "        case 'R': dd = (0,1)\n",
    "    dd = np.array(dd)\n",
    "    c = int(c)\n",
    "    h = h[1:-1]\n",
    "    instructions.append((d,dd,c,h))\n",
    "#instructions  "
   ]
  },
  {
   "cell_type": "code",
   "execution_count": 148,
   "id": "cdbf9911-71a7-497b-85b8-0a0692ba8117",
   "metadata": {},
   "outputs": [
    {
     "data": {
      "image/png": "[encoded data removed]",
      "text/plain": [
       "<Figure size 640x480 with 1 Axes>"
      ]
     },
     "metadata": {},
     "output_type": "display_data"
    }
   ],
   "source": [
    "# just make it large who cares\n",
    "artibrary_large = 500\n",
    "board = np.zeros((artibrary_large,artibrary_large), dtype=int)\n",
    "start = np.array((artibrary_large//2,artibrary_large//2))\n",
    "for d, dd, c, h in instructions:\n",
    "    c = start+(dd*c)\n",
    "        \n",
    "    rr, cc = draw.line(*start, *c)\n",
    "    board[rr, cc] = 1\n",
    "    start = c\n",
    "board\n",
    "plt.imshow(board, interpolation='nearest', aspect='auto')\n",
    "plt.show()"
   ]
  },
  {
   "cell_type": "code",
   "execution_count": 158,
   "id": "30a48f29-e89e-402f-8bfc-ade5178d2ad0",
   "metadata": {},
   "outputs": [
    {
     "data": {
      "image/png": "[encoded data removed]",
      "text/plain": [
       "<Figure size 640x480 with 1 Axes>"
      ]
     },
     "metadata": {},
     "output_type": "display_data"
    }
   ],
   "source": [
    "board = ndimage.binary_fill_holes(board).astype(int)\n",
    "plt.imshow(board, interpolation='nearest', aspect='auto')\n",
    "plt.show()"
   ]
  },
  {
   "cell_type": "code",
   "execution_count": 159,
   "id": "82a4b097-7da6-4aec-a68e-65283b247cd3",
   "metadata": {},
   "outputs": [
    {
     "data": {
      "text/plain": [
       "48400"
      ]
     },
     "execution_count": 159,
     "metadata": {},
     "output_type": "execute_result"
    }
   ],
   "source": [
    "board.sum()"
   ]
  },
  {
   "cell_type": "code",
   "execution_count": 160,
   "id": "baa3b35b-902b-4bd0-9855-1b2f9eb5c61c",
   "metadata": {},
   "outputs": [],
   "source": [
    "def decode(hexstr):\n",
    "    distance = int(hexstr[1:6], 16)\n",
    "    direction = hexstr[6]\n",
    "    #0 means R, 1 means D, 2 means L, and 3 means U\n",
    "    match direction:\n",
    "        case '0': direction = 'R'\n",
    "        case '1': direction = 'D'\n",
    "        case '2': direction = 'L'\n",
    "        case '3': direction = 'U'\n",
    "    return direction, distance"
   ]
  },
  {
   "cell_type": "code",
   "execution_count": 161,
   "id": "3a9232cc-07fb-4957-9d91-3aaacd04a6d6",
   "metadata": {},
   "outputs": [],
   "source": [
    "instructions = []\n",
    "for _,_,h in ilines:\n",
    "    d, c = decode(h[1:-1])\n",
    "    match d:\n",
    "        case 'U': dd = (-1,0)\n",
    "        case 'D': dd = (1,0)\n",
    "        case 'L': dd = (0,-1)\n",
    "        case 'R': dd = (0,1)\n",
    "    dd = np.array(dd)\n",
    "    instructions.append((d,dd,c,h))\n",
    "#instructions  "
   ]
  },
  {
   "cell_type": "code",
   "execution_count": 162,
   "id": "d68d415e-efc6-45d1-8d07-b2f942b2b865",
   "metadata": {},
   "outputs": [],
   "source": [
    "poly = [(0,0)]\n",
    "start = np.array((0,0))\n",
    "for d, dd, c, _ in instructions:\n",
    "    c = start+dd*c\n",
    "    poly.append(tuple(c))\n",
    "    start = c"
   ]
  },
  {
   "cell_type": "code",
   "execution_count": 165,
   "id": "fa834e9a-db7c-40d7-831d-8afd1a646de2",
   "metadata": {},
   "outputs": [],
   "source": [
    "def picks_theorem(coordinates):\n",
    "    # Given a list of coordinates (vertices) of the polygon\n",
    "    n = len(coordinates)\n",
    "    \n",
    "    # Calculate the area of the polygon using Pick's Theorem\n",
    "    area = 0\n",
    "    \n",
    "    for i in range(n - 1):\n",
    "        x1, y1 = coordinates[i]\n",
    "        x2, y2 = coordinates[i + 1]\n",
    "        area += x1 * y2 - x2 * y1\n",
    "    \n",
    "    # Closing the loop by connecting the last and first points\n",
    "    x1, y1 = coordinates[n - 1]\n",
    "    x2, y2 = coordinates[0]\n",
    "    area += x1 * y2 - x2 * y1\n",
    "    \n",
    "    area = abs(area) / 2\n",
    "    \n",
    "    # Calculate the number of lattice points on the boundary\n",
    "    boundary_points = sum(abs(x1 - x2) + abs(y1 - y2) for (x1, y1), (x2, y2) in zip(coordinates, coordinates[1:]))\n",
    "    boundary_points += abs(coordinates[n - 1][0] - coordinates[0][0]) + abs(coordinates[n - 1][1] - coordinates[0][1])\n",
    "    \n",
    "    # Calculate the number of lattice points inside the polygon\n",
    "    interior_points = area - boundary_points / 2 + 1\n",
    "    \n",
    "    return int(area), int(interior_points), int(boundary_points)\n",
    "area, interior, bound = picks_theorem(poly)"
   ]
  },
  {
   "cell_type": "code",
   "execution_count": 166,
   "id": "927e6991-6236-4e9a-9ca5-e277be5a95ae",
   "metadata": {},
   "outputs": [
    {
     "data": {
      "text/plain": [
       "72811019847283"
      ]
     },
     "execution_count": 166,
     "metadata": {},
     "output_type": "execute_result"
    }
   ],
   "source": [
    "interior+bound"
   ]
  }
 ],
 "metadata": {
  "kernelspec": {
   "display_name": "Python 3 (ipykernel)",
   "language": "python",
   "name": "python3"
  },
  "language_info": {
   "codemirror_mode": {
    "name": "ipython",
    "version": 3
   },
   "file_extension": ".py",
   "mimetype": "text/x-python",
   "name": "python",
   "nbconvert_exporter": "python",
   "pygments_lexer": "ipython3",
   "version": "3.10.13"
  }
 },
 "nbformat": 4,
 "nbformat_minor": 5
}
