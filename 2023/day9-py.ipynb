{
 "cells": [
  {
   "cell_type": "code",
   "execution_count": 71,
   "id": "9fbf2931-6b07-4184-a26a-2ac6f781861f",
   "metadata": {},
   "outputs": [],
   "source": [
    "from aocd import get_data\n",
    "data = get_data(day=9, year=2023)"
   ]
  },
  {
   "cell_type": "code",
   "execution_count": 7,
   "id": "bb2a6db8-2c04-4591-b573-4625e8e400e5",
   "metadata": {},
   "outputs": [],
   "source": [
    "import numpy as np"
   ]
  },
  {
   "cell_type": "code",
   "execution_count": 3,
   "id": "2c0d61a7-f631-4e63-a49a-4c2e4cd11b13",
   "metadata": {},
   "outputs": [],
   "source": [
    "data = '''0 3 6 9 12 15\n",
    "1 3 6 10 15 21\n",
    "10 13 16 21 30 45'''"
   ]
  },
  {
   "cell_type": "code",
   "execution_count": 76,
   "id": "601bbbf7-11f1-4b3a-8c2e-655c0ba05f3c",
   "metadata": {},
   "outputs": [],
   "source": [
    "def do_thingy(lines):\n",
    "    nums = [ int(x) for x in lines ]\n",
    "    tail = [ nums[-1] ]\n",
    "    while True:\n",
    "        nums = np.diff(nums)\n",
    "        tail.append(nums[-1])\n",
    "        if all(v == 0 for v in nums):\n",
    "            break\n",
    "\n",
    "    c = np.cumsum(tail[::-1])\n",
    "    return c[-1]"
   ]
  },
  {
   "cell_type": "code",
   "execution_count": 77,
   "id": "b4cf5eb6-e27d-41e8-bade-a82774d9d265",
   "metadata": {},
   "outputs": [
    {
     "data": {
      "text/plain": [
       "1969958987"
      ]
     },
     "execution_count": 77,
     "metadata": {},
     "output_type": "execute_result"
    }
   ],
   "source": [
    "p1 = 0\n",
    "for line in data.splitlines():\n",
    "    p1 += do_thingy(line.split(' '))\n",
    "p1"
   ]
  },
  {
   "cell_type": "code",
   "execution_count": 47,
   "id": "044a7198-adb6-4428-ae27-136d6d22850f",
   "metadata": {},
   "outputs": [],
   "source": [
    "#p2"
   ]
  },
  {
   "cell_type": "code",
   "execution_count": 79,
   "id": "dccc96cb-473b-4839-af34-23b878b9ebf0",
   "metadata": {},
   "outputs": [
    {
     "data": {
      "text/plain": [
       "1068"
      ]
     },
     "execution_count": 79,
     "metadata": {},
     "output_type": "execute_result"
    }
   ],
   "source": [
    "p2 = 0\n",
    "for line in data.splitlines():\n",
    "    p2 += do_thingy(line.split(' ')[::-1])\n",
    "p2"
   ]
  }
 ],
 "metadata": {
  "kernelspec": {
   "display_name": "Python 3 (ipykernel)",
   "language": "python",
   "name": "python3"
  },
  "language_info": {
   "codemirror_mode": {
    "name": "ipython",
    "version": 3
   },
   "file_extension": ".py",
   "mimetype": "text/x-python",
   "name": "python",
   "nbconvert_exporter": "python",
   "pygments_lexer": "ipython3",
   "version": "3.10.13"
  }
 },
 "nbformat": 4,
 "nbformat_minor": 5
}
