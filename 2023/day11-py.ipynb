{
 "cells": [
  {
   "cell_type": "code",
   "execution_count": 1,
   "id": "e3c1aa78",
   "metadata": {},
   "outputs": [],
   "source": [
    "from aocd import get_data\n",
    "data = get_data(day=11, year=2023)"
   ]
  },
  {
   "cell_type": "code",
   "execution_count": 1,
   "id": "67f437dc",
   "metadata": {},
   "outputs": [],
   "source": [
    "data = '''...#......\n",
    ".......#..\n",
    "#.........\n",
    "..........\n",
    "......#...\n",
    ".#........\n",
    ".........#\n",
    "..........\n",
    ".......#..\n",
    "#...#.....'''"
   ]
  },
  {
   "cell_type": "code",
   "execution_count": 2,
   "id": "f0dac1ca",
   "metadata": {},
   "outputs": [],
   "source": [
    "import numpy as np\n",
    "from scipy import ndimage"
   ]
  },
  {
   "cell_type": "code",
   "execution_count": 23,
   "id": "ec18b1fc",
   "metadata": {},
   "outputs": [
    {
     "data": {
      "text/plain": [
       "array([[0, 0, 0, 0, 1, 0, 0, 0, 0, 0, 0, 0, 0],\n",
       "       [0, 0, 0, 0, 0, 0, 0, 0, 0, 0, 2, 0, 0],\n",
       "       [3, 0, 0, 0, 0, 0, 0, 0, 0, 0, 0, 0, 0],\n",
       "       [0, 0, 0, 0, 0, 0, 0, 0, 0, 0, 0, 0, 0],\n",
       "       [0, 0, 0, 0, 0, 0, 0, 0, 0, 0, 0, 0, 0],\n",
       "       [0, 0, 0, 0, 0, 0, 0, 0, 0, 4, 0, 0, 0],\n",
       "       [0, 5, 0, 0, 0, 0, 0, 0, 0, 0, 0, 0, 0],\n",
       "       [0, 0, 0, 0, 0, 0, 0, 0, 0, 0, 0, 0, 0],\n",
       "       [0, 0, 0, 0, 0, 0, 0, 0, 0, 0, 0, 0, 6],\n",
       "       [0, 0, 0, 0, 0, 0, 0, 0, 0, 0, 0, 0, 0],\n",
       "       [0, 0, 0, 0, 0, 0, 0, 0, 0, 0, 7, 0, 0],\n",
       "       [8, 0, 0, 0, 0, 0, 9, 0, 0, 0, 0, 0, 0]], dtype=int32)"
      ]
     },
     "execution_count": 23,
     "metadata": {},
     "output_type": "execute_result"
    }
   ],
   "source": [
    "m = np.array([ list(x) for x in data.splitlines() ])\n",
    "for y, row in enumerate(m):\n",
    "    if all(row == '.'):\n",
    "        m = np.insert(m, y, '.', axis=0)\n",
    "for x, col in enumerate(m.T):\n",
    "    if all(col == '.'):\n",
    "        m = np.insert(m, x, '.', axis=1)\n",
    "\n",
    "m = np.where(m == '#', 1, 0)\n",
    "labeled, lcount = ndimage.label(m)\n",
    "labeled"
   ]
  },
  {
   "cell_type": "code",
   "execution_count": 17,
   "id": "00496d81",
   "metadata": {},
   "outputs": [],
   "source": [
    "from scipy.spatial.distance import cdist\n",
    "\n",
    "def feature_dist(input):\n",
    "    \"\"\"\n",
    "    Takes a labeled array as returned by scipy.ndimage.label and \n",
    "    returns an intra-feature distance matrix.\n",
    "    \"\"\"\n",
    "    I, J = np.nonzero(input)\n",
    "    labels = input[I,J]\n",
    "    coords = np.column_stack((I,J))\n",
    "\n",
    "    sorter = np.argsort(labels)\n",
    "    labels = labels[sorter]\n",
    "    coords = coords[sorter]\n",
    "\n",
    "    sq_dists = cdist(coords, coords, 'sqeuclidean')\n",
    "\n",
    "    start_idx = np.flatnonzero(np.r_[1, np.diff(labels)])\n",
    "    nonzero_vs_feat = np.minimum.reduceat(sq_dists, start_idx, axis=1)\n",
    "    feat_vs_feat = np.minimum.reduceat(nonzero_vs_feat, start_idx, axis=0)\n",
    "\n",
    "    return np.sqrt(feat_vs_feat)"
   ]
  },
  {
   "cell_type": "code",
   "execution_count": 22,
   "id": "58a00fcb",
   "metadata": {},
   "outputs": [
    {
     "data": {
      "text/plain": [
       "array([[ 0.        ,  6.08276253,  4.47213595,  7.07106781,  6.70820393,\n",
       "        11.3137085 , 11.66190379, 11.70469991, 11.18033989],\n",
       "       [ 6.08276253,  0.        , 10.04987562,  4.12310563, 10.29563014,\n",
       "         7.28010989,  9.        , 14.14213562, 10.77032961],\n",
       "       [ 4.47213595, 10.04987562,  0.        ,  9.48683298,  4.12310563,\n",
       "        13.41640786, 12.80624847,  9.        , 10.81665383],\n",
       "       [ 7.07106781,  4.12310563,  9.48683298,  0.        ,  8.06225775,\n",
       "         4.24264069,  5.09901951, 10.81665383,  6.70820393],\n",
       "       [ 6.70820393, 10.29563014,  4.12310563,  8.06225775,  0.        ,\n",
       "        11.18033989,  9.8488578 ,  5.09901951,  7.07106781],\n",
       "       [11.3137085 ,  7.28010989, 13.41640786,  4.24264069, 11.18033989,\n",
       "         0.        ,  2.82842712, 12.36931688,  6.70820393],\n",
       "       [11.66190379,  9.        , 12.80624847,  5.09901951,  9.8488578 ,\n",
       "         2.82842712,  0.        , 10.04987562,  4.12310563],\n",
       "       [11.70469991, 14.14213562,  9.        , 10.81665383,  5.09901951,\n",
       "        12.36931688, 10.04987562,  0.        ,  6.        ],\n",
       "       [11.18033989, 10.77032961, 10.81665383,  6.70820393,  7.07106781,\n",
       "         6.70820393,  4.12310563,  6.        ,  0.        ]])"
      ]
     },
     "execution_count": 22,
     "metadata": {},
     "output_type": "execute_result"
    }
   ],
   "source": [
    "feature_dist(labeled)"
   ]
  },
  {
   "cell_type": "code",
   "execution_count": null,
   "id": "a984642f-35ea-478a-b644-4f0b9c6584d9",
   "metadata": {},
   "outputs": [],
   "source": []
  }
 ],
 "metadata": {
  "kernelspec": {
   "display_name": "Python 3 (ipykernel)",
   "language": "python",
   "name": "python3"
  },
  "language_info": {
   "codemirror_mode": {
    "name": "ipython",
    "version": 3
   },
   "file_extension": ".py",
   "mimetype": "text/x-python",
   "name": "python",
   "nbconvert_exporter": "python",
   "pygments_lexer": "ipython3",
   "version": "3.10.13"
  }
 },
 "nbformat": 4,
 "nbformat_minor": 5
}
