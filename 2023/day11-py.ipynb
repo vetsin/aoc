{
 "cells": [
  {
   "cell_type": "code",
   "execution_count": 447,
   "id": "e3c1aa78",
   "metadata": {},
   "outputs": [],
   "source": [
    "from aocd import get_data\n",
    "data = get_data(day=11, year=2023)"
   ]
  },
  {
   "cell_type": "code",
   "execution_count": 327,
   "id": "67f437dc",
   "metadata": {},
   "outputs": [],
   "source": [
    "data = '''...#......\n",
    ".......#..\n",
    "#.........\n",
    "..........\n",
    "......#...\n",
    ".#........\n",
    ".........#\n",
    "..........\n",
    ".......#..\n",
    "#...#.....'''"
   ]
  },
  {
   "cell_type": "code",
   "execution_count": 333,
   "id": "f0dac1ca",
   "metadata": {},
   "outputs": [],
   "source": [
    "import numpy as np\n",
    "from scipy import ndimage\n",
    "%matplotlib inline \n",
    "from matplotlib import pyplot as plt\n",
    "from itertools import combinations\n",
    "from scipy.spatial import distance"
   ]
  },
  {
   "cell_type": "code",
   "execution_count": 394,
   "id": "ec18b1fc",
   "metadata": {},
   "outputs": [],
   "source": [
    "'''\n",
    "expansion_value = 1\n",
    "m = np.array([ list(x) for x in data.splitlines() ])\n",
    "y_inserted = 1 \n",
    "for y, row in enumerate(m):\n",
    "    if all(row == '.'):\n",
    "        m = np.insert(m, [y+y_inserted]*expansion_value, ['.'], axis=0)\n",
    "        y_inserted += expansion_value\n",
    "        \n",
    "x_inserted = 1\n",
    "for x, col in enumerate(m.T):\n",
    "    if all(col == '.'):\n",
    "        m = np.insert(m, [x+x_inserted]*expansion_value, ['.'], axis=1)\n",
    "        x_inserted += expansion_value\n",
    "\n",
    "nm = np.where(m == '#', 1, 0)\n",
    "labeled, lcount = ndimage.label(nm)\n",
    "assert len(np.c_[np.where(m == '#')]) == lcount, 'uh oh we grouped some stars?'\n",
    "#labeled\n",
    "'''"
   ]
  },
  {
   "cell_type": "code",
   "execution_count": 448,
   "id": "05e3aba6",
   "metadata": {},
   "outputs": [],
   "source": [
    "m = np.array([ list(x) for x in data.splitlines() ])\n",
    "\n",
    "expandable_y = []\n",
    "for y, row in enumerate(m):\n",
    "    if all(row == '.'):\n",
    "        expandable_y.append(y+1)\n",
    "        \n",
    "expandable_x = []\n",
    "for x, col in enumerate(m.T):\n",
    "    if all(col == '.'):\n",
    "        expandable_x.append(x+1)\n",
    "        \n",
    "nm = np.where(m == '#', 1, 0)\n",
    "labeled, lcount = ndimage.label(nm)\n",
    "assert len(np.c_[np.where(m == '#')]) == lcount, 'uh oh we grouped some stars?'"
   ]
  },
  {
   "cell_type": "code",
   "execution_count": 449,
   "id": "f1dd7e62",
   "metadata": {},
   "outputs": [
    {
     "data": {
      "text/plain": [
       "[58, 70, 77, 94, 97, 110, 119]"
      ]
     },
     "execution_count": 449,
     "metadata": {},
     "output_type": "execute_result"
    }
   ],
   "source": [
    "expandable_y"
   ]
  },
  {
   "cell_type": "code",
   "execution_count": 450,
   "id": "e74ad886",
   "metadata": {},
   "outputs": [
    {
     "data": {
      "text/plain": [
       "[7, 51, 60, 68, 120]"
      ]
     },
     "execution_count": 450,
     "metadata": {},
     "output_type": "execute_result"
    }
   ],
   "source": [
    "expandable_x"
   ]
  },
  {
   "cell_type": "code",
   "execution_count": 452,
   "id": "c6f602f9",
   "metadata": {},
   "outputs": [
    {
     "data": {
      "text/plain": [
       "458191688761"
      ]
     },
     "execution_count": 452,
     "metadata": {},
     "output_type": "execute_result"
    }
   ],
   "source": [
    "def convert_expansion(pos, fac=2):\n",
    "    fac = fac - 1\n",
    "    y,x = pos\n",
    "    ny, nx = tuple(pos)\n",
    "    for ey in expandable_y:\n",
    "        if y >= ey:\n",
    "            ny += fac\n",
    "    for ex in expandable_x:\n",
    "        if x >= ex:\n",
    "            nx += fac\n",
    "    return (ny,nx)\n",
    "\n",
    "lsum = 0\n",
    "for s, g in combinations(range(1, lcount+1), 2):\n",
    "    start = np.c_[np.where(labeled == s)][0]\n",
    "    goal = np.c_[np.where(labeled == g)][0]\n",
    "    fac = 1000000\n",
    "    start = convert_expansion(start, fac)\n",
    "    goal = convert_expansion(goal, fac)\n",
    "    #print(f\"{s}({start}) to {g}({goal})\")\n",
    "    lsum += distance.cityblock(start, goal)\n",
    "lsum"
   ]
  }
 ],
 "metadata": {
  "kernelspec": {
   "display_name": "Python 3 (ipykernel)",
   "language": "python",
   "name": "python3"
  },
  "language_info": {
   "codemirror_mode": {
    "name": "ipython",
    "version": 3
   },
   "file_extension": ".py",
   "mimetype": "text/x-python",
   "name": "python",
   "nbconvert_exporter": "python",
   "pygments_lexer": "ipython3",
   "version": "3.9.15"
  }
 },
 "nbformat": 4,
 "nbformat_minor": 5
}
