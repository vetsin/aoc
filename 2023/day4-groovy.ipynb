{
 "cells": [
  {
   "cell_type": "code",
   "execution_count": 236,
   "id": "1bfe930e",
   "metadata": {
    "ExecuteTime": {
     "end_time": "2023-12-05T21:13:53.275000Z",
     "start_time": "2023-12-05T21:13:53.275+0000"
    }
   },
   "outputs": [
    {
     "name": "stdout",
     "output_type": "stream",
     "text": [
      "13.0\n",
      "30\n"
     ]
    },
    {
     "data": {
      "text/plain": [
       "null"
      ]
     },
     "execution_count": 236,
     "metadata": {},
     "output_type": "execute_result"
    }
   ],
   "source": [
    "def input = \"\"\"Card 1: 41 48 83 86 17 | 83 86  6 31 17  9 48 53\n",
    "Card 2: 13 32 20 16 61 | 61 30 68 82 17 32 24 19\n",
    "Card 3:  1 21 53 59 44 | 69 82 63 72 16 21 14  1\n",
    "Card 4: 41 92 73 84 69 | 59 84 76 51 58  5 54 83\n",
    "Card 5: 87 83 26 28 32 | 88 30 70 12 93 22 82 36\n",
    "Card 6: 31 18 13 56 72 | 74 77 10 23 35 67 36 11\"\"\"\n",
    "\n",
    "def cards = []\n",
    "for (line in input.readLines()) {\n",
    "    def (_, wins, mines) = (line =~ /([\\d\\s]+)\\|([\\d\\s]+)/)[0]*.strip()\n",
    "    def (winners, mine) = ([wins, mines]*.split(/\\s+/))\n",
    "    cards.add(winners*.toInteger().intersect(mine*.toInteger()))\n",
    "}\n",
    "// partone\n",
    "def part1 = cards*.size.findAll { it > 0 }.collect { pow(2, it-1) }.sum()\n",
    "println(part1)\n",
    "def to_process = cards*.size.collect { 1 }\n",
    "def part2 = to_process.eachWithIndex { _, idx -> \n",
    "    if(idxwinc = cards[idx].size) {\n",
    "        (1..idxwinc).forEach { \n",
    "            to_process[idx+it] += to_process[idx]\n",
    "        }\n",
    "    }\n",
    "}.sum()\n",
    "println(part2)"
   ]
  },
  {
   "cell_type": "code",
   "execution_count": null,
   "id": "c79beca7",
   "metadata": {},
   "outputs": [],
   "source": []
  }
 ],
 "metadata": {
  "kernelspec": {
   "display_name": "Groovy",
   "language": "groovy",
   "name": "groovy"
  },
  "language_info": {
   "codemirror_mode": "groovy",
   "file_extension": ".groovy",
   "mimetype": "",
   "name": "Groovy",
   "nbconverter_exporter": "",
   "version": "3.0.3"
  },
  "toc": {
   "base_numbering": 1,
   "nav_menu": {},
   "number_sections": false,
   "sideBar": false,
   "skip_h1_title": false,
   "title_cell": "Table of Contents",
   "title_sidebar": "Contents",
   "toc_cell": false,
   "toc_position": {},
   "toc_section_display": false,
   "toc_window_display": false
  }
 },
 "nbformat": 4,
 "nbformat_minor": 5
}
