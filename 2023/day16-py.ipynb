{
 "cells": [
  {
   "cell_type": "code",
   "execution_count": 25,
   "id": "0c93ac7e-84f8-466f-8e10-668f0b0543b9",
   "metadata": {},
   "outputs": [],
   "source": [
    "from aocd import get_data\n",
    "data = get_data(day=16, year=2023)"
   ]
  },
  {
   "cell_type": "code",
   "execution_count": 3,
   "id": "7a564026-c6e8-4759-b635-7129853dde70",
   "metadata": {},
   "outputs": [],
   "source": [
    "import numpy as np"
   ]
  },
  {
   "cell_type": "code",
   "execution_count": 38,
   "id": "174412c0-697e-4c99-9bba-75c86df77690",
   "metadata": {},
   "outputs": [],
   "source": [
    "with open('.day16.txt', 'r') as f:\n",
    "    data = f.read().strip()"
   ]
  },
  {
   "cell_type": "code",
   "execution_count": 39,
   "id": "c3af6ad3-8fcb-4c3c-911b-0344ab1032b3",
   "metadata": {},
   "outputs": [
    {
     "name": "stdout",
     "output_type": "stream",
     "text": [
      ".|...\\....\n",
      "|.-.\\.....\n",
      ".....|-...\n",
      "........|.\n",
      "..........\n",
      ".........\\\n",
      "..../.\\\\..\n",
      ".-.-/..|..\n",
      ".|....-|.\\\n",
      "..//.|....\n"
     ]
    }
   ],
   "source": [
    "board = np.array([ list(x) for x in data.split('\\n') ])\n",
    "energy = np.zeros(board.shape, dtype=int)\n",
    "for r in board:\n",
    "    print(''.join(r))"
   ]
  },
  {
   "cell_type": "code",
   "execution_count": null,
   "id": "3119d7cb-93b0-47d1-8b72-caa0471c90bf",
   "metadata": {},
   "outputs": [],
   "source": [
    "ships = [ E((0,0)) ]\n",
    "\n",
    "def Op:\n",
    "    def __init__(self, pos):\n",
    "        self.pos = pos\n",
    "class N:\n",
    "    pass\n",
    "\n",
    "class E:\n",
    "    def fly(self):\n",
    "        pass\n",
    "\n",
    "class S:\n",
    "    pass\n",
    "\n",
    "class W:\n",
    "    pass\n",
    "\n",
    "def fly(ship):\n",
    "    "
   ]
  }
 ],
 "metadata": {
  "kernelspec": {
   "display_name": "Python 3 (ipykernel)",
   "language": "python",
   "name": "python3"
  },
  "language_info": {
   "codemirror_mode": {
    "name": "ipython",
    "version": 3
   },
   "file_extension": ".py",
   "mimetype": "text/x-python",
   "name": "python",
   "nbconvert_exporter": "python",
   "pygments_lexer": "ipython3",
   "version": "3.10.8"
  }
 },
 "nbformat": 4,
 "nbformat_minor": 5
}
