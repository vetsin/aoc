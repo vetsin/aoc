{
 "cells": [
  {
   "cell_type": "code",
   "execution_count": 322,
   "id": "434c97c2-899a-4e2a-a7ca-a61a0a8a27e6",
   "metadata": {
    "ExecuteTime": {
     "end_time": "2023-12-12T21:47:05.203218Z",
     "start_time": "2023-12-12T21:47:05.196570Z"
    }
   },
   "outputs": [],
   "source": [
    "from aocd import get_data\n",
    "data = get_data(day=12, year=2023)"
   ]
  },
  {
   "cell_type": "code",
   "execution_count": 308,
   "id": "0e49b906-9d9c-4c22-bd6e-6c87c398ee02",
   "metadata": {
    "ExecuteTime": {
     "end_time": "2023-12-12T21:42:22.197861Z",
     "start_time": "2023-12-12T21:42:22.194749Z"
    }
   },
   "outputs": [],
   "source": [
    "data = '''???.### 1,1,3\n",
    ".??..??...?##. 1,1,3\n",
    "?#?#?#?#?#?#?#? 1,3,1,6\n",
    "????.#...#... 4,1,1\n",
    "????.######..#####. 1,6,5\n",
    "?###???????? 3,2,1'''"
   ]
  },
  {
   "cell_type": "code",
   "execution_count": 203,
   "id": "953feff9-58c4-4a08-8bd1-7a1a91f7eb50",
   "metadata": {
    "ExecuteTime": {
     "end_time": "2023-12-12T20:51:38.143926Z",
     "start_time": "2023-12-12T20:51:38.133114Z"
    }
   },
   "outputs": [],
   "source": [
    "import re\n",
    "import itertools\n",
    "from more_itertools import distinct_permutations"
   ]
  },
  {
   "cell_type": "code",
   "execution_count": 233,
   "id": "09a06d75",
   "metadata": {
    "ExecuteTime": {
     "end_time": "2023-12-12T21:03:34.277502Z",
     "start_time": "2023-12-12T21:03:34.273618Z"
    }
   },
   "outputs": [],
   "source": [
    "from cProfile import Profile\n",
    "from pstats import SortKey, Stats"
   ]
  },
  {
   "cell_type": "code",
   "execution_count": 325,
   "id": "88bcdf2d-e515-4359-86c6-dbe86bcf2f8a",
   "metadata": {
    "ExecuteTime": {
     "end_time": "2023-12-12T21:48:04.442851Z",
     "start_time": "2023-12-12T21:48:01.962479Z"
    },
    "scrolled": true
   },
   "outputs": [
    {
     "name": "stdout",
     "output_type": "stream",
     "text": [
      "8270\n",
      "         3380021 function calls in 2.471 seconds\n",
      "\n",
      "   Ordered by: call count\n",
      "\n",
      "   ncalls  tottime  percall  cumtime  percall filename:lineno(function)\n",
      "   849202    0.028    0.000    0.028    0.000 {built-in method builtins.len}\n",
      "   840929    1.066    0.000    1.822    0.000 /var/folders/5t/xztjvk6j5v98pymbd691_4080000gp/T/ipykernel_14128/3611103315.py:28(permutation)\n",
      "   840929    0.754    0.000    0.754    0.000 /Users/matthew.gill/.pyenv/versions/3.11.3/lib/python3.11/site-packages/more_itertools/more.py:664(_full)\n",
      "   839929    0.435    0.000    0.463    0.000 /var/folders/5t/xztjvk6j5v98pymbd691_4080000gp/T/ipykernel_14128/3611103315.py:1(is_valid)\n",
      "     2000    0.000    0.000    0.000    0.000 {method 'split' of 'str' objects}\n",
      "     2000    0.000    0.000    0.000    0.000 {method 'count' of 'str' objects}\n",
      "     1000    0.000    0.000    0.000    0.000 {built-in method builtins.sorted}\n",
      "     1000    0.000    0.000    0.000    0.000 {built-in method builtins.sum}\n",
      "     1000    0.001    0.000    0.001    0.000 /Users/matthew.gill/.pyenv/versions/3.11.3/lib/python3.11/site-packages/more_itertools/more.py:638(distinct_permutations)\n",
      "     1000    0.001    0.000    0.001    0.000 /var/folders/5t/xztjvk6j5v98pymbd691_4080000gp/T/ipykernel_14128/3611103315.py:33(<listcomp>)\n",
      "     1000    0.001    0.000    0.001    0.000 /var/folders/5t/xztjvk6j5v98pymbd691_4080000gp/T/ipykernel_14128/3611103315.py:49(<listcomp>)\n",
      "        3    0.000    0.000    0.000    0.000 {built-in method builtins.isinstance}\n",
      "        2    0.000    0.000    0.000    0.000 {built-in method posix.getpid}\n",
      "        2    0.000    0.000    0.000    0.000 {method 'write' of '_io.StringIO' objects}\n",
      "        2    0.000    0.000    0.000    0.000 {method '__exit__' of '_thread.RLock' objects}\n",
      "        2    0.000    0.000    0.000    0.000 /Users/matthew.gill/.pyenv/versions/3.11.3/lib/python3.11/site-packages/ipykernel/iostream.py:535(write)\n",
      "        2    0.000    0.000    0.000    0.000 /Users/matthew.gill/.pyenv/versions/3.11.3/lib/python3.11/site-packages/ipykernel/iostream.py:465(_schedule_flush)\n",
      "        2    0.000    0.000    0.000    0.000 /Users/matthew.gill/.pyenv/versions/3.11.3/lib/python3.11/site-packages/ipykernel/iostream.py:444(_is_master_process)\n",
      "        1    0.000    0.000    0.000    0.000 /Users/matthew.gill/.pyenv/versions/3.11.3/lib/python3.11/threading.py:1118(_wait_for_tstate_lock)\n",
      "        1    0.000    0.000    0.000    0.000 /Users/matthew.gill/.pyenv/versions/3.11.3/lib/python3.11/threading.py:568(is_set)\n",
      "        1    0.000    0.000    0.000    0.000 /Users/matthew.gill/.pyenv/versions/3.11.3/lib/python3.11/threading.py:1185(is_alive)\n",
      "        1    0.000    0.000    0.000    0.000 {method 'splitlines' of 'str' objects}\n",
      "        1    0.000    0.000    0.000    0.000 {built-in method builtins.hasattr}\n",
      "        1    0.000    0.000    0.000    0.000 {built-in method builtins.print}\n",
      "        1    0.000    0.000    0.000    0.000 {method 'append' of 'collections.deque' objects}\n",
      "        1    0.000    0.000    0.000    0.000 {method 'acquire' of '_thread.lock' objects}\n",
      "        1    0.000    0.000    0.000    0.000 {method 'disable' of '_lsprof.Profiler' objects}\n",
      "        1    0.000    0.000    0.000    0.000 /Users/matthew.gill/.pyenv/versions/3.11.3/lib/python3.11/pstats.py:118(init)\n",
      "        1    0.000    0.000    0.000    0.000 /Users/matthew.gill/.pyenv/versions/3.11.3/lib/python3.11/pstats.py:137(load_stats)\n",
      "        1    0.000    0.000    0.000    0.000 /Users/matthew.gill/.pyenv/versions/3.11.3/lib/python3.11/pstats.py:108(__init__)\n",
      "        1    0.000    0.000    0.000    0.000 /Users/matthew.gill/.pyenv/versions/3.11.3/lib/python3.11/site-packages/ipykernel/iostream.py:203(schedule)\n",
      "        1    0.000    0.000    0.000    0.000 /Users/matthew.gill/.pyenv/versions/3.11.3/lib/python3.11/cProfile.py:50(create_stats)\n",
      "        1    0.000    0.000    0.000    0.000 /Users/matthew.gill/.pyenv/versions/3.11.3/lib/python3.11/site-packages/ipykernel/iostream.py:90(_event_pipe)\n",
      "        1    0.185    0.185    2.470    2.470 /var/folders/5t/xztjvk6j5v98pymbd691_4080000gp/T/ipykernel_14128/3611103315.py:44(doit)\n",
      "        1    0.000    0.000    0.000    0.000 /Users/matthew.gill/.pyenv/versions/3.11.3/lib/python3.11/site-packages/zmq/sugar/socket.py:613(send)\n",
      "\n",
      "\n"
     ]
    }
   ],
   "source": [
    "def is_valid(spl, pat):\n",
    "    #print(pat)\n",
    "    counter = 0\n",
    "    pati = 0\n",
    "    patl = len(pat)\n",
    "    for c in spl:\n",
    "        if c == '#':\n",
    "            counter += 1\n",
    "        elif counter > 0 and pati < patl:\n",
    "            if counter != pat[pati]:\n",
    "                return False\n",
    "            #print('checked ', counter, '==', pat[pati])\n",
    "            pati += 1\n",
    "            counter = 0\n",
    "    if counter > 0 and pati < patl:\n",
    "        #print('checked ', counter, '==', pat[pati])\n",
    "        if counter != pat[pati]:\n",
    "            return False\n",
    "        pati += 1\n",
    "    if pati < len(pat):\n",
    "        return False\n",
    "    else:\n",
    "        return True\n",
    "    #return [ len(x) for x in ''.join(spl).split('.') if x ] == pat\n",
    "\n",
    "#is_valid('#.#.###', [1,1,3,4])\n",
    "\n",
    "def permutation(sp, arr):\n",
    "    lbs = sp.count('#')\n",
    "    qs = sp.count('?')\n",
    "    needed_lbs = sum(arr) - lbs\n",
    "    needed_dots = qs - needed_lbs\n",
    "    indexes = [ i for i,c in enumerate(sp) if c == '?' ]\n",
    "    \n",
    "    #if needed_lbs + needed_dots > len(indexes):\n",
    "    #    print('coulda skipped!!')\n",
    "    #    print(f\"    {sp} needs {needed_lbs}# and {needed_dots}. to match {arr}\")\n",
    "    for x in distinct_permutations((['#']*needed_lbs)+['.']*needed_dots):\n",
    "        spl = list(sp)\n",
    "        for qi, c in zip(indexes,x):\n",
    "            spl[qi] = c\n",
    "        yield spl\n",
    "        \n",
    "def smart_permutation(sp, arr):\n",
    "    lbs = sp.count('#')\n",
    "    qs = sp.count('?')\n",
    "    needed_lbs = sum(arr) - lbs\n",
    "    needed_dots = qs - needed_lbs\n",
    "    indexes = [ i for i,c in enumerate(sp) if c == '?' ]\n",
    "    \n",
    "    #if needed_lbs + needed_dots > len(indexes):\n",
    "    #    print('coulda skipped!!')\n",
    "    #    print(f\"    {sp} needs {needed_lbs}# and {needed_dots}. to match {arr}\")\n",
    "    for x in distinct_permutations((['#']*needed_lbs)+['.']*needed_dots):\n",
    "        spl = list(sp)\n",
    "        for qi, c in zip(indexes,x):\n",
    "            spl[qi] = c\n",
    "        yield spl\n",
    "\n",
    "def doit():\n",
    "    total = 0\n",
    "    for i, line in enumerate(data.splitlines()):\n",
    "        \n",
    "        sp, arr = line.split(' ')\n",
    "        arr = [ int(x) for x in arr.split(',') ]\n",
    "        #print('for', sp, arr)\n",
    "\n",
    "        for e in permutation(sp, arr):\n",
    "            if is_valid(e, arr):\n",
    "                #print('isvalid', e)\n",
    "                total += 1\n",
    "    return total\n",
    "    \n",
    "with Profile() as profile:\n",
    "    print(doit())\n",
    "    (\n",
    "        Stats(profile).sort_stats(SortKey.CALLS).print_stats()\n",
    "    )\n",
    "    \n"
   ]
  },
  {
   "cell_type": "code",
   "execution_count": 370,
   "id": "0e4438c3",
   "metadata": {
    "ExecuteTime": {
     "end_time": "2023-12-12T22:52:49.112486Z",
     "start_time": "2023-12-12T22:52:47.578086Z"
    }
   },
   "outputs": [
    {
     "data": {
      "text/plain": [
       "204640299929836"
      ]
     },
     "execution_count": 370,
     "metadata": {},
     "output_type": "execute_result"
    }
   ],
   "source": [
    "from functools import cache\n",
    "\n",
    "# this one goes to the internet, i was interested. very very fast.\n",
    "def total_combinations(springs, groups):\n",
    "    @cache\n",
    "    def combinations(i, j, r):\n",
    "        if j == len(groups):\n",
    "            return springs.count(\"#\", i) == 0\n",
    "        if i == len(springs):\n",
    "            return j == len(groups) - 1 and r == groups[j]\n",
    "        n = 0\n",
    "        if springs[i] != \".\":\n",
    "            n += combinations(i + 1, j, r + 1)\n",
    "        if springs[i] != \"#\":\n",
    "            if r == groups[j]:\n",
    "                n += combinations(i + 1, j + 1, 0)\n",
    "            elif r == 0:\n",
    "                n += combinations(i + 1, j, 0)\n",
    "        return n\n",
    "\n",
    "    return combinations(0, 0, 0)\n",
    "\n",
    "# thanks chatgpt\n",
    "@cache\n",
    "def count_arrangements(row, groups, done=0):\n",
    "    if not row:\n",
    "        return not groups and not done\n",
    "\n",
    "    total_arrangements = 0\n",
    "    row = row if row.endswith(\".\") else row + \".\"\n",
    "    \n",
    "    if row.startswith(\"?\"):\n",
    "        cells = \".#\"\n",
    "    else:\n",
    "        cells = row[:1]\n",
    "    \n",
    "    for cell in cells:\n",
    "        #print(current_group)\n",
    "        if cell == '#':\n",
    "        #if row.count('?', i) == current_group:\n",
    "            total_arrangements += count_arrangements(row[1:], groups, done+1)\n",
    "        elif done and groups and groups[0] == done:\n",
    "            total_arrangements += count_arrangements(row[1:], groups[1:])\n",
    "        elif not done:\n",
    "            total_arrangements += count_arrangements(row[1:], groups)\n",
    "    \n",
    "    return total_arrangements\n",
    "\n",
    "total = 0\n",
    "\n",
    "for i, line in enumerate(data.splitlines()):\n",
    "    sp, arr = line.split(' ')\n",
    "    arr = tuple([ int(x) for x in arr.split(',') ])\n",
    "    \n",
    "    sp = '?'.join([sp]*5)\n",
    "    arr = arr * 5\n",
    "    #total += total_combinations(sp, arr)\n",
    "    total += count_arrangements(sp, arr)\n",
    "total"
   ]
  },
  {
   "cell_type": "code",
   "execution_count": null,
   "id": "61f22562",
   "metadata": {},
   "outputs": [],
   "source": []
  }
 ],
 "metadata": {
  "kernelspec": {
   "display_name": "Python 3 (ipykernel)",
   "language": "python",
   "name": "python3"
  },
  "language_info": {
   "codemirror_mode": {
    "name": "ipython",
    "version": 3
   },
   "file_extension": ".py",
   "mimetype": "text/x-python",
   "name": "python",
   "nbconvert_exporter": "python",
   "pygments_lexer": "ipython3",
   "version": "3.11.3"
  },
  "toc": {
   "base_numbering": 1,
   "nav_menu": {},
   "number_sections": false,
   "sideBar": false,
   "skip_h1_title": false,
   "title_cell": "Table of Contents",
   "title_sidebar": "Contents",
   "toc_cell": false,
   "toc_position": {},
   "toc_section_display": false,
   "toc_window_display": false
  }
 },
 "nbformat": 4,
 "nbformat_minor": 5
}
