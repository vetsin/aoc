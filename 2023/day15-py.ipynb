{
 "cells": [
  {
   "cell_type": "code",
   "execution_count": 88,
   "id": "44b1167a",
   "metadata": {},
   "outputs": [],
   "source": [
    "from aocd import get_data\n",
    "data = get_data(day=15, year=2023)"
   ]
  },
  {
   "cell_type": "code",
   "execution_count": 24,
   "id": "01abee49",
   "metadata": {},
   "outputs": [],
   "source": [
    "import numpy as np\n",
    "import re"
   ]
  },
  {
   "cell_type": "code",
   "execution_count": 47,
   "id": "9a510502",
   "metadata": {},
   "outputs": [],
   "source": [
    "data = '''rn=1,cm-,qp=3,cm=2,qp-,pc=4,ot=9,ab=5,pc-,pc=6,ot=7'''"
   ]
  },
  {
   "cell_type": "code",
   "execution_count": 12,
   "id": "e907f54c",
   "metadata": {},
   "outputs": [],
   "source": [
    "def myhash(string):\n",
    "    cv = 0\n",
    "    for c in string:\n",
    "        cv += ord(c)\n",
    "        cv *= 17\n",
    "        cv = cv % 256\n",
    "    return cv"
   ]
  },
  {
   "cell_type": "code",
   "execution_count": 16,
   "id": "514de8e7",
   "metadata": {},
   "outputs": [
    {
     "data": {
      "text/plain": [
       "517965"
      ]
     },
     "execution_count": 16,
     "metadata": {},
     "output_type": "execute_result"
    }
   ],
   "source": [
    "total = 0\n",
    "for e in data.split(','):\n",
    "     total += myhash(e)\n",
    "total"
   ]
  },
  {
   "cell_type": "code",
   "execution_count": 56,
   "id": "3843efed",
   "metadata": {},
   "outputs": [],
   "source": [
    "from collections import OrderedDict"
   ]
  },
  {
   "cell_type": "code",
   "execution_count": 90,
   "id": "58135034",
   "metadata": {},
   "outputs": [],
   "source": [
    "re_label = re.compile(r'\\w+')\n",
    "re_op = re.compile(r'[=-]')\n",
    "re_focal = re.compile(r'\\d+')\n",
    "\n",
    "boxes = [ OrderedDict() for x in range(256) ]\n",
    "\n",
    "def debug():\n",
    "    for i, b in enumerate(boxes):\n",
    "        if len(b) > 0:\n",
    "            print(f\"Box {i}: {b}\")\n",
    "    print()\n",
    "\n",
    "for e in data.split(','):\n",
    "\n",
    "    label = re_label.search(e).group()\n",
    "    label_hash = myhash(label)\n",
    "    operation = re_op.search(e).group()\n",
    "    if operation == '=':\n",
    "        focal = int(re_focal.search(e).group())\n",
    "        boxes[label_hash][label] = focal\n",
    "    elif operation == '-':\n",
    "        if label in boxes[label_hash]:\n",
    "            del boxes[label_hash][label]\n",
    "    \n",
    "    #print(f\"After {e}\")\n",
    "    #debug()\n"
   ]
  },
  {
   "cell_type": "code",
   "execution_count": 91,
   "id": "4d34e96a",
   "metadata": {},
   "outputs": [
    {
     "data": {
      "text/plain": [
       "267372"
      ]
     },
     "execution_count": 91,
     "metadata": {},
     "output_type": "execute_result"
    }
   ],
   "source": [
    "total_powa = 0\n",
    "for i, box in enumerate(boxes, 1):\n",
    "    for j, p in enumerate(box.items(), 1):\n",
    "        label, lens = p\n",
    "        #print(i, j, lens, '=', i*j*lens)\n",
    "        total_powa += i*j*lens\n",
    "total_powa"
   ]
  },
  {
   "cell_type": "code",
   "execution_count": null,
   "id": "e5a96dd2",
   "metadata": {},
   "outputs": [],
   "source": []
  }
 ],
 "metadata": {
  "kernelspec": {
   "display_name": "Python 3 (ipykernel)",
   "language": "python",
   "name": "python3"
  },
  "language_info": {
   "codemirror_mode": {
    "name": "ipython",
    "version": 3
   },
   "file_extension": ".py",
   "mimetype": "text/x-python",
   "name": "python",
   "nbconvert_exporter": "python",
   "pygments_lexer": "ipython3",
   "version": "3.9.15"
  }
 },
 "nbformat": 4,
 "nbformat_minor": 5
}
