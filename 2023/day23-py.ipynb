{
 "cells": [
  {
   "cell_type": "code",
   "execution_count": 3,
   "id": "bab127e6-c48e-41f9-b67a-8e53f5e76d2e",
   "metadata": {},
   "outputs": [],
   "source": [
    "data = '''#.#####################\n",
    "#.......#########...###\n",
    "#######.#########.#.###\n",
    "###.....#.>.>.###.#.###\n",
    "###v#####.#v#.###.#.###\n",
    "###.>...#.#.#.....#...#\n",
    "###v###.#.#.#########.#\n",
    "###...#.#.#.......#...#\n",
    "#####.#.#.#######.#.###\n",
    "#.....#.#.#.......#...#\n",
    "#.#####.#.#.#########v#\n",
    "#.#...#...#...###...>.#\n",
    "#.#.#v#######v###.###v#\n",
    "#...#.>.#...>.>.#.###.#\n",
    "#####v#.#.###v#.#.###.#\n",
    "#.....#...#...#.#.#...#\n",
    "#.#########.###.#.#.###\n",
    "#...###...#...#...#.###\n",
    "###.###.#.###v#####v###\n",
    "#...#...#.#.>.>.#.>.###\n",
    "#.###.###.#.###.#.#v###\n",
    "#.....###...###...#...#\n",
    "#####################.#'''"
   ]
  },
  {
   "cell_type": "code",
   "execution_count": 4,
   "id": "8c8ecc87-74d1-4718-9a5d-39f410dab351",
   "metadata": {},
   "outputs": [],
   "source": [
    "import numpy as np\n",
    "%matplotlib inline\n",
    "import matplotlib.pyplot as plt\n",
    "import networkx as nx"
   ]
  },
  {
   "cell_type": "code",
   "execution_count": 76,
   "id": "3e6c65c1-36d8-44b5-bf6c-28242f40cb96",
   "metadata": {},
   "outputs": [],
   "source": [
    "from aocd import get_data\n",
    "data = get_data(day=23, year=2023)"
   ]
  },
  {
   "cell_type": "code",
   "execution_count": 5,
   "id": "7d0cb640-1fa8-4888-a1d7-dc6f9c75e283",
   "metadata": {},
   "outputs": [],
   "source": [
    "grid = {(i, j): n for j, line in enumerate(data.split('\\n')) for i, n in enumerate(line)}\n",
    "G = nx.DiGraph()\n",
    "for i, j in grid.keys():\n",
    "    if grid[(i,j)] == '#':\n",
    "        continue # not a valid move\n",
    "    if grid[(i,j)] == 'v':\n",
    "        G.add_edge((i,j), (i,j+1))\n",
    "    elif grid[(i,j)] == '>':\n",
    "        G.add_edge((i,j), (i+1,j))\n",
    "    else:\n",
    "        for dx, dy, dd in {(1,0,1),(0,1,-1),(-1,0,1),(0,-1,-1)} - {(i,j),(-i,-j)}:\n",
    "            a, b = i+dx, j+dy\n",
    "            if (a,b) in grid:\n",
    "                c = grid[(a,b)]\n",
    "                if c == '#':\n",
    "                    continue\n",
    "                G.add_edge((i,j), (a,b))"
   ]
  },
  {
   "cell_type": "code",
   "execution_count": 6,
   "id": "02bdd844-cf75-4f20-81bf-669690b6aa95",
   "metadata": {},
   "outputs": [
    {
     "data": {
      "text/plain": [
       "94"
      ]
     },
     "execution_count": 6,
     "metadata": {},
     "output_type": "execute_result"
    }
   ],
   "source": [
    "start = (1,0)\n",
    "end = (data.count('\\n')-1, data.index('\\n')-1)\n",
    "max([ len(p)-1 for p in nx.all_simple_paths(G, start, end) ])"
   ]
  },
  {
   "cell_type": "code",
   "execution_count": 29,
   "id": "79c6d998-c433-419b-8e3f-c85243780818",
   "metadata": {},
   "outputs": [
    {
     "name": "stdout",
     "output_type": "stream",
     "text": [
      "DiGraph with 5 nodes and 8 edges\n",
      "[(19, 20), (21, 22)]\n"
     ]
    }
   ],
   "source": [
    "for e in nx.strongly_connected_components(G):\n",
    "    SG = G.subgraph(e)\n",
    "    print(SG)\n",
    "    ends = []\n",
    "    for o in SG:\n",
    "        if nx.degree(SG, o) == 2:\n",
    "            ends.append(o)\n",
    "        #print(o, nx.degree(SG, o), SG.edges(o))\n",
    "    print(ends, )\n",
    "    #print(SG.degree([(19,20)]))\n",
    "    break"
   ]
  },
  {
   "cell_type": "code",
   "execution_count": 56,
   "id": "a9eccce7-e0e6-4f29-8583-897457ebd60b",
   "metadata": {},
   "outputs": [
    {
     "data": {
      "text/plain": [
       "OutEdgeView([(1, 0), (2, 1), (3, 2), (4, 3), (5, 3), (6, 1), (7, 6), (8, 7), (9, 5), (9, 8), (10, 9), (11, 4), (11, 10), (12, 11), (13, 9), (14, 7), (15, 13), (15, 14), (16, 15), (17, 12), (17, 16), (18, 17)])"
      ]
     },
     "execution_count": 56,
     "metadata": {},
     "output_type": "execute_result"
    }
   ],
   "source": [
    "#list(nx.strongly_connected_components(G))\n",
    "NG = nx.condensation(G)\n",
    "NG.edges"
   ]
  },
  {
   "cell_type": "code",
   "execution_count": 30,
   "id": "f736ac7c-34cb-48d7-8725-37a30ce8912d",
   "metadata": {},
   "outputs": [],
   "source": [
    "NG = nx.DiGraph()\n",
    "for u,v,d in nx.dfs_labeled_edges(G, start):\n",
    "    match d:\n",
    "        case 'forward': # u has been visited but v has not\n",
    "            pass\n",
    "        case 'nontree': # both u and v have been visited but the edge is not in the DFS tree\n",
    "            pass\n",
    "        case 'reverse': # both u and v have been visited and the edge is in the DFS tree\n",
    "            pass\n",
    "    #print(u,v,d)"
   ]
  },
  {
   "cell_type": "code",
   "execution_count": 95,
   "id": "4e3dc2e0-3660-41a8-8fcc-f226bb0df836",
   "metadata": {
    "editable": true,
    "slideshow": {
     "slide_type": ""
    },
    "tags": []
   },
   "outputs": [
    {
     "data": {
      "text/plain": [
       "[75]"
      ]
     },
     "execution_count": 95,
     "metadata": {},
     "output_type": "execute_result"
    }
   ],
   "source": [
    "G = nx.DiGraph()\n",
    "visited = {}\n",
    "\n",
    "queue = [tuple(start)]\n",
    "while queue:\n",
    "    current = queue.pop(0)\n",
    "    visited[current] = 1\n",
    "    i, j = current\n",
    "    for dx, dy, dd in {(1,0,1),(0,1,-1),(-1,0,1),(0,-1,-1)} - {(i,j),(-i,-j)}:\n",
    "        a, b = i+dx, j+dy\n",
    "        if (a,b) in grid and (a,b) not in visited:\n",
    "            visited[(a,b)] = 1\n",
    "            c = grid[(a,b)]\n",
    "            if c == '#':\n",
    "                continue\n",
    "            #print('add', (i,j), (a,b))\n",
    "            G.add_edge((i,j), (a,b))\n",
    "            queue.append((a,b))\n",
    "\n",
    "[ len(x) for x in nx.all_simple_paths(G, start, end) ]"
   ]
  },
  {
   "cell_type": "code",
   "execution_count": 49,
   "id": "bd104b78-1554-49c9-8d35-d91add2b800a",
   "metadata": {},
   "outputs": [
    {
     "name": "stdout",
     "output_type": "stream",
     "text": [
      "to (1, 1) 4\n"
     ]
    }
   ],
   "source": [
    "NG = nx.DiGraph()\n",
    "\n",
    "visited = []\n",
    "start = tuple(start)\n",
    "current = tuple(start)\n",
    "while nx.degree(G, current) == 2:\n",
    "    visited.append(current)\n",
    "    current = list(G.successors(current))[0]\n",
    "    print('to', current, nx.degree(G, current))\n"
   ]
  },
  {
   "cell_type": "code",
   "execution_count": 50,
   "id": "385a424b-ad3e-432c-a3f6-f1db7564612c",
   "metadata": {},
   "outputs": [
    {
     "data": {
      "text/plain": [
       "OutEdgeDataView([((1, 1), (1, 0)), ((1, 1), (2, 1))])"
      ]
     },
     "execution_count": 50,
     "metadata": {},
     "output_type": "execute_result"
    }
   ],
   "source": [
    "G.edges((1,1))"
   ]
  },
  {
   "cell_type": "code",
   "execution_count": 44,
   "id": "8c9f5988-ed4e-4638-a828-6831dece179b",
   "metadata": {},
   "outputs": [
    {
     "data": {
      "text/plain": [
       "[(1, 1)]"
      ]
     },
     "execution_count": 44,
     "metadata": {},
     "output_type": "execute_result"
    }
   ],
   "source": [
    "list(G.successors(start))"
   ]
  },
  {
   "cell_type": "code",
   "execution_count": 27,
   "id": "eee22445-8807-4e2a-a6ee-d5f7d0db6070",
   "metadata": {},
   "outputs": [],
   "source": [
    "NG = nx.DiGraph()\n",
    "weights = {}\n",
    "def construct(G, NG, current, path=None, visited=[]):\n",
    "    visited.append(current)\n",
    "    path = path if path else []\n",
    "    path.append(tuple(current))\n",
    "    n = [ e for e in G.edges(current) if e[1] not in visited ]\n",
    "    if len(n) == 1:\n",
    "        construct(G, NG, n[0][1], path, visited=visited)\n",
    "    elif len(n) > 1:\n",
    "        #if path[0] == (4,5):\n",
    "        #    print(current, path)\n",
    "        NG.add_edge(path[0], tuple(current), weight=len(path)+1)\n",
    "        for e in n:\n",
    "            NG.add_edge(current, e[1], weight=1)\n",
    "            construct(G, NG, e[1], visited=visited)\n",
    "    else:\n",
    "        NG.add_edge(path[0], tuple(current), weight=len(path)+1)\n",
    "construct(G, NG, start)"
   ]
  },
  {
   "cell_type": "code",
   "execution_count": 31,
   "id": "38c30727-e12c-479b-ba29-9d66772b344c",
   "metadata": {},
   "outputs": [
    {
     "data": {
      "text/plain": [
       "OutEdgeView([((1, 0), (3, 5)), ((3, 5), (4, 5)), ((3, 5), (3, 6)), ((4, 5), (11, 3)), ((11, 3), (12, 3)), ((11, 3), (11, 4)), ((12, 3), (21, 11)), ((21, 11), (21, 12)), ((21, 11), (20, 11)), ((21, 12), (19, 19)), ((19, 19), (19, 20)), ((19, 19), (18, 19)), ((19, 20), (21, 22)), ((18, 19), (18, 19)), ((20, 11), (20, 11)), ((11, 4), (13, 13)), ((13, 13), (14, 13)), ((13, 13), (13, 14)), ((13, 13), (12, 13)), ((14, 13), (19, 11)), ((13, 14), (13, 19)), ((13, 19), (14, 19)), ((13, 19), (12, 19)), ((14, 19), (17, 19)), ((12, 19), (12, 19)), ((12, 13), (12, 13)), ((3, 6), (5, 13)), ((5, 13), (6, 13)), ((5, 13), (5, 14)), ((6, 13), (11, 13)), ((5, 14), (11, 19))])"
      ]
     },
     "execution_count": 31,
     "metadata": {},
     "output_type": "execute_result"
    }
   ],
   "source": [
    "NG.edges"
   ]
  },
  {
   "cell_type": "code",
   "execution_count": 32,
   "id": "f4d989ba-6713-424d-9f80-acc830f401b1",
   "metadata": {},
   "outputs": [
    {
     "name": "stdout",
     "output_type": "stream",
     "text": [
      "[(1, 0), (3, 5), (4, 5), (11, 3), (12, 3), (21, 11), (21, 12), (19, 19), (19, 20), (21, 22)]\n",
      "  (1, 0) (3, 5) 17\n",
      "  (3, 5) (4, 5) 1\n",
      "  (4, 5) (11, 3) 23\n",
      "  (11, 3) (12, 3) 1\n",
      "  (12, 3) (21, 11) 31\n",
      "  (21, 11) (21, 12) 1\n",
      "  (21, 12) (19, 19) 11\n",
      "  (19, 19) (19, 20) 1\n",
      "  (19, 20) (21, 22) 6\n",
      "92\n"
     ]
    }
   ],
   "source": [
    "for p in nx.all_simple_paths(NG, start, end):\n",
    "    print(p)\n",
    "    ptotal = 0\n",
    "    for l, r in zip(p, p[1:]):\n",
    "        print(' ', l, r, NG.get_edge_data(l, r)['weight'])\n",
    "        ptotal += NG.get_edge_data(l, r)['weight']\n",
    "    print(ptotal)\n"
   ]
  },
  {
   "cell_type": "code",
   "execution_count": 29,
   "id": "05919ecd-04fc-4446-affe-3e4274eafadb",
   "metadata": {},
   "outputs": [
    {
     "data": {
      "text/plain": [
       "17"
      ]
     },
     "execution_count": 29,
     "metadata": {},
     "output_type": "execute_result"
    }
   ],
   "source": [
    "NG.get_edge_data((1,0), (3, 5))['weight']"
   ]
  },
  {
   "cell_type": "code",
   "execution_count": 30,
   "id": "6fe6ed9f-8ec0-44ea-86d4-dcbdc208d9e1",
   "metadata": {},
   "outputs": [
    {
     "data": {
      "text/plain": [
       "'.'"
      ]
     },
     "execution_count": 30,
     "metadata": {},
     "output_type": "execute_result"
    }
   ],
   "source": [
    "grid[(21, 22)]"
   ]
  },
  {
   "cell_type": "code",
   "execution_count": null,
   "id": "a2481e85-ae48-47df-be08-6e3680105b02",
   "metadata": {},
   "outputs": [],
   "source": []
  }
 ],
 "metadata": {
  "kernelspec": {
   "display_name": "Python 3 (ipykernel)",
   "language": "python",
   "name": "python3"
  },
  "language_info": {
   "codemirror_mode": {
    "name": "ipython",
    "version": 3
   },
   "file_extension": ".py",
   "mimetype": "text/x-python",
   "name": "python",
   "nbconvert_exporter": "python",
   "pygments_lexer": "ipython3",
   "version": "3.10.8"
  }
 },
 "nbformat": 4,
 "nbformat_minor": 5
}
