{
 "cells": [
  {
   "cell_type": "code",
   "execution_count": 306,
   "id": "10cf9d0d-f294-4798-a79e-53195a1924d0",
   "metadata": {},
   "outputs": [],
   "source": [
    "data = '''2413432311323\n",
    "3215453535623\n",
    "3255245654254\n",
    "3446585845452\n",
    "4546657867536\n",
    "1438598798454\n",
    "4457876987766\n",
    "3637877979653\n",
    "4654967986887\n",
    "4564679986453\n",
    "1224686865563\n",
    "2546548887735\n",
    "4322674655533'''"
   ]
  },
  {
   "cell_type": "code",
   "execution_count": 307,
   "id": "5ac4ae88-b29b-4554-b78b-a230e6ab0212",
   "metadata": {},
   "outputs": [],
   "source": [
    "from aocd import get_data\n",
    "data = get_data(day=17, year=2023)"
   ]
  },
  {
   "cell_type": "code",
   "execution_count": 308,
   "id": "20824047-aa11-4d22-af8d-f73ae0ae677d",
   "metadata": {},
   "outputs": [],
   "source": [
    "%matplotlib inline\n",
    "import matplotlib.pyplot as plt\n",
    "import networkx as nx"
   ]
  },
  {
   "cell_type": "code",
   "execution_count": 309,
   "id": "de9ebb0a-e94e-45e1-b324-8b5763af064d",
   "metadata": {},
   "outputs": [],
   "source": [
    "grid = {(i, j): int(n) for j, line in enumerate(data.split('\\n')) for i, n in enumerate(line)}"
   ]
  },
  {
   "cell_type": "code",
   "execution_count": 312,
   "id": "111442fe-f136-4ca3-8b72-240c3e04ee41",
   "metadata": {},
   "outputs": [],
   "source": [
    "def grrraph(grid, min_streak, max_streak):\n",
    "    G = nx.DiGraph()\n",
    "    for i, j in grid.keys():\n",
    "        for dx, dy, dd in {(1,0,1),(0,1,-1),(-1,0,1),(0,-1,-1)} - {(i,j),(-i,-j)}:\n",
    "            a, b, c = i, j, 0\n",
    "            for k in range(1, max_streak+1):\n",
    "                a, b = a+dx, b+dy\n",
    "                if (a,b) in grid:\n",
    "                    c += grid[(a,b)]\n",
    "                    if k >= min_streak: \n",
    "                        G.add_edge((i,j,dd*-1), (a,b,dd), weight=c)\n",
    "    h = max(grid.keys(), key=lambda x: x[0])[0]\n",
    "    w = max(grid.keys(), key=lambda x: x[1])[1]\n",
    "    for d in 1,-1:\n",
    "        G.add_edge('s', (0,0,d), weight=0)\n",
    "        G.add_edge((h,w,d), 'e', weight=0)\n",
    "    return nx.shortest_path_length(G, 's', 'e', weight=\"weight\")"
   ]
  },
  {
   "cell_type": "code",
   "execution_count": null,
   "id": "80057f6d-e372-4210-8cbc-8fcf7755f055",
   "metadata": {},
   "outputs": [],
   "source": [
    "grrraph(grid, 1, 3)"
   ]
  },
  {
   "cell_type": "code",
   "execution_count": 311,
   "id": "50260360-d1c1-4b53-873b-e6886ede0fdb",
   "metadata": {},
   "outputs": [
    {
     "data": {
      "text/plain": [
       "1215"
      ]
     },
     "execution_count": 311,
     "metadata": {},
     "output_type": "execute_result"
    }
   ],
   "source": [
    "grrraph(grid, 4, 10)"
   ]
  }
 ],
 "metadata": {
  "kernelspec": {
   "display_name": "Python 3 (ipykernel)",
   "language": "python",
   "name": "python3"
  },
  "language_info": {
   "codemirror_mode": {
    "name": "ipython",
    "version": 3
   },
   "file_extension": ".py",
   "mimetype": "text/x-python",
   "name": "python",
   "nbconvert_exporter": "python",
   "pygments_lexer": "ipython3",
   "version": "3.10.8"
  }
 },
 "nbformat": 4,
 "nbformat_minor": 5
}
