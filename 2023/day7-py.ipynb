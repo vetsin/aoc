{
 "cells": [
  {
   "cell_type": "code",
   "execution_count": 200,
   "id": "b8603e71",
   "metadata": {},
   "outputs": [],
   "source": [
    "test = '''32T3K 765\n",
    "T55J5 684\n",
    "KK677 28\n",
    "KTJJT 220\n",
    "QQQJA 483'''"
   ]
  },
  {
   "cell_type": "code",
   "execution_count": 171,
   "id": "50a7051c",
   "metadata": {},
   "outputs": [],
   "source": [
    "with open('../.day7-input.txt', 'r') as f:\n",
    "    test = f.read().strip()"
   ]
  },
  {
   "cell_type": "code",
   "execution_count": 172,
   "id": "4af566c3",
   "metadata": {},
   "outputs": [],
   "source": [
    "data = [x.split() for x in test.split('\\n')]"
   ]
  },
  {
   "cell_type": "code",
   "execution_count": 197,
   "id": "5d386bf3",
   "metadata": {
    "scrolled": false
   },
   "outputs": [],
   "source": [
    "class Hand:\n",
    "    def __init__(self, cards, bet):\n",
    "        self.cards = cards\n",
    "        self.bet = int(bet)\n",
    "        sv = cards.replace('A', 'Z').replace('K', 'R').replace('T', 'B')\n",
    "        c = { i:sv.count(i) for i in sv if sv.count(i) > 1 or i == 'J' }\n",
    "\n",
    "        if 'J' in c:\n",
    "            nj = c['J']\n",
    "            del c['J']\n",
    "            if sv == 'JJJJJ':\n",
    "                c['Z'] = 5\n",
    "            elif len(c) == 1:\n",
    "                c[next(iter(c))] += nj\n",
    "            elif len(c) == 2:\n",
    "                c[sorted(c.keys(), reverse=True)[0]] += nj\n",
    "            elif len(c) == 0:\n",
    "                c[sorted(sv.replace('J', '/'), reverse=True)[0]] = 1+nj\n",
    "            else:\n",
    "                assert False, 'what the dog say'\n",
    "        \n",
    "        v = list(c.values())\n",
    "        htype = '0'\n",
    "        if 5 in v:\n",
    "            htype = '6'\n",
    "        elif 4 in v:\n",
    "            htype = '5'\n",
    "        elif 3 in v and 2 in v:\n",
    "            htype = '4'\n",
    "        elif 3 in v:\n",
    "            htype = '3'\n",
    "        elif v.count(2) == 2: # two pair not just pair\n",
    "            htype = '2'\n",
    "        elif 2 in v: #onepair\n",
    "            htype = '1'\n",
    "        \n",
    "        sv = sv.replace('J', '/')\n",
    "        #print(f\"{cards} became {c} became {htype}\")\n",
    "        self.sortkey = f\"{htype}{sv}\"\n",
    " \n",
    "    def __repr__(self):\n",
    "        return f\"({self.cards}, {self.bet}, {self.sortkey})\"\n",
    "    \n",
    "parsed = [ Hand(*x) for x in data]"
   ]
  },
  {
   "cell_type": "code",
   "execution_count": 199,
   "id": "ecdbb57a",
   "metadata": {},
   "outputs": [
    {
     "data": {
      "text/plain": [
       "250825971"
      ]
     },
     "execution_count": 199,
     "metadata": {},
     "output_type": "execute_result"
    }
   ],
   "source": [
    "sum([ (i+1)*e.bet for i, e in enumerate(sorted(parsed, key=lambda x: x.sortkey)) ])"
   ]
  },
  {
   "cell_type": "code",
   "execution_count": null,
   "id": "1a503a83",
   "metadata": {},
   "outputs": [],
   "source": []
  }
 ],
 "metadata": {
  "kernelspec": {
   "display_name": "Python 3",
   "language": "python",
   "name": "python3"
  },
  "language_info": {
   "codemirror_mode": {
    "name": "ipython",
    "version": 3
   },
   "file_extension": ".py",
   "mimetype": "text/x-python",
   "name": "python",
   "nbconvert_exporter": "python",
   "pygments_lexer": "ipython3",
   "version": "3.8.5"
  }
 },
 "nbformat": 4,
 "nbformat_minor": 5
}
