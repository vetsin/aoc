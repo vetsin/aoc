{
 "cells": [
  {
   "cell_type": "code",
   "execution_count": 115,
   "id": "6846b3dd-802c-47a2-8099-ccb015953b92",
   "metadata": {},
   "outputs": [],
   "source": [
    "from aocd import get_data\n",
    "data = get_data(day=8, year=2023)"
   ]
  },
  {
   "cell_type": "code",
   "execution_count": 74,
   "id": "5ff2b38c-836a-4535-8494-9c6ecebd625b",
   "metadata": {},
   "outputs": [],
   "source": [
    "data = '''LLR\n",
    "\n",
    "AAA = (BBB, BBB)\n",
    "BBB = (AAA, ZZZ)\n",
    "ZZZ = (ZZZ, ZZZ)'''"
   ]
  },
  {
   "cell_type": "code",
   "execution_count": 84,
   "id": "68e77f9d-7038-4acb-a5ee-6e91fc605271",
   "metadata": {},
   "outputs": [],
   "source": [
    "command, tstr = data.split('\\n\\n')\n",
    "\n",
    "def parse(line):\n",
    "    value, parts = line.split(' = ')\n",
    "    left, right = parts.strip('()').split(', ')\n",
    "    return dict(V=value, L=left, R=right)\n",
    "\n",
    "tree = {}\n",
    "for line in tstr.splitlines():\n",
    "    n = parse(line)\n",
    "    tree[n['V']] = n"
   ]
  },
  {
   "cell_type": "code",
   "execution_count": 85,
   "id": "bb59ac2d-315b-4535-85c8-51f7891760b2",
   "metadata": {},
   "outputs": [
    {
     "data": {
      "text/plain": [
       "16343"
      ]
     },
     "execution_count": 85,
     "metadata": {},
     "output_type": "execute_result"
    }
   ],
   "source": [
    "r = tree['AAA']\n",
    "count = 0\n",
    "while r['V'] != 'ZZZ':\n",
    "    #print(r)\n",
    "    #print(\"\")\n",
    "    for c in command:\n",
    "        to = tree[r[c]]\n",
    "        #print(f\"{r['V']}[{c}] => {to}\")\n",
    "        r = to\n",
    "        count += 1\n",
    "        if r['V'] == 'ZZZ':\n",
    "            break\n",
    "count"
   ]
  },
  {
   "cell_type": "markdown",
   "id": "ab8ffa61-54a4-429c-9469-d687097e7a4c",
   "metadata": {},
   "source": [
    "# DEUX"
   ]
  },
  {
   "cell_type": "code",
   "execution_count": 86,
   "id": "d85217a1-b218-4c99-89d2-244fa354d354",
   "metadata": {},
   "outputs": [],
   "source": [
    "data = '''LR\n",
    "\n",
    "11A = (11B, XXX)\n",
    "11B = (XXX, 11Z)\n",
    "11Z = (11B, XXX)\n",
    "22A = (22B, XXX)\n",
    "22B = (22C, 22C)\n",
    "22C = (22Z, 22Z)\n",
    "22Z = (22B, 22B)\n",
    "XXX = (XXX, XXX)'''"
   ]
  },
  {
   "cell_type": "code",
   "execution_count": 116,
   "id": "4b7df7c9-520e-456b-b681-c13943e73f1e",
   "metadata": {},
   "outputs": [],
   "source": [
    "command, tstr = data.split('\\n\\n')\n",
    "\n",
    "def parse(line):\n",
    "    value, parts = line.split(' = ')\n",
    "    left, right = parts.strip('()').split(', ')\n",
    "    return dict(V=value, L=left, R=right)\n",
    "\n",
    "tree = {}\n",
    "for line in tstr.splitlines():\n",
    "    n = parse(line)\n",
    "    tree[n['V']] = n"
   ]
  },
  {
   "cell_type": "code",
   "execution_count": null,
   "id": "96a76f73-13b5-4d85-aa1f-eb6f27849b4b",
   "metadata": {},
   "outputs": [],
   "source": [
    "rs = {k:v for k,v in tree.items() if k.endswith('A')}\n",
    "count = 0\n",
    "\n",
    "def is_z(d):\n",
    "    return all(map(lambda x: x.endswith('Z'), d.keys()))\n",
    "while not is_z(rs):\n",
    "    #print(rs)\n",
    "    for c in command:\n",
    "        s = map(lambda x: tree[x[c]], rs.values())\n",
    "        rs = { x['V']:x for x in s }\n",
    "        count += 1\n",
    "        if is_z(rs):\n",
    "            break\n",
    "count"
   ]
  },
  {
   "cell_type": "code",
   "execution_count": null,
   "id": "c857951e-ed30-49f7-819a-bf1225455fe9",
   "metadata": {},
   "outputs": [],
   "source": []
  }
 ],
 "metadata": {
  "kernelspec": {
   "display_name": "Python 3 (ipykernel)",
   "language": "python",
   "name": "python3"
  },
  "language_info": {
   "codemirror_mode": {
    "name": "ipython",
    "version": 3
   },
   "file_extension": ".py",
   "mimetype": "text/x-python",
   "name": "python",
   "nbconvert_exporter": "python",
   "pygments_lexer": "ipython3",
   "version": "3.10.13"
  }
 },
 "nbformat": 4,
 "nbformat_minor": 5
}
