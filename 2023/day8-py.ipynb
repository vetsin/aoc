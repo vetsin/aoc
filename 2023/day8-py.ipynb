{
 "cells": [
  {
   "cell_type": "code",
   "execution_count": 14,
   "id": "6846b3dd-802c-47a2-8099-ccb015953b92",
   "metadata": {},
   "outputs": [],
   "source": [
    "from aocd import get_data\n",
    "data = get_data(day=8, year=2023)"
   ]
  },
  {
   "cell_type": "code",
   "execution_count": 4,
   "id": "5ff2b38c-836a-4535-8494-9c6ecebd625b",
   "metadata": {},
   "outputs": [],
   "source": [
    "data = '''LLR\n",
    "\n",
    "AAA = (BBB, BBB)\n",
    "BBB = (AAA, ZZZ)\n",
    "ZZZ = (ZZZ, ZZZ)'''"
   ]
  },
  {
   "cell_type": "code",
   "execution_count": 8,
   "id": "68e77f9d-7038-4acb-a5ee-6e91fc605271",
   "metadata": {},
   "outputs": [],
   "source": [
    "command, tstr = data.split('\\n\\n')\n",
    "\n",
    "def parse(line):\n",
    "    value, parts = line.split(' = ')\n",
    "    left, right = parts.strip('()').split(', ')\n",
    "    return dict(V=value, L=left, R=right)\n",
    "\n",
    "tree = {}\n",
    "for line in tstr.splitlines():\n",
    "    n = parse(line)\n",
    "    tree[n['V']] = n"
   ]
  },
  {
   "cell_type": "code",
   "execution_count": 9,
   "id": "bb59ac2d-315b-4535-85c8-51f7891760b2",
   "metadata": {},
   "outputs": [
    {
     "data": {
      "text/plain": [
       "16343"
      ]
     },
     "execution_count": 9,
     "metadata": {},
     "output_type": "execute_result"
    }
   ],
   "source": [
    "r = tree['AAA']\n",
    "count = 0\n",
    "while r['V'] != 'ZZZ':\n",
    "    #print(r)\n",
    "    #print(\"\")\n",
    "    for c in command:\n",
    "        to = tree[r[c]]\n",
    "        #print(f\"{r['V']}[{c}] => {to}\")\n",
    "        r = to\n",
    "        count += 1\n",
    "        if r['V'] == 'ZZZ':\n",
    "            break\n",
    "count"
   ]
  },
  {
   "cell_type": "markdown",
   "id": "ab8ffa61-54a4-429c-9469-d687097e7a4c",
   "metadata": {},
   "source": [
    "# DEUX"
   ]
  },
  {
   "cell_type": "code",
   "execution_count": 86,
   "id": "d85217a1-b218-4c99-89d2-244fa354d354",
   "metadata": {},
   "outputs": [],
   "source": [
    "data = '''LR\n",
    "\n",
    "11A = (11B, XXX)\n",
    "11B = (XXX, 11Z)\n",
    "11Z = (11B, XXX)\n",
    "22A = (22B, XXX)\n",
    "22B = (22C, 22C)\n",
    "22C = (22Z, 22Z)\n",
    "22Z = (22B, 22B)\n",
    "XXX = (XXX, XXX)'''"
   ]
  },
  {
   "cell_type": "code",
   "execution_count": 15,
   "id": "4b7df7c9-520e-456b-b681-c13943e73f1e",
   "metadata": {},
   "outputs": [],
   "source": [
    "command, tstr = data.split('\\n\\n')\n",
    "\n",
    "def parse(line):\n",
    "    value, parts = line.split(' = ')\n",
    "    left, right = parts.strip('()').split(', ')\n",
    "    return dict(V=value, L=left, R=right)\n",
    "\n",
    "tree = {}\n",
    "for line in tstr.splitlines():\n",
    "    n = parse(line)\n",
    "    tree[n['V']] = n"
   ]
  },
  {
   "cell_type": "code",
   "execution_count": null,
   "id": "96a76f73-13b5-4d85-aa1f-eb6f27849b4b",
   "metadata": {},
   "outputs": [],
   "source": [
    "rs = {k:v for k,v in tree.items() if k.endswith('A')}\n",
    "count = 0\n",
    "loop = 0\n",
    "\n",
    "def is_z(d):\n",
    "    return all(map(lambda x: x.endswith('Z'), d.keys()))\n",
    "\n",
    "\n",
    "while not is_z(rs):\n",
    "    #print(rs)\n",
    "    for c in command:\n",
    "        s = map(lambda x: tree[x[c]], rs.values())\n",
    "        rs = { x['V']:x for x in s }\n",
    "        count += 1\n",
    "        if is_z(rs):\n",
    "            break\n",
    "    loop += 1\n",
    "count"
   ]
  },
  {
   "cell_type": "code",
   "execution_count": 57,
   "id": "bbd59cde",
   "metadata": {},
   "outputs": [],
   "source": [
    "# well that didn't work"
   ]
  },
  {
   "cell_type": "code",
   "execution_count": 39,
   "id": "8a297d41",
   "metadata": {},
   "outputs": [],
   "source": [
    "from math import lcm"
   ]
  },
  {
   "cell_type": "code",
   "execution_count": 94,
   "id": "459bbdfc",
   "metadata": {},
   "outputs": [
    {
     "name": "stdout",
     "output_type": "stream",
     "text": [
      "start ['JHA', 'NCA', 'MMA', 'AAA', 'TVA', 'DTA']\n"
     ]
    },
    {
     "data": {
      "text/plain": [
       "[21883, 13019, 19667, 16343, 18559, 14681]"
      ]
     },
     "execution_count": 94,
     "metadata": {},
     "output_type": "execute_result"
    }
   ],
   "source": [
    "loop_keys = [ k for k in tree if k.endswith('A') ]\n",
    "print(f\"start {loop_keys}\")\n",
    "times = []\n",
    "for k in loop_keys:\n",
    "\n",
    "    x = 0\n",
    "    for c in command*10000:\n",
    "        k = tree[k][c]\n",
    "        x += 1\n",
    "        if k.endswith(\"Z\"):\n",
    "            times.append(x)\n",
    "            break\n",
    "times"
   ]
  },
  {
   "cell_type": "code",
   "execution_count": 69,
   "id": "002f3816",
   "metadata": {},
   "outputs": [
    {
     "data": {
      "text/plain": [
       "15299095336639"
      ]
     },
     "execution_count": 69,
     "metadata": {},
     "output_type": "execute_result"
    }
   ],
   "source": [
    "lcm(*times)"
   ]
  }
 ],
 "metadata": {
  "kernelspec": {
   "display_name": "Python 3 (ipykernel)",
   "language": "python",
   "name": "python3"
  },
  "language_info": {
   "codemirror_mode": {
    "name": "ipython",
    "version": 3
   },
   "file_extension": ".py",
   "mimetype": "text/x-python",
   "name": "python",
   "nbconvert_exporter": "python",
   "pygments_lexer": "ipython3",
   "version": "3.9.15"
  }
 },
 "nbformat": 4,
 "nbformat_minor": 5
}
