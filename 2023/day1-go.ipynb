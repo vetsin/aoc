{
 "cells": [
  {
   "cell_type": "code",
   "execution_count": 4,
   "id": "599db169",
   "metadata": {},
   "outputs": [],
   "source": [
    "import \"fmt\"\n",
    "import \"unicode\"\n",
    "import \"sync\"\n",
    "import \"os\""
   ]
  },
  {
   "cell_type": "code",
   "execution_count": 6,
   "id": "ada9a532",
   "metadata": {},
   "outputs": [],
   "source": [
    "/*var input = `two1nine\n",
    "eightwothree\n",
    "abcone2threexyz\n",
    "xtwone3four\n",
    "4nineeightseven2\n",
    "zoneight234\n",
    "7pqrstsixteen`*/"
   ]
  },
  {
   "cell_type": "code",
   "execution_count": 12,
   "id": "cf513ca5",
   "metadata": {},
   "outputs": [
    {
     "name": "stdout",
     "output_type": "stream",
     "text": [
      "54578\n"
     ]
    }
   ],
   "source": [
    "var words = []string {\"zero\", \"one\", \"two\", \"three\", \"four\", \"five\", \"six\", \"seven\", \"eight\", \"nine\"}\n",
    "\n",
    "func sum(line string, ch chan<- int, wg *sync.WaitGroup) {\n",
    "    defer wg.Done()\n",
    "    \n",
    "    \n",
    "    var nums []rune\n",
    "    cur := 0\n",
    "    for cur < len(line) {\n",
    "        next := line[cur:cur+1]\n",
    "        if unicode.IsDigit(rune(next[0])) {\n",
    "           nums = append(nums, rune(next[0]))\n",
    "        } else if len(line) - cur >= 3 {\n",
    "            for i, w := range words {\n",
    "                wlen := len(w)\n",
    "                if (cur + wlen) <= len(line) {\n",
    "                    if line[cur:cur+wlen] == w {\n",
    "                        nums = append(nums, []rune(strconv.Itoa(i))[0])\n",
    "                        cur = cur + 1\n",
    "                        break\n",
    "                    }\n",
    "                }\n",
    "            }\n",
    "        }\n",
    "        cur = cur + 1\n",
    "    }\n",
    "    numstr := string(nums)\n",
    "    num := string([]byte {numstr[0], numstr[len(numstr)-1]})\n",
    "    if i, err := strconv.Atoi(num); err == nil {\n",
    "        ch <- i\n",
    "    }\n",
    "    \n",
    "}\n",
    "\n",
    "func main() {\n",
    "    b, _ := os.ReadFile(\".day1-input-p2.txt\")\n",
    "    input = strings.TrimSpace(string(b))\n",
    "    \n",
    "    var wg sync.WaitGroup\n",
    "\n",
    "    totalChan := make(chan int)\n",
    "    \n",
    "    for _, line := range strings.Split(input, \"\\n\") {\n",
    "        wg.Add(1)\n",
    "        go sum(line, totalChan, &wg)\n",
    "    }\n",
    "    \n",
    "    go func() {\n",
    "        wg.Wait()\n",
    "        close(totalChan)\n",
    "    }()\n",
    "    \n",
    "    total := 0\n",
    "    for s := range totalChan {\n",
    "      total += s\n",
    "    }\n",
    "    fmt.Println(total)\n",
    "}"
   ]
  },
  {
   "cell_type": "code",
   "execution_count": null,
   "id": "f4027f4f",
   "metadata": {},
   "outputs": [],
   "source": []
  }
 ],
 "metadata": {
  "kernelspec": {
   "display_name": "Go (gonb)",
   "language": "go",
   "name": "gonb"
  },
  "language_info": {
   "codemirror_mode": "",
   "file_extension": ".go",
   "mimetype": "",
   "name": "go",
   "nbconvert_exporter": "",
   "pygments_lexer": "",
   "version": "go1.19.1"
  }
 },
 "nbformat": 4,
 "nbformat_minor": 5
}
