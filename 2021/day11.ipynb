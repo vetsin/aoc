{
 "cells": [
  {
   "cell_type": "code",
   "execution_count": 16,
   "metadata": {},
   "outputs": [],
   "source": [
    "import pandas as pd\n",
    "import numpy as np\n",
    "from itertools import chain\n",
    "from scipy.ndimage import measurements\n",
    "from scipy.ndimage import filters\n",
    "from scipy import ndimage\n",
    "import matplotlib.pyplot as plt\n",
    "import imageio\n",
    "import matplotlib.animation as animation"
   ]
  },
  {
   "cell_type": "code",
   "execution_count": 409,
   "metadata": {},
   "outputs": [],
   "source": [
    "data = '''5483143223\n",
    "2745854711\n",
    "5264556173\n",
    "6141336146\n",
    "6357385478\n",
    "4167524645\n",
    "2176841721\n",
    "6882881134\n",
    "4846848554\n",
    "5283751526'''"
   ]
  },
  {
   "cell_type": "code",
   "execution_count": 8,
   "metadata": {},
   "outputs": [],
   "source": [
    "data = '''5251578181\n",
    "6158452313\n",
    "1818578571\n",
    "3844615143\n",
    "6857251244\n",
    "2375817613\n",
    "8883514435\n",
    "2321265735\n",
    "2857275182\n",
    "4821156644'''"
   ]
  },
  {
   "cell_type": "code",
   "execution_count": 32,
   "metadata": {},
   "outputs": [],
   "source": [
    "with open('/mnt/c/Users/Matthew Gill/Downloads/11-1000-2.in', 'r') as f:\n",
    "    data = f.read().strip()"
   ]
  },
  {
   "cell_type": "code",
   "execution_count": 33,
   "metadata": {},
   "outputs": [],
   "source": [
    "odata = [[c for c in x] for x in data.split('\\n')]"
   ]
  },
  {
   "cell_type": "code",
   "execution_count": 34,
   "metadata": {},
   "outputs": [
    {
     "data": {
      "text/plain": [
       "str"
      ]
     },
     "execution_count": 34,
     "metadata": {},
     "output_type": "execute_result"
    }
   ],
   "source": [
    "type(odata[0][0])"
   ]
  },
  {
   "cell_type": "code",
   "execution_count": 35,
   "metadata": {},
   "outputs": [],
   "source": [
    "matrix = np.array(odata)"
   ]
  },
  {
   "cell_type": "code",
   "execution_count": null,
   "metadata": {},
   "outputs": [],
   "source": [
    "matrix = np.array([[c for c in x] for x in data.split('\\n')], dtype=int)\n",
    "#matrix = np.random.randint(1, 9, (100,100))\n",
    "\n",
    "def neighbors(im, i, j, d=1):\n",
    "    for x in range(max(i-1,0), min(i+2,im.shape[0])):\n",
    "        for y in range(max(j-1,0), min(j+2,im.shape[1])):\n",
    "            yield (x,y)\n",
    "\n",
    "fig = plt.figure()\n",
    "fig.subplots_adjust(left=0, bottom=0, right=1, top=1, wspace=None, hspace=None)\n",
    "fig.set_size_inches(3, 3, forward=True)\n",
    "plt.axis('off')\n",
    "flashes = 0\n",
    "ims = []\n",
    "\n",
    "for step in range(100):\n",
    "    matrix = np.add(matrix, 1)\n",
    "    while matrix[matrix == 10].shape[0] > 0:\n",
    "        #ims.append([plt.imshow(np.where(matrix > 9, 1, 0), animated=True)])\n",
    "        #ims.append([plt.imshow(matrix, cmap='hot', animated=True)])\n",
    "        for x in range(matrix.shape[0]):\n",
    "            for y in range(matrix.shape[1]):\n",
    "                #print(f\"{x},{y}\")\n",
    "                #print(f\"\\t{matrix[x,y]}\")\n",
    "                if matrix[x,y] == 10:\n",
    "                    flashes += 1\n",
    "                    n = neighbors(matrix, x, y)\n",
    "                    for i, j in n:\n",
    "                        #print(f\"inc {i},{j}\")\n",
    "                        if matrix[i,j] != 10:\n",
    "                            matrix[i,j] += 1\n",
    "                    matrix[x,y] += 1\n",
    "    \n",
    "    matrix = np.where(matrix > 9, 0, matrix)\n",
    "    if np.count_nonzero(matrix) == 0:\n",
    "        print(f\"all flashed at {step}\")\n",
    "        break\n",
    "    \n",
    "\n",
    "#ani = animation.ArtistAnimation(fig, ims, interval=50, blit=True, repeat=True, repeat_delay=1000)\n",
    "#ani.save('movie4.gif')"
   ]
  },
  {
   "cell_type": "code",
   "execution_count": 11,
   "metadata": {},
   "outputs": [],
   "source": [
    "s = ['a', 'a', 'b', 'b']"
   ]
  },
  {
   "cell_type": "code",
   "execution_count": 13,
   "metadata": {},
   "outputs": [
    {
     "data": {
      "text/plain": [
       "{'a': 2, 'b': 2}"
      ]
     },
     "execution_count": 13,
     "metadata": {},
     "output_type": "execute_result"
    }
   ],
   "source": [
    "m = {}\n",
    "for e in s:\n",
    "    if e not in m:\n",
    "        m[e] = s.count(e)\n",
    "m"
   ]
  },
  {
   "cell_type": "code",
   "execution_count": 5,
   "metadata": {},
   "outputs": [
    {
     "ename": "TypeError",
     "evalue": "slice indices must be integers or have an __index__ method",
     "output_type": "error",
     "traceback": [
      "\u001b[0;31m---------------------------------------------------------------------------\u001b[0m",
      "\u001b[0;31mTypeError\u001b[0m                                 Traceback (most recent call last)",
      "\u001b[0;32m<ipython-input-5-89437363858b>\u001b[0m in \u001b[0;36m<module>\u001b[0;34m\u001b[0m\n\u001b[0;32m----> 1\u001b[0;31m \u001b[0;34m[\u001b[0m\u001b[0;34m'a'\u001b[0m\u001b[0;34m,\u001b[0m\u001b[0;34m'b'\u001b[0m\u001b[0;34m,\u001b[0m\u001b[0;34m'c'\u001b[0m\u001b[0;34m]\u001b[0m\u001b[0;34m.\u001b[0m\u001b[0mindex\u001b[0m\u001b[0;34m(\u001b[0m\u001b[0;34m*\u001b[0m\u001b[0;34m(\u001b[0m\u001b[0;34m'b'\u001b[0m\u001b[0;34m,\u001b[0m\u001b[0;34m'c'\u001b[0m\u001b[0;34m)\u001b[0m\u001b[0;34m)\u001b[0m\u001b[0;34m\u001b[0m\u001b[0;34m\u001b[0m\u001b[0m\n\u001b[0m",
      "\u001b[0;31mTypeError\u001b[0m: slice indices must be integers or have an __index__ method"
     ]
    }
   ],
   "source": [
    "['a','b','c'].index(*('b','c'))"
   ]
  },
  {
   "cell_type": "code",
   "execution_count": 6,
   "metadata": {},
   "outputs": [],
   "source": [
    "import timeit"
   ]
  },
  {
   "cell_type": "code",
   "execution_count": 9,
   "metadata": {},
   "outputs": [
    {
     "data": {
      "text/plain": [
       "['a',\n",
       " 'b',\n",
       " 'c',\n",
       " 'd',\n",
       " 'e',\n",
       " 'f',\n",
       " 'g',\n",
       " 'h',\n",
       " 'i',\n",
       " 'j',\n",
       " 'k',\n",
       " 'l',\n",
       " 'm',\n",
       " 'n',\n",
       " 'o',\n",
       " 'p']"
      ]
     },
     "execution_count": 9,
     "metadata": {},
     "output_type": "execute_result"
    }
   ],
   "source": [
    "list('abcdefghijklmnop')"
   ]
  },
  {
   "cell_type": "code",
   "execution_count": 11,
   "metadata": {},
   "outputs": [
    {
     "data": {
      "text/plain": [
       "0.3070366999995713"
      ]
     },
     "execution_count": 11,
     "metadata": {},
     "output_type": "execute_result"
    }
   ],
   "source": [
    "timeit.timeit(\"[x for x in 'abcdefghijklmnop']\")"
   ]
  },
  {
   "cell_type": "code",
   "execution_count": 12,
   "metadata": {},
   "outputs": [
    {
     "data": {
      "text/plain": [
       "0.15310870000030263"
      ]
     },
     "execution_count": 12,
     "metadata": {},
     "output_type": "execute_result"
    }
   ],
   "source": [
    "timeit.timeit(\"list('abcdefghijklmnop')\")"
   ]
  },
  {
   "cell_type": "code",
   "execution_count": 10,
   "metadata": {},
   "outputs": [],
   "source": [
    "\n",
    "def round_multiple(number, multiple):\n",
    "    r = number + multiple/2\n",
    "    r -= r % multiple\n",
    "    return r"
   ]
  },
  {
   "cell_type": "code",
   "execution_count": 11,
   "metadata": {},
   "outputs": [
    {
     "name": "stdout",
     "output_type": "stream",
     "text": [
      "1290.0\n",
      "0.0\n",
      "5.0\n",
      "5.0\n"
     ]
    }
   ],
   "source": [
    "print(round_multiple(1291, 5))\n",
    "print(round_multiple(0.069, 5))\n",
    "print(round_multiple(6, 5))\n",
    "print(round_multiple(6, 5))"
   ]
  },
  {
   "cell_type": "code",
   "execution_count": null,
   "metadata": {},
   "outputs": [],
   "source": []
  }
 ],
 "metadata": {
  "kernelspec": {
   "display_name": "Python 3 (ipykernel)",
   "language": "python",
   "name": "python3"
  },
  "language_info": {
   "codemirror_mode": {
    "name": "ipython",
    "version": 3
   },
   "file_extension": ".py",
   "mimetype": "text/x-python",
   "name": "python",
   "nbconvert_exporter": "python",
   "pygments_lexer": "ipython3",
   "version": "3.9.15"
  }
 },
 "nbformat": 4,
 "nbformat_minor": 4
}
