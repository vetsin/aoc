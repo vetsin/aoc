{
 "cells": [
  {
   "cell_type": "code",
   "execution_count": 13,
   "metadata": {},
   "outputs": [],
   "source": [
    "import pandas as pd\n",
    "import numpy as np"
   ]
  },
  {
   "cell_type": "code",
   "execution_count": 14,
   "metadata": {},
   "outputs": [],
   "source": [
    "with open('day5.txt', 'r') as f:\n",
    "    data = f.read()"
   ]
  },
  {
   "cell_type": "code",
   "execution_count": 422,
   "metadata": {},
   "outputs": [],
   "source": [
    "data = '''0,9 -> 5,9\n",
    "8,0 -> 0,8\n",
    "9,4 -> 3,4\n",
    "2,2 -> 2,1\n",
    "7,0 -> 7,4\n",
    "6,4 -> 2,0\n",
    "0,9 -> 2,9\n",
    "3,4 -> 1,4\n",
    "0,0 -> 8,8\n",
    "5,5 -> 8,2'''"
   ]
  },
  {
   "cell_type": "code",
   "execution_count": 15,
   "metadata": {},
   "outputs": [],
   "source": [
    "lines = data.split('\\n')\n",
    "lines = [list(map(lambda x: list(map(int, x.split(','))), line.split(' -> '))) for line in lines ]"
   ]
  },
  {
   "cell_type": "code",
   "execution_count": 16,
   "metadata": {},
   "outputs": [],
   "source": [
    "size = max([ n for sl in lines for i in sl for n in i ]) + 1"
   ]
  },
  {
   "cell_type": "code",
   "execution_count": 17,
   "metadata": {},
   "outputs": [],
   "source": [
    "board = pd.DataFrame(np.array([0] * (size*size)).reshape(size, size), dtype='int')\n",
    "#board"
   ]
  },
  {
   "cell_type": "markdown",
   "metadata": {},
   "source": [
    "## Part 1"
   ]
  },
  {
   "cell_type": "code",
   "execution_count": 18,
   "metadata": {},
   "outputs": [],
   "source": [
    "for (x1, y1), (x2, y2) in lines:\n",
    "    x, y = x1, y1\n",
    "    dx, dy = np.sign(x2-x1), np.sign(y2-y1)\n",
    "    while x != x2 + dx or y != y2 + dy:\n",
    "        board[x].iloc[y] += 1\n",
    "        x += dx\n",
    "        y += dy"
   ]
  },
  {
   "cell_type": "code",
   "execution_count": 19,
   "metadata": {},
   "outputs": [
    {
     "data": {
      "text/plain": [
       "19472"
      ]
     },
     "execution_count": 19,
     "metadata": {},
     "output_type": "execute_result"
    }
   ],
   "source": [
    "vc = pd.value_counts(board.values.flatten())\n",
    "vc[vc.index > 1].values.sum()"
   ]
  },
  {
   "cell_type": "markdown",
   "metadata": {},
   "source": [
    "## Part 2"
   ]
  },
  {
   "cell_type": "code",
   "execution_count": 20,
   "metadata": {},
   "outputs": [
    {
     "data": {
      "text/plain": [
       "19472"
      ]
     },
     "execution_count": 20,
     "metadata": {},
     "output_type": "execute_result"
    }
   ],
   "source": [
    "lines = [list(map(lambda x: list(map(int, x.split(','))), line.split(' -> '))) for line in data.split('\\n') ]\n",
    "size = max([ n for sl in lines for i in sl for n in i ]) + 1\n",
    "board = pd.DataFrame(np.array([0] * (size*size)).reshape(size, size), dtype='int')\n",
    "for (x1, y1), (x2, y2) in lines:\n",
    "    x, y = x1, y1\n",
    "    dx, dy = np.sign(x2-x1), np.sign(y2-y1)\n",
    "    while x != x2 + dx or y != y2 + dy:\n",
    "        board[x].iloc[y] += 1\n",
    "        x += dx\n",
    "        y += dy\n",
    "vc = pd.value_counts(board.values.flatten())\n",
    "vc[vc.index > 1].values.sum()"
   ]
  },
  {
   "cell_type": "code",
   "execution_count": null,
   "metadata": {},
   "outputs": [],
   "source": []
  }
 ],
 "metadata": {
  "kernelspec": {
   "display_name": "Python 3",
   "language": "python",
   "name": "python3"
  },
  "language_info": {
   "codemirror_mode": {
    "name": "ipython",
    "version": 3
   },
   "file_extension": ".py",
   "mimetype": "text/x-python",
   "name": "python",
   "nbconvert_exporter": "python",
   "pygments_lexer": "ipython3",
   "version": "3.7.2"
  }
 },
 "nbformat": 4,
 "nbformat_minor": 4
}
