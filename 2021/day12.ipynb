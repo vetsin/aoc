{
 "cells": [
  {
   "cell_type": "code",
   "execution_count": 507,
   "metadata": {},
   "outputs": [],
   "source": [
    "from pprint import pprint\n",
    "import numpy as np\n",
    "import pandas as pd\n",
    "from collections import Counter"
   ]
  },
  {
   "cell_type": "code",
   "execution_count": 483,
   "metadata": {},
   "outputs": [],
   "source": [
    "data = '''fs-end\n",
    "he-DX\n",
    "fs-he\n",
    "start-DX\n",
    "pj-DX\n",
    "end-zg\n",
    "zg-sl\n",
    "zg-pj\n",
    "pj-he\n",
    "RW-he\n",
    "fs-DX\n",
    "pj-RW\n",
    "zg-RW\n",
    "start-pj\n",
    "he-WI\n",
    "zg-he\n",
    "pj-fs\n",
    "start-RW'''"
   ]
  },
  {
   "cell_type": "code",
   "execution_count": 486,
   "metadata": {},
   "outputs": [],
   "source": [
    "data = '''pn-TY\n",
    "rp-ka\n",
    "az-aw\n",
    "al-IV\n",
    "pn-co\n",
    "end-rp\n",
    "aw-TY\n",
    "rp-pn\n",
    "al-rp\n",
    "end-al\n",
    "IV-co\n",
    "end-TM\n",
    "co-TY\n",
    "TY-ka\n",
    "aw-pn\n",
    "aw-IV\n",
    "pn-IV\n",
    "IV-ka\n",
    "TM-rp\n",
    "aw-PD\n",
    "start-IV\n",
    "start-co\n",
    "start-pn'''"
   ]
  },
  {
   "cell_type": "code",
   "execution_count": 487,
   "metadata": {},
   "outputs": [
    {
     "data": {
      "text/plain": [
       "{'pn': {'IV', 'TY', 'aw', 'co', 'rp', 'start'},\n",
       " 'rp': {'TM', 'al', 'end', 'ka', 'pn'},\n",
       " 'az': {'aw'},\n",
       " 'al': {'IV', 'end', 'rp'},\n",
       " 'end': {'TM', 'al', 'rp'},\n",
       " 'aw': {'IV', 'PD', 'TY', 'az', 'pn'},\n",
       " 'IV': {'al', 'aw', 'co', 'ka', 'pn', 'start'},\n",
       " 'co': {'IV', 'TY', 'pn', 'start'},\n",
       " 'TY': {'aw', 'co', 'ka', 'pn'},\n",
       " 'TM': {'end', 'rp'},\n",
       " 'start': {'IV', 'co', 'pn'},\n",
       " 'ka': {'IV', 'TY', 'rp'},\n",
       " 'PD': {'aw'}}"
      ]
     },
     "execution_count": 487,
     "metadata": {},
     "output_type": "execute_result"
    }
   ],
   "source": [
    "graph = {}\n",
    "\n",
    "for line in data.split('\\n'):\n",
    "    l, r =line.split('-')\n",
    "    if l not in graph:\n",
    "        graph[l] = set()\n",
    "    graph[l].add(r)\n",
    "    \n",
    "def can_travel(_from, to):\n",
    "    if to == 'start':\n",
    "        return False\n",
    "    if to.isupper():\n",
    "        return True\n",
    "    elif to in graph and _from in graph[to]:\n",
    "        return False\n",
    "    return True\n",
    "#print(graph)\n",
    "for key in list(graph.keys()):\n",
    "    to = graph[key]\n",
    "    for t in to:\n",
    "        if t not in graph:\n",
    "            graph[t] = set()\n",
    "        if can_travel(t, key):\n",
    "            graph[t].add(key)\n",
    "# bidirec\n",
    "for key in list(graph.keys()):\n",
    "    to = graph[key]\n",
    "    for t in to:\n",
    "        graph[t].add(key)\n",
    "\n",
    "for key in list(graph.keys()):\n",
    "    if len(graph[key]) == 0:\n",
    "        del graph[key]\n",
    "graph"
   ]
  },
  {
   "cell_type": "code",
   "execution_count": 509,
   "metadata": {},
   "outputs": [
    {
     "name": "stdout",
     "output_type": "stream",
     "text": [
      "643630\n"
     ]
    }
   ],
   "source": [
    "visited_list = []\n",
    "c = 0\n",
    "\n",
    "def can_visit(node, visited):\n",
    "    if node == 'start':\n",
    "        return False\n",
    "    if node.isupper():\n",
    "        return True\n",
    "    elif node not in visited:\n",
    "        return True\n",
    "    return False\n",
    "\n",
    "def can_visit_pt2(node, visited):\n",
    "    if node == 'start':\n",
    "        return False\n",
    "    if node.isupper():\n",
    "        return True\n",
    "    # a single small cave twice\n",
    "    if visited.count(node) > 1:\n",
    "        return False\n",
    "    s = pd.Series([x for x in visited if x.islower()]).value_counts().values\n",
    "    if len(s[s >= 2]) > 1:\n",
    "        return False\n",
    "\n",
    "    return True\n",
    "\n",
    "def can_visit_pt2a(node, visited):\n",
    "    if node == 'start':\n",
    "        return False\n",
    "    if node.isupper():\n",
    "        return True\n",
    "    # a single small cave twice\n",
    "    c = Counter([x for x in visited if x.islower()])\n",
    "    if c[node] > 2:\n",
    "        return False\n",
    "    if len([x for x in c.values() if x > 1]) > 1:\n",
    "        return False\n",
    "\n",
    "    return True\n",
    "\n",
    "def depth_first(root, visited=[]):\n",
    "    global c\n",
    "    visited.append(root)\n",
    "    if root == 'end':\n",
    "        c+=1\n",
    "        #print(c)\n",
    "        #visited_list.append(visited)\n",
    "        return\n",
    "    elif root not in graph:\n",
    "        return\n",
    "    for node in graph[root]:\n",
    "        if can_visit_pt2a(node, visited):\n",
    "            depth_first(node, visited.copy())\n",
    "depth_first('start')\n",
    "print(c)"
   ]
  },
  {
   "cell_type": "code",
   "execution_count": null,
   "metadata": {},
   "outputs": [],
   "source": [
    "s = set()\n",
    "for e in visited_list[::-1]:\n",
    "    v = ','.join(e)\n",
    "    s.add(v)\n",
    "    #print(v)"
   ]
  },
  {
   "cell_type": "code",
   "execution_count": null,
   "metadata": {},
   "outputs": [],
   "source": [
    "len(visited_list)"
   ]
  },
  {
   "cell_type": "code",
   "execution_count": null,
   "metadata": {},
   "outputs": [],
   "source": [
    "len(s)"
   ]
  },
  {
   "cell_type": "code",
   "execution_count": 489,
   "metadata": {},
   "outputs": [],
   "source": []
  },
  {
   "cell_type": "code",
   "execution_count": null,
   "metadata": {},
   "outputs": [],
   "source": [
    "[\"a\", \"a\", \"b\", \"c\"]"
   ]
  },
  {
   "cell_type": "code",
   "execution_count": null,
   "metadata": {},
   "outputs": [],
   "source": []
  },
  {
   "cell_type": "code",
   "execution_count": 503,
   "metadata": {},
   "outputs": [],
   "source": [
    "def a():\n",
    "    len([x for x in Counter([\"a\", \"a\", \"b\", \"c\"]).values() if x > 1]) > 1"
   ]
  },
  {
   "cell_type": "code",
   "execution_count": 504,
   "metadata": {},
   "outputs": [],
   "source": [
    "def b():\n",
    "    s = pd.Series([\"a\", \"a\", \"b\", \"c\"]).value_counts().values\n",
    "    len(s[s >= 2]) > 1"
   ]
  },
  {
   "cell_type": "code",
   "execution_count": 499,
   "metadata": {},
   "outputs": [],
   "source": [
    "import timeit"
   ]
  },
  {
   "cell_type": "code",
   "execution_count": 505,
   "metadata": {},
   "outputs": [
    {
     "data": {
      "text/plain": [
       "0.016838600000482984"
      ]
     },
     "execution_count": 505,
     "metadata": {},
     "output_type": "execute_result"
    }
   ],
   "source": [
    "timeit.timeit(a, number=10000)"
   ]
  },
  {
   "cell_type": "code",
   "execution_count": 506,
   "metadata": {},
   "outputs": [
    {
     "data": {
      "text/plain": [
       "4.042230000006384"
      ]
     },
     "execution_count": 506,
     "metadata": {},
     "output_type": "execute_result"
    }
   ],
   "source": [
    "timeit.timeit(b, number=10000)"
   ]
  },
  {
   "cell_type": "code",
   "execution_count": null,
   "metadata": {},
   "outputs": [],
   "source": []
  }
 ],
 "metadata": {
  "kernelspec": {
   "display_name": "Python 3 (ipykernel)",
   "language": "python",
   "name": "python3"
  },
  "language_info": {
   "codemirror_mode": {
    "name": "ipython",
    "version": 3
   },
   "file_extension": ".py",
   "mimetype": "text/x-python",
   "name": "python",
   "nbconvert_exporter": "python",
   "pygments_lexer": "ipython3",
   "version": "3.9.15"
  }
 },
 "nbformat": 4,
 "nbformat_minor": 4
}
