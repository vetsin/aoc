{
 "cells": [
  {
   "cell_type": "code",
   "execution_count": 59,
   "metadata": {},
   "outputs": [
    {
     "name": "stderr",
     "output_type": "stream",
     "text": [
      "/home/vetsin/.pyenv/versions/3.7.2/lib/python3.7/site-packages/pandas/compat/__init__.py:117: UserWarning: Could not import the lzma module. Your installed Python is incomplete. Attempting to use lzma compression will result in a RuntimeError.\n",
      "  warnings.warn(msg)\n"
     ]
    }
   ],
   "source": [
    "import numpy as np\n",
    "import pandas as pd"
   ]
  },
  {
   "cell_type": "code",
   "execution_count": 3,
   "metadata": {},
   "outputs": [],
   "source": [
    "data = '''NNCB\n",
    "\n",
    "CH -> B\n",
    "HH -> N\n",
    "CB -> H\n",
    "NH -> C\n",
    "HB -> C\n",
    "HC -> B\n",
    "HN -> C\n",
    "NN -> C\n",
    "BH -> H\n",
    "NC -> B\n",
    "NB -> B\n",
    "BN -> B\n",
    "BB -> N\n",
    "BC -> B\n",
    "CC -> N\n",
    "CN -> C'''"
   ]
  },
  {
   "cell_type": "code",
   "execution_count": 125,
   "metadata": {},
   "outputs": [],
   "source": [
    "data = '''CKKOHNSBPCPCHVNKHFFK\n",
    "\n",
    "KO -> C\n",
    "SO -> S\n",
    "BF -> V\n",
    "VN -> B\n",
    "OV -> K\n",
    "VH -> O\n",
    "KV -> N\n",
    "KB -> F\n",
    "NB -> C\n",
    "HS -> K\n",
    "PF -> B\n",
    "HB -> N\n",
    "OC -> H\n",
    "FS -> F\n",
    "VV -> S\n",
    "KF -> C\n",
    "FN -> F\n",
    "KP -> S\n",
    "HO -> N\n",
    "NH -> K\n",
    "OO -> S\n",
    "FB -> C\n",
    "BP -> F\n",
    "CH -> N\n",
    "SN -> O\n",
    "KN -> B\n",
    "CV -> O\n",
    "CC -> B\n",
    "VB -> C\n",
    "PH -> V\n",
    "CO -> K\n",
    "KS -> K\n",
    "BK -> N\n",
    "FH -> S\n",
    "PV -> H\n",
    "CB -> P\n",
    "FO -> F\n",
    "BB -> K\n",
    "OB -> C\n",
    "HH -> F\n",
    "ON -> O\n",
    "FK -> B\n",
    "NF -> F\n",
    "SV -> F\n",
    "CP -> H\n",
    "SS -> B\n",
    "OP -> H\n",
    "NS -> O\n",
    "HK -> N\n",
    "BC -> P\n",
    "NV -> V\n",
    "VS -> F\n",
    "PC -> V\n",
    "CS -> F\n",
    "NP -> V\n",
    "PS -> F\n",
    "VC -> F\n",
    "KK -> S\n",
    "PO -> P\n",
    "HF -> H\n",
    "KC -> P\n",
    "SF -> N\n",
    "BV -> N\n",
    "FF -> V\n",
    "FV -> V\n",
    "BO -> N\n",
    "OS -> C\n",
    "OF -> H\n",
    "CN -> S\n",
    "NO -> O\n",
    "NC -> B\n",
    "VK -> C\n",
    "HN -> B\n",
    "PK -> N\n",
    "SK -> S\n",
    "HV -> F\n",
    "BH -> B\n",
    "OK -> S\n",
    "VO -> B\n",
    "BS -> H\n",
    "PP -> N\n",
    "SC -> K\n",
    "BN -> P\n",
    "FC -> S\n",
    "SB -> B\n",
    "SH -> H\n",
    "NN -> V\n",
    "NK -> N\n",
    "VF -> H\n",
    "CF -> F\n",
    "PB -> C\n",
    "SP -> P\n",
    "KH -> C\n",
    "VP -> N\n",
    "CK -> H\n",
    "HP -> P\n",
    "FP -> B\n",
    "HC -> O\n",
    "PN -> F\n",
    "OH -> H'''"
   ]
  },
  {
   "cell_type": "code",
   "execution_count": 130,
   "metadata": {},
   "outputs": [],
   "source": [
    "def template_sub(template: str, insertions: list):\n",
    "    t = [ c for c in template ]\n",
    "    queue = []\n",
    "    offset = 1\n",
    "    for k, v in insertions:\n",
    "        i = template.find(k)\n",
    "        while i >= 0:\n",
    "            queue.append((i, v))\n",
    "            i = template.find(k, i+1)\n",
    "    queue.sort()\n",
    "    for i, v in queue:\n",
    "        #print(f\"({i},{v}) to be inserted at {i+offset}\")\n",
    "        #print('\\t%s'%''.join(t))\n",
    "        #print(f\"\\t{' '*(i+offset-1)}/\\\\\")\n",
    "        t.insert(i+offset, v)\n",
    "        offset += len(v)\n",
    "    return ''.join(t)\n",
    "    "
   ]
  },
  {
   "cell_type": "code",
   "execution_count": 131,
   "metadata": {},
   "outputs": [
    {
     "ename": "KeyboardInterrupt",
     "evalue": "",
     "output_type": "error",
     "traceback": [
      "\u001b[0;31m---------------------------------------------------------------------------\u001b[0m",
      "\u001b[0;31mKeyboardInterrupt\u001b[0m                         Traceback (most recent call last)",
      "\u001b[0;32m<ipython-input-131-b590a0ebfca1>\u001b[0m in \u001b[0;36m<module>\u001b[0;34m\u001b[0m\n\u001b[1;32m      2\u001b[0m \u001b[0minsertions\u001b[0m \u001b[0;34m=\u001b[0m \u001b[0;34m[\u001b[0m\u001b[0mx\u001b[0m\u001b[0;34m.\u001b[0m\u001b[0msplit\u001b[0m\u001b[0;34m(\u001b[0m\u001b[0;34m' -> '\u001b[0m\u001b[0;34m)\u001b[0m \u001b[0;32mfor\u001b[0m \u001b[0mx\u001b[0m \u001b[0;32min\u001b[0m \u001b[0minsertions\u001b[0m\u001b[0;34m.\u001b[0m\u001b[0msplit\u001b[0m\u001b[0;34m(\u001b[0m\u001b[0;34m'\\n'\u001b[0m\u001b[0;34m)\u001b[0m\u001b[0;34m]\u001b[0m\u001b[0;34m\u001b[0m\u001b[0;34m\u001b[0m\u001b[0m\n\u001b[1;32m      3\u001b[0m \u001b[0;32mfor\u001b[0m \u001b[0mi\u001b[0m \u001b[0;32min\u001b[0m \u001b[0mrange\u001b[0m\u001b[0;34m(\u001b[0m\u001b[0;36m40\u001b[0m\u001b[0;34m)\u001b[0m\u001b[0;34m:\u001b[0m\u001b[0;34m\u001b[0m\u001b[0;34m\u001b[0m\u001b[0m\n\u001b[0;32m----> 4\u001b[0;31m     \u001b[0mtemplate\u001b[0m \u001b[0;34m=\u001b[0m \u001b[0mtemplate_sub\u001b[0m\u001b[0;34m(\u001b[0m\u001b[0mtemplate\u001b[0m\u001b[0;34m,\u001b[0m \u001b[0minsertions\u001b[0m\u001b[0;34m)\u001b[0m\u001b[0;34m\u001b[0m\u001b[0;34m\u001b[0m\u001b[0m\n\u001b[0m\u001b[1;32m      5\u001b[0m \u001b[0;31m#template\u001b[0m\u001b[0;34m\u001b[0m\u001b[0;34m\u001b[0m\u001b[0;34m\u001b[0m\u001b[0m\n",
      "\u001b[0;32m<ipython-input-130-8dc548b976b7>\u001b[0m in \u001b[0;36mtemplate_sub\u001b[0;34m(template, insertions)\u001b[0m\n\u001b[1;32m     13\u001b[0m         \u001b[0;31m#print('\\t%s'%''.join(t))\u001b[0m\u001b[0;34m\u001b[0m\u001b[0;34m\u001b[0m\u001b[0;34m\u001b[0m\u001b[0m\n\u001b[1;32m     14\u001b[0m         \u001b[0;31m#print(f\"\\t{' '*(i+offset-1)}/\\\\\")\u001b[0m\u001b[0;34m\u001b[0m\u001b[0;34m\u001b[0m\u001b[0;34m\u001b[0m\u001b[0m\n\u001b[0;32m---> 15\u001b[0;31m         \u001b[0mt\u001b[0m\u001b[0;34m.\u001b[0m\u001b[0minsert\u001b[0m\u001b[0;34m(\u001b[0m\u001b[0mi\u001b[0m\u001b[0;34m+\u001b[0m\u001b[0moffset\u001b[0m\u001b[0;34m,\u001b[0m \u001b[0mv\u001b[0m\u001b[0;34m)\u001b[0m\u001b[0;34m\u001b[0m\u001b[0;34m\u001b[0m\u001b[0m\n\u001b[0m\u001b[1;32m     16\u001b[0m         \u001b[0moffset\u001b[0m \u001b[0;34m+=\u001b[0m \u001b[0mlen\u001b[0m\u001b[0;34m(\u001b[0m\u001b[0mv\u001b[0m\u001b[0;34m)\u001b[0m\u001b[0;34m\u001b[0m\u001b[0;34m\u001b[0m\u001b[0m\n\u001b[1;32m     17\u001b[0m     \u001b[0;32mreturn\u001b[0m \u001b[0;34m''\u001b[0m\u001b[0;34m.\u001b[0m\u001b[0mjoin\u001b[0m\u001b[0;34m(\u001b[0m\u001b[0mt\u001b[0m\u001b[0;34m)\u001b[0m\u001b[0;34m\u001b[0m\u001b[0;34m\u001b[0m\u001b[0m\n",
      "\u001b[0;31mKeyboardInterrupt\u001b[0m: "
     ]
    }
   ],
   "source": [
    "template, insertions = data.split('\\n\\n')\n",
    "insertions = [x.split(' -> ') for x in insertions.split('\\n')]\n",
    "for i in range(40):\n",
    "    template = template_sub(template, insertions)\n",
    "#template"
   ]
  },
  {
   "cell_type": "code",
   "execution_count": null,
   "metadata": {},
   "outputs": [],
   "source": [
    "vc = pd.Series([c for c in template]).value_counts()\n",
    "vc[0] - vc[-1]"
   ]
  },
  {
   "cell_type": "code",
   "execution_count": null,
   "metadata": {},
   "outputs": [],
   "source": [
    "def template_sub(template: list, insertions: list, iterations=1):\n",
    "    t = list(template)\n",
    "    queue = []\n",
    "    for k, v in insertions:\n",
    "        i = template.find(k)\n",
    "        while i >= 0:\n",
    "            queue.append((i, v))\n",
    "            i = template.find(k, i+1)\n",
    "    queue.sort()\n",
    "    for j, c in enumerate(queue):\n",
    "        i, v = c\n",
    "        t.insert(i+j, v)\n",
    "    return ''.join(t)\n",
    "    "
   ]
  }
 ],
 "metadata": {
  "kernelspec": {
   "display_name": "Python 3 (ipykernel)",
   "language": "python",
   "name": "python3"
  },
  "language_info": {
   "codemirror_mode": {
    "name": "ipython",
    "version": 3
   },
   "file_extension": ".py",
   "mimetype": "text/x-python",
   "name": "python",
   "nbconvert_exporter": "python",
   "pygments_lexer": "ipython3",
   "version": "3.9.15"
  }
 },
 "nbformat": 4,
 "nbformat_minor": 4
}
