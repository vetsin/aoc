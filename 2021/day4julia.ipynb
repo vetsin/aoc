{
 "cells": [
  {
   "cell_type": "code",
   "execution_count": 41,
   "metadata": {},
   "outputs": [],
   "source": [
    "using DataFrames"
   ]
  },
  {
   "cell_type": "code",
   "execution_count": 42,
   "metadata": {},
   "outputs": [
    {
     "data": {
      "text/plain": [
       "NaN"
      ]
     },
     "execution_count": 42,
     "metadata": {},
     "output_type": "execute_result"
    }
   ],
   "source": [
    "data = open(\"day4.txt\") do f\n",
    "    read(f, String)\n",
    "end\n",
    "NaN"
   ]
  },
  {
   "cell_type": "code",
   "execution_count": 70,
   "metadata": {},
   "outputs": [
    {
     "data": {
      "text/plain": [
       "NaN"
      ]
     },
     "execution_count": 70,
     "metadata": {},
     "output_type": "execute_result"
    }
   ],
   "source": [
    "numbers, boards... = split(data, \"\\n\\n\")\n",
    "numbers = split(numbers, ',')\n",
    "NaN"
   ]
  },
  {
   "cell_type": "code",
   "execution_count": 80,
   "metadata": {},
   "outputs": [
    {
     "data": {
      "text/plain": [
       "\"67 30 89 43  3\\n86 10 38 90 77\\n70 78 97 94 33\\n29  8 85 69 56\\n40 80 47 12 17\""
      ]
     },
     "execution_count": 80,
     "metadata": {},
     "output_type": "execute_result"
    }
   ],
   "source": [
    "getindex(boards, length(boards))"
   ]
  },
  {
   "cell_type": "code",
   "execution_count": 58,
   "metadata": {},
   "outputs": [
    {
     "ename": "LoadError",
     "evalue": "syntax: character literal contains multiple characters",
     "output_type": "error",
     "traceback": [
      "syntax: character literal contains multiple characters",
      "",
      "Stacktrace:",
      " [1] top-level scope",
      "   @ In[58]:1",
      " [2] eval",
      "   @ ./boot.jl:373 [inlined]",
      " [3] include_string(mapexpr::typeof(REPL.softscope), mod::Module, code::String, filename::String)",
      "   @ Base ./loading.jl:1196"
     ]
    }
   ],
   "source": [
    "split.(split(boards, '\\n'), '  ')"
   ]
  },
  {
   "cell_type": "code",
   "execution_count": 68,
   "metadata": {},
   "outputs": [
    {
     "data": {
      "text/plain": [
       "5×5 Matrix{Int8}:\n",
       " 26  40  75  29  49\n",
       " 68  88  67   2  25\n",
       "  3  50   8  73  80\n",
       " 95  22  64  78  89\n",
       " 59  48   6   5  96"
      ]
     },
     "execution_count": 68,
     "metadata": {},
     "output_type": "execute_result"
    }
   ],
   "source": [
    "reshape(map(x -> parse(Int8, x), split(boards, r\"\\s+\")), 5, 5)"
   ]
  },
  {
   "cell_type": "code",
   "execution_count": 139,
   "metadata": {},
   "outputs": [
    {
     "name": "stdout",
     "output_type": "stream",
     "text": [
      "SubString{String}[\"15\"]\n"
     ]
    },
    {
     "ename": "LoadError",
     "evalue": "MethodError: no method matching isless(::Bool, ::SubString{String})\n\u001b[0mClosest candidates are:\n\u001b[0m  isless(\u001b[91m::AbstractString\u001b[39m, ::AbstractString) at /opt/julia-1.7.0/share/julia/base/strings/basic.jl:344\n\u001b[0m  isless(::Real, \u001b[91m::AbstractFloat\u001b[39m) at /opt/julia-1.7.0/share/julia/base/operators.jl:185\n\u001b[0m  isless(::Real, \u001b[91m::Real\u001b[39m) at /opt/julia-1.7.0/share/julia/base/operators.jl:430\n\u001b[0m  ...",
     "output_type": "error",
     "traceback": [
      "MethodError: no method matching isless(::Bool, ::SubString{String})\n\u001b[0mClosest candidates are:\n\u001b[0m  isless(\u001b[91m::AbstractString\u001b[39m, ::AbstractString) at /opt/julia-1.7.0/share/julia/base/strings/basic.jl:344\n\u001b[0m  isless(::Real, \u001b[91m::AbstractFloat\u001b[39m) at /opt/julia-1.7.0/share/julia/base/operators.jl:185\n\u001b[0m  isless(::Real, \u001b[91m::Real\u001b[39m) at /opt/julia-1.7.0/share/julia/base/operators.jl:430\n\u001b[0m  ...",
      "",
      "Stacktrace:",
      "  [1] <(x::Bool, y::SubString{String})",
      "    @ Base ./operators.jl:352",
      "  [2] >(x::SubString{String}, y::Bool)",
      "    @ Base ./operators.jl:378",
      "  [3] _broadcast_getindex_evalf",
      "    @ ./broadcast.jl:670 [inlined]",
      "  [4] _broadcast_getindex",
      "    @ ./broadcast.jl:643 [inlined]",
      "  [5] getindex",
      "    @ ./broadcast.jl:597 [inlined]",
      "  [6] copy",
      "    @ ./broadcast.jl:899 [inlined]",
      "  [7] materialize(bc::Base.Broadcast.Broadcasted{Base.Broadcast.DefaultArrayStyle{2}, Nothing, typeof(>), Tuple{Base.RefValue{SubString{String}}, Base.Broadcast.Broadcasted{Base.Broadcast.DefaultArrayStyle{2}, Nothing, typeof(in), Tuple{Matrix{Int8}, Vector{SubString{String}}}}}})",
      "    @ Base.Broadcast ./broadcast.jl:860",
      "  [8] top-level scope",
      "    @ In[139]:6",
      "  [9] eval",
      "    @ ./boot.jl:373 [inlined]",
      " [10] include_string(mapexpr::typeof(REPL.softscope), mod::Module, code::String, filename::String)",
      "    @ Base ./loading.jl:1196"
     ]
    }
   ],
   "source": [
    "for n = 1:length(numbers)\n",
    "    n = numbers[1:n]\n",
    "    for board = boards\n",
    "        println(n)\n",
    "        mboard = reshape(map(x -> parse(Int8, x), split(strip(board), r\"(\\s+)\")), 5, 5)\n",
    "        println(board .> in.(mboard, n))\n",
    "        #println(board[in.(mboard, n)])\n",
    "        break\n",
    "    end\n",
    "    break\n",
    "end"
   ]
  },
  {
   "cell_type": "code",
   "execution_count": 130,
   "metadata": {},
   "outputs": [
    {
     "ename": "LoadError",
     "evalue": "MethodError: no method matching ~(::Matrix{Int8}, ::BitMatrix)",
     "output_type": "error",
     "traceback": [
      "MethodError: no method matching ~(::Matrix{Int8}, ::BitMatrix)",
      "",
      "Stacktrace:",
      " [1] top-level scope",
      "   @ In[130]:1",
      " [2] eval",
      "   @ ./boot.jl:373 [inlined]",
      " [3] include_string(mapexpr::typeof(REPL.softscope), mod::Module, code::String, filename::String)",
      "   @ Base ./loading.jl:1196"
     ]
    }
   ],
   "source": [
    "Int8[26 40 75 29 49; 68 88 67 2 25; 3 50 8 73 80; 95 22 64 78 89; 59 48 6 5 96] ~ in.(Int8[26 40 75 29 49; 68 88 67 2 25; 3 50 8 73 80; 95 22 64 78 89; 59 48 6 5 96], [40])"
   ]
  },
  {
   "cell_type": "code",
   "execution_count": null,
   "metadata": {},
   "outputs": [],
   "source": []
  }
 ],
 "metadata": {
  "kernelspec": {
   "display_name": "Julia 1.7.0",
   "language": "julia",
   "name": "julia-1.7"
  },
  "language_info": {
   "file_extension": ".jl",
   "mimetype": "application/julia",
   "name": "julia",
   "version": "1.7.0"
  }
 },
 "nbformat": 4,
 "nbformat_minor": 4
}
