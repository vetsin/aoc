{
 "cells": [
  {
   "cell_type": "code",
   "execution_count": 56,
   "metadata": {},
   "outputs": [],
   "source": [
    "import pandas as pd\n",
    "import numpy as np"
   ]
  },
  {
   "cell_type": "code",
   "execution_count": 50,
   "metadata": {},
   "outputs": [],
   "source": [
    "with open('day4.txt', 'r') as f:\n",
    "    data = f.read()"
   ]
  },
  {
   "cell_type": "code",
   "execution_count": 51,
   "metadata": {},
   "outputs": [],
   "source": [
    "numbers, *boards = data.split('\\n\\n')\n",
    "numbers = numbers.split(',')"
   ]
  },
  {
   "cell_type": "code",
   "execution_count": 52,
   "metadata": {},
   "outputs": [],
   "source": [
    "dfboards = [pd.DataFrame(np.array(b.split()).reshape(5, 5), dtype='int') for b in boards]"
   ]
  },
  {
   "cell_type": "markdown",
   "metadata": {},
   "source": [
    "## Part 1"
   ]
  },
  {
   "cell_type": "code",
   "execution_count": 53,
   "metadata": {},
   "outputs": [],
   "source": [
    "def won(board):\n",
    "    for i in board:\n",
    "        if board[i].isna().sum() >= 5: return True\n",
    "        if board.iloc[i].isna().sum() >= 5: return True\n",
    "    return False"
   ]
  },
  {
   "cell_type": "code",
   "execution_count": 55,
   "metadata": {},
   "outputs": [
    {
     "data": {
      "text/plain": [
       "58412"
      ]
     },
     "execution_count": 55,
     "metadata": {},
     "output_type": "execute_result"
    }
   ],
   "source": [
    "def findwinner():\n",
    "    for i in range(1,len(numbers)):\n",
    "        for board in dfboards:\n",
    "            mboard = board.mask(board.isin(numbers[:i]))\n",
    "            if won(mboard):\n",
    "                return int(mboard.fillna(0).values.sum()) * int(numbers[i-1])\n",
    "# actual puzzle\n",
    "findwinner()"
   ]
  },
  {
   "cell_type": "markdown",
   "metadata": {},
   "source": [
    "## Part 2"
   ]
  },
  {
   "cell_type": "code",
   "execution_count": 57,
   "metadata": {},
   "outputs": [],
   "source": [
    "def notin(dfl, x):\n",
    "    for e,m,i in dfl:\n",
    "        if e.equals(x): return False\n",
    "    return True"
   ]
  },
  {
   "cell_type": "code",
   "execution_count": 58,
   "metadata": {},
   "outputs": [],
   "source": [
    "def findlastwinner():\n",
    "    dfboards = [pd.DataFrame(np.array(b.split()).reshape(5, 5), dtype='int') for b in boards]\n",
    "    last_winners = []\n",
    "    for i in range(1,len(numbers)):\n",
    "        winners = []\n",
    "        for board in dfboards:\n",
    "            mboard = board.mask(board.isin(numbers[:i]))\n",
    "            if won(mboard):\n",
    "                winners.append((board,mboard,int(numbers[i-1])))\n",
    "        dfboards = [ x for x in dfboards if notin(winners, x) ]\n",
    "        if len(winners) > 0:\n",
    "            last_winners = winners\n",
    "    return int(last_winners[0][1].fillna(0).values.sum()) * int(last_winners[0][2])\n"
   ]
  },
  {
   "cell_type": "code",
   "execution_count": 59,
   "metadata": {},
   "outputs": [
    {
     "data": {
      "text/plain": [
       "10030"
      ]
     },
     "execution_count": 59,
     "metadata": {},
     "output_type": "execute_result"
    }
   ],
   "source": [
    "findlastwinner()"
   ]
  },
  {
   "cell_type": "code",
   "execution_count": null,
   "metadata": {},
   "outputs": [],
   "source": []
  }
 ],
 "metadata": {
  "kernelspec": {
   "display_name": "Python 3",
   "language": "python",
   "name": "python3"
  },
  "language_info": {
   "codemirror_mode": {
    "name": "ipython",
    "version": 3
   },
   "file_extension": ".py",
   "mimetype": "text/x-python",
   "name": "python",
   "nbconvert_exporter": "python",
   "pygments_lexer": "ipython3",
   "version": "3.7.2"
  }
 },
 "nbformat": 4,
 "nbformat_minor": 4
}
