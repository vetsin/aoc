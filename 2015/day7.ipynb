{
 "cells": [
  {
   "cell_type": "code",
   "execution_count": 8,
   "id": "5cf4ba9d-3ba8-46a7-9317-de9e9c73edad",
   "metadata": {},
   "outputs": [],
   "source": [
    "from aocd import get_data\n",
    "data = get_data(day=7, year=2015)"
   ]
  },
  {
   "cell_type": "code",
   "execution_count": 2,
   "id": "65eb6a8a-2955-47fc-81c1-cd5a557671f6",
   "metadata": {},
   "outputs": [],
   "source": [
    "import operator\n",
    "import re"
   ]
  },
  {
   "cell_type": "code",
   "execution_count": 3,
   "id": "2a7eaa31-4049-4414-adb3-4f6329370b82",
   "metadata": {},
   "outputs": [],
   "source": [
    "data = '''123 -> x\n",
    "456 -> y\n",
    "x AND y -> d\n",
    "x OR y -> e\n",
    "x LSHIFT 2 -> f\n",
    "y RSHIFT 2 -> g\n",
    "NOT x -> h\n",
    "NOT y -> i'''"
   ]
  },
  {
   "cell_type": "code",
   "execution_count": 101,
   "id": "b5e18eb7",
   "metadata": {},
   "outputs": [],
   "source": [
    "cboard = None"
   ]
  },
  {
   "cell_type": "code",
   "execution_count": 92,
   "id": "63a720be-2462-4bba-ad66-a17bf575b7fa",
   "metadata": {},
   "outputs": [],
   "source": [
    "def get_arg(cboard, *arg):\n",
    "    def _p(a):\n",
    "        if a.isnumeric():\n",
    "            return int(a)\n",
    "        if a not in cboard:\n",
    "            return None\n",
    "        return cboard[a]\n",
    "    return [ _p(a) for a in arg ]\n",
    "\n",
    "def generate_commands():\n",
    "    commands = []\n",
    "\n",
    "    ops = dict(\n",
    "        AND=operator.and_,\n",
    "        OR=operator.or_,\n",
    "        LSHIFT=operator.lshift,\n",
    "        RSHIFT=operator.rshift,\n",
    "        NOT=lambda x: x ^ 65535\n",
    "    )\n",
    "\n",
    "    def nop(arg):\n",
    "        return arg\n",
    "\n",
    "            \n",
    "    for line in data.splitlines():\n",
    "        command, target = line.split(' -> ')\n",
    "        args = re.findall(r'[a-z\\d]+', command)\n",
    "        op = nop\n",
    "        for n,v in ops.items():\n",
    "            if n in command:\n",
    "                op = v\n",
    "                break\n",
    "                \n",
    "        #board[target] = op(*nargs)\n",
    "        commands.append((target, op, args))\n",
    "    return commands\n",
    "\n",
    "commands = generate_commands()\n"
   ]
  },
  {
   "cell_type": "code",
   "execution_count": 110,
   "id": "fb7e9133",
   "metadata": {},
   "outputs": [],
   "source": [
    "def process_board(cboard, commands, maxit=300):\n",
    "    to_remove = []\n",
    "\n",
    "    for _ in range(maxit):\n",
    "        if len(commands) == 0:\n",
    "            break\n",
    "        for i, packed in enumerate(commands):\n",
    "            target, op, args = packed\n",
    "\n",
    "            nargs = get_arg(cboard, *args)\n",
    "            if None in nargs:\n",
    "                continue\n",
    "            #print(f\"did {target} {op} {args}\")\n",
    "            cboard[target] = op(*nargs)\n",
    "            to_remove.append(i)\n",
    "\n",
    "        commands = [ x for i,x in enumerate(commands) if i not in to_remove ]\n",
    "        to_remove = []\n",
    "    return cboard"
   ]
  },
  {
   "cell_type": "code",
   "execution_count": 96,
   "id": "3cc4e0d9",
   "metadata": {},
   "outputs": [
    {
     "data": {
      "text/plain": [
       "16076"
      ]
     },
     "execution_count": 96,
     "metadata": {},
     "output_type": "execute_result"
    }
   ],
   "source": [
    "part1 = process_board({}, generate_commands())\n",
    "part1['a']"
   ]
  },
  {
   "cell_type": "markdown",
   "id": "c820f27e",
   "metadata": {},
   "source": [
    "# part2"
   ]
  },
  {
   "cell_type": "code",
   "execution_count": 107,
   "id": "10e6bc9a",
   "metadata": {},
   "outputs": [
    {
     "data": {
      "text/plain": [
       "[('b', <function __main__.generate_commands.<locals>.nop(arg)>, ['19138'])]"
      ]
     },
     "execution_count": 107,
     "metadata": {},
     "output_type": "execute_result"
    }
   ],
   "source": [
    "[ x for x in generate_commands() if x[0] == 'b']"
   ]
  },
  {
   "cell_type": "code",
   "execution_count": 111,
   "id": "b8c66f12",
   "metadata": {},
   "outputs": [],
   "source": [
    "newcommands = [ x for x in generate_commands() if x[0] != 'b' ]\n",
    "part2 = process_board({'b':part1['a']}, newcommands)"
   ]
  },
  {
   "cell_type": "code",
   "execution_count": 109,
   "id": "215359ce",
   "metadata": {},
   "outputs": [
    {
     "data": {
      "text/plain": [
       "2797"
      ]
     },
     "execution_count": 109,
     "metadata": {},
     "output_type": "execute_result"
    }
   ],
   "source": [
    "part2['a']"
   ]
  },
  {
   "cell_type": "code",
   "execution_count": null,
   "id": "a0df2732",
   "metadata": {},
   "outputs": [],
   "source": []
  }
 ],
 "metadata": {
  "kernelspec": {
   "display_name": "Python 3 (ipykernel)",
   "language": "python",
   "name": "python3"
  },
  "language_info": {
   "codemirror_mode": {
    "name": "ipython",
    "version": 3
   },
   "file_extension": ".py",
   "mimetype": "text/x-python",
   "name": "python",
   "nbconvert_exporter": "python",
   "pygments_lexer": "ipython3",
   "version": "3.9.15"
  }
 },
 "nbformat": 4,
 "nbformat_minor": 5
}
