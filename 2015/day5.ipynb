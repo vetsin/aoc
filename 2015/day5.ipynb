{
 "cells": [
  {
   "cell_type": "code",
   "execution_count": 1,
   "id": "12483454-f067-4e63-99b3-5d0b9d156033",
   "metadata": {},
   "outputs": [],
   "source": [
    "from aocd import get_data\n",
    "data = get_data(day=5, year=2015)"
   ]
  },
  {
   "cell_type": "code",
   "execution_count": 2,
   "id": "46d69c04-6db3-4ddd-9a99-6f6581375d59",
   "metadata": {},
   "outputs": [
    {
     "name": "stdout",
     "output_type": "stream",
     "text": [
      "/etc/ssl/certs/ca-certificates.crt /etc/ssl/certs\n"
     ]
    }
   ],
   "source": []
  },
  {
   "cell_type": "code",
   "execution_count": 31,
   "id": "50a7cc12-b92a-4ae2-a1ce-399f2ca0b87c",
   "metadata": {},
   "outputs": [],
   "source": [
    "bad = 'ab, cd, pq, xy'.split(', ')"
   ]
  },
  {
   "cell_type": "code",
   "execution_count": 25,
   "id": "4421863e-651f-412d-b891-df6aa426b620",
   "metadata": {},
   "outputs": [
    {
     "data": {
      "text/plain": [
       "False"
      ]
     },
     "execution_count": 25,
     "metadata": {},
     "output_type": "execute_result"
    }
   ],
   "source": [
    "def is_nice(line):\n",
    "    repeat_count = 0\n",
    "    vowel_count = 0\n",
    "    has_bad = False\n",
    "    for i, c in enumerate(line):\n",
    "        \n",
    "        n = line[i+1] if i < len(line)-1 else None\n",
    "        if c == n:\n",
    "            repeat_count += 1\n",
    "        elif f\"{c}{n}\" in bad:\n",
    "            has_bad = True\n",
    "            break\n",
    "        if c in 'aeiou':\n",
    "            vowel_count += 1\n",
    "    if has_bad:\n",
    "        return False\n",
    "    return vowel_count >= 3 and repeat_count >= 1\n",
    "\n",
    "is_nice(line)\n",
    "        "
   ]
  },
  {
   "cell_type": "code",
   "execution_count": 32,
   "id": "5de6e9cf-b2ee-4e91-84c9-dd955cd9599c",
   "metadata": {},
   "outputs": [
    {
     "data": {
      "text/plain": [
       "236"
      ]
     },
     "execution_count": 32,
     "metadata": {},
     "output_type": "execute_result"
    }
   ],
   "source": [
    "nice = 0\n",
    "for line in data.splitlines():\n",
    "    if is_nice(line):\n",
    "        nice += 1\n",
    "nice"
   ]
  },
  {
   "cell_type": "code",
   "execution_count": 34,
   "id": "3b9a1bb5-b613-4c1e-a3ac-8673fb783a3e",
   "metadata": {},
   "outputs": [
    {
     "data": {
      "text/plain": [
       "1"
      ]
     },
     "execution_count": 34,
     "metadata": {},
     "output_type": "execute_result"
    }
   ],
   "source": [
    "\"aaa\".count(\"aa\")"
   ]
  },
  {
   "cell_type": "code",
   "execution_count": 40,
   "id": "c4cb5579-786f-4d2d-b35b-122f3a84152e",
   "metadata": {},
   "outputs": [],
   "source": [
    "def is_nice_v2(line):\n",
    "    has_pair = False\n",
    "    has_t = False\n",
    "    for i, c in enumerate(line):\n",
    "        n = line[i+1] if i < len(line)-1 else None\n",
    "        if not has_pair and line.count(f\"{c}{n}\") >= 2:\n",
    "            has_pair = True\n",
    "        if not has_t and f\"{c}{n}{c}\" in line:\n",
    "            has_t = True\n",
    "    return has_pair and has_t"
   ]
  },
  {
   "cell_type": "code",
   "execution_count": 41,
   "id": "c5513472-6df2-4b4b-a49a-667dbdaf01c1",
   "metadata": {},
   "outputs": [
    {
     "data": {
      "text/plain": [
       "51"
      ]
     },
     "execution_count": 41,
     "metadata": {},
     "output_type": "execute_result"
    }
   ],
   "source": [
    "nice = 0\n",
    "for line in data.splitlines():\n",
    "    if is_nice_v2(line):\n",
    "        nice += 1\n",
    "nice"
   ]
  },
  {
   "cell_type": "code",
   "execution_count": null,
   "id": "50cdf8ee-d36e-4c52-891d-9df60a35dab0",
   "metadata": {},
   "outputs": [],
   "source": []
  }
 ],
 "metadata": {
  "kernelspec": {
   "display_name": "Python 3 (ipykernel)",
   "language": "python",
   "name": "python3"
  },
  "language_info": {
   "codemirror_mode": {
    "name": "ipython",
    "version": 3
   },
   "file_extension": ".py",
   "mimetype": "text/x-python",
   "name": "python",
   "nbconvert_exporter": "python",
   "pygments_lexer": "ipython3",
   "version": "3.10.13"
  }
 },
 "nbformat": 4,
 "nbformat_minor": 5
}
