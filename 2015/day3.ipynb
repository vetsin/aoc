{
 "cells": [
  {
   "cell_type": "code",
   "execution_count": 1,
   "id": "21e3b75c-66ed-4a7c-b4a7-27c0f10baf4a",
   "metadata": {},
   "outputs": [],
   "source": [
    "from aocd import get_data"
   ]
  },
  {
   "cell_type": "code",
   "execution_count": 2,
   "id": "61eed422-72b1-4adf-903b-788fb0621064",
   "metadata": {},
   "outputs": [
    {
     "name": "stdout",
     "output_type": "stream",
     "text": [
      "/etc/ssl/certs/ca-certificates.crt /etc/ssl/certs\n"
     ]
    }
   ],
   "source": [
    "real_data = get_data(day=3, year=2015)\n",
    "data = real_data"
   ]
  },
  {
   "cell_type": "code",
   "execution_count": 4,
   "id": "748ca222-1d53-4fda-81da-df103bc9069a",
   "metadata": {},
   "outputs": [],
   "source": [
    "tests = [\n",
    "    '>',\n",
    "    '^>v<',\n",
    "    '^v^v^v^v^v'\n",
    "]"
   ]
  },
  {
   "cell_type": "code",
   "execution_count": 19,
   "id": "6a2e29f8-3668-460f-a47b-14b10a1fc4d8",
   "metadata": {},
   "outputs": [],
   "source": [
    "def visited(data):\n",
    "    x = 0\n",
    "    y = 0\n",
    "    visited = {(x,y):1}\n",
    "    for c in data:\n",
    "        match c:\n",
    "            case '^':\n",
    "                y += 1\n",
    "            case '>':\n",
    "                x += 1\n",
    "            case 'v':\n",
    "                y -= 1\n",
    "            case '<':\n",
    "                x -= 1\n",
    "        tpos = (x,y)\n",
    "        if tpos not in visited:\n",
    "            visited[tpos] = 0\n",
    "        visited[tpos] += 1\n",
    "    return visited"
   ]
  },
  {
   "cell_type": "code",
   "execution_count": 26,
   "id": "6d839817-af69-4ef0-85b0-19bf21ca67c2",
   "metadata": {},
   "outputs": [
    {
     "name": "stdout",
     "output_type": "stream",
     "text": [
      "2\n",
      "4\n",
      "2\n"
     ]
    }
   ],
   "source": [
    "for test in tests:\n",
    "    v = visited(test)\n",
    "    #print(len([ x for x in v.values() if x >= 1 ]))\n",
    "    print(len(v.values()))"
   ]
  },
  {
   "cell_type": "code",
   "execution_count": 27,
   "id": "06e222b3-352f-442a-baa0-01d1836551e8",
   "metadata": {},
   "outputs": [
    {
     "data": {
      "text/plain": [
       "2572"
      ]
     },
     "execution_count": 27,
     "metadata": {},
     "output_type": "execute_result"
    }
   ],
   "source": [
    "len(visited(data).values())"
   ]
  },
  {
   "cell_type": "code",
   "execution_count": 32,
   "id": "a0ce4d89-b7f2-4f80-ad94-4042c1a891ac",
   "metadata": {},
   "outputs": [
    {
     "data": {
      "text/plain": [
       "1"
      ]
     },
     "execution_count": 32,
     "metadata": {},
     "output_type": "execute_result"
    }
   ],
   "source": [
    "3%2"
   ]
  },
  {
   "cell_type": "code",
   "execution_count": 35,
   "id": "56faefcf-f398-43de-8315-edb16a78ccb8",
   "metadata": {},
   "outputs": [],
   "source": [
    "def robo_visited(data):\n",
    "    santas = [\n",
    "        [0,0],\n",
    "        [0,0]\n",
    "    ]\n",
    "    \n",
    "    visited = {(0,0):1}\n",
    "    for i, c in enumerate(data):\n",
    "        who = i%2 # 1 is robo\n",
    "        \n",
    "        match c:\n",
    "            case '^':\n",
    "                santas[who][1] += 1\n",
    "            case '>':\n",
    "                santas[who][0] += 1\n",
    "            case 'v':\n",
    "                santas[who][1] -= 1\n",
    "            case '<':\n",
    "                santas[who][0] -= 1\n",
    "        tpos = tuple(santas[who])\n",
    "        if tpos not in visited:\n",
    "            visited[tpos] = 0\n",
    "        visited[tpos] += 1\n",
    "    return visited"
   ]
  },
  {
   "cell_type": "code",
   "execution_count": 38,
   "id": "4253b72c-a688-4313-aef6-515f90d6a76b",
   "metadata": {},
   "outputs": [
    {
     "data": {
      "text/plain": [
       "2631"
      ]
     },
     "execution_count": 38,
     "metadata": {},
     "output_type": "execute_result"
    }
   ],
   "source": [
    "len(robo_visited(data).values())"
   ]
  },
  {
   "cell_type": "code",
   "execution_count": null,
   "id": "c80f6861-8b91-401e-97a7-34abe830ba4a",
   "metadata": {},
   "outputs": [],
   "source": []
  }
 ],
 "metadata": {
  "kernelspec": {
   "display_name": "Python 3 (ipykernel)",
   "language": "python",
   "name": "python3"
  },
  "language_info": {
   "codemirror_mode": {
    "name": "ipython",
    "version": 3
   },
   "file_extension": ".py",
   "mimetype": "text/x-python",
   "name": "python",
   "nbconvert_exporter": "python",
   "pygments_lexer": "ipython3",
   "version": "3.10.13"
  }
 },
 "nbformat": 4,
 "nbformat_minor": 5
}
