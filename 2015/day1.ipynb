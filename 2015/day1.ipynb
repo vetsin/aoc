{
 "cells": [
  {
   "cell_type": "code",
   "execution_count": 7,
   "id": "0e47876c",
   "metadata": {},
   "outputs": [],
   "source": []
  },
  {
   "cell_type": "code",
   "execution_count": 3,
   "id": "5813d127",
   "metadata": {},
   "outputs": [],
   "source": [
    "from aocd import get_data"
   ]
  },
  {
   "cell_type": "code",
   "execution_count": 4,
   "id": "80c51b4b",
   "metadata": {},
   "outputs": [],
   "source": [
    "real_data = get_data(day=1, year=2015)\n",
    "data = real_data"
   ]
  },
  {
   "cell_type": "code",
   "execution_count": 9,
   "id": "37c6cef6-c80c-478a-99cf-57a2408a1a26",
   "metadata": {},
   "outputs": [
    {
     "data": {
      "text/plain": [
       "232"
      ]
     },
     "execution_count": 9,
     "metadata": {},
     "output_type": "execute_result"
    }
   ],
   "source": [
    "floor = 0\n",
    "for c in data:\n",
    "    if c == '(':\n",
    "        floor += 1\n",
    "    else:\n",
    "        floor -= 1\n",
    "floor"
   ]
  },
  {
   "cell_type": "code",
   "execution_count": 13,
   "id": "d071027a-89df-4178-adba-271e10608466",
   "metadata": {},
   "outputs": [
    {
     "name": "stdout",
     "output_type": "stream",
     "text": [
      "1783\n"
     ]
    }
   ],
   "source": [
    "floor = 0\n",
    "for i, c in enumerate(data):\n",
    "    if c == '(':\n",
    "        floor += 1\n",
    "    else:\n",
    "        floor -= 1\n",
    "    if floor == -1:\n",
    "        print(i+1)\n",
    "        break"
   ]
  },
  {
   "cell_type": "code",
   "execution_count": null,
   "id": "d7202562-b0d4-4904-b838-19ac901b22fe",
   "metadata": {},
   "outputs": [],
   "source": []
  }
 ],
 "metadata": {
  "kernelspec": {
   "display_name": "Python 3 (ipykernel)",
   "language": "python",
   "name": "python3"
  },
  "language_info": {
   "codemirror_mode": {
    "name": "ipython",
    "version": 3
   },
   "file_extension": ".py",
   "mimetype": "text/x-python",
   "name": "python",
   "nbconvert_exporter": "python",
   "pygments_lexer": "ipython3",
   "version": "3.10.13"
  }
 },
 "nbformat": 4,
 "nbformat_minor": 5
}
