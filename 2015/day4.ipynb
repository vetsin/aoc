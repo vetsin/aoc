{
 "cells": [
  {
   "cell_type": "code",
   "execution_count": 4,
   "id": "6a017d01-0332-4059-be29-193bc70f0f15",
   "metadata": {},
   "outputs": [],
   "source": [
    "from aocd import get_data\n",
    "from hashlib import md5"
   ]
  },
  {
   "cell_type": "code",
   "execution_count": 2,
   "id": "85c19576-76c3-43c3-ae92-6a25f58a1af1",
   "metadata": {},
   "outputs": [
    {
     "name": "stdout",
     "output_type": "stream",
     "text": [
      "/etc/ssl/certs/ca-certificates.crt /etc/ssl/certs\n"
     ]
    }
   ],
   "source": [
    "real_data = get_data(day=4, year=2015)\n",
    "data = real_data"
   ]
  },
  {
   "cell_type": "code",
   "execution_count": 3,
   "id": "181113ca-bc0b-492e-9bd3-cc23e8a7841c",
   "metadata": {},
   "outputs": [
    {
     "data": {
      "text/plain": [
       "'yzbqklnj'"
      ]
     },
     "execution_count": 3,
     "metadata": {},
     "output_type": "execute_result"
    }
   ],
   "source": [
    "data"
   ]
  },
  {
   "cell_type": "code",
   "execution_count": 21,
   "id": "4bbefcec-46f1-4e4a-ac80-b441a9e9bb76",
   "metadata": {},
   "outputs": [],
   "source": [
    "key = data"
   ]
  },
  {
   "cell_type": "code",
   "execution_count": 24,
   "id": "9116e4ee-fa7a-4130-867e-649510cc4136",
   "metadata": {},
   "outputs": [
    {
     "name": "stdout",
     "output_type": "stream",
     "text": [
      "282749\n",
      "000002c655df7738246e88f6c1c43eb7\n"
     ]
    }
   ],
   "source": [
    "i = 0\n",
    "while True:\n",
    "    digest = md5(f\"{key}{i}\".encode('utf-8')).hexdigest()\n",
    "    if digest[:5] == '00000':\n",
    "        print(i)\n",
    "        print(digest)\n",
    "        break\n",
    "    i += 1"
   ]
  },
  {
   "cell_type": "code",
   "execution_count": 25,
   "id": "3cfe60bb-f553-451d-9425-6a6824aab0b0",
   "metadata": {},
   "outputs": [
    {
     "name": "stdout",
     "output_type": "stream",
     "text": [
      "9962624\n",
      "0000004b347bf4b398b3f62ace7cd301\n"
     ]
    }
   ],
   "source": [
    "i = 0\n",
    "while True:\n",
    "    digest = md5(f\"{key}{i}\".encode('utf-8')).hexdigest()\n",
    "    if digest[:6] == '000000':\n",
    "        print(i)\n",
    "        print(digest)\n",
    "        break\n",
    "    i += 1"
   ]
  },
  {
   "cell_type": "code",
   "execution_count": null,
   "id": "e6171222-6563-4af8-b17c-bb2ca7fc906b",
   "metadata": {},
   "outputs": [],
   "source": []
  }
 ],
 "metadata": {
  "kernelspec": {
   "display_name": "Python 3 (ipykernel)",
   "language": "python",
   "name": "python3"
  },
  "language_info": {
   "codemirror_mode": {
    "name": "ipython",
    "version": 3
   },
   "file_extension": ".py",
   "mimetype": "text/x-python",
   "name": "python",
   "nbconvert_exporter": "python",
   "pygments_lexer": "ipython3",
   "version": "3.10.13"
  }
 },
 "nbformat": 4,
 "nbformat_minor": 5
}
