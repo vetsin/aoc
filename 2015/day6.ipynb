{
 "cells": [
  {
   "cell_type": "code",
   "execution_count": 1,
   "id": "c88c30dc-9116-4726-8b41-b9ef2050b78b",
   "metadata": {},
   "outputs": [
    {
     "name": "stdout",
     "output_type": "stream",
     "text": [
      "/etc/ssl/certs/ca-certificates.crt /etc/ssl/certs\n"
     ]
    }
   ],
   "source": [
    "from aocd import get_data\n",
    "data = get_data(day=6, year=2015)"
   ]
  },
  {
   "cell_type": "code",
   "execution_count": 3,
   "id": "76af616d-adde-4382-bfb7-c772e0ce201c",
   "metadata": {},
   "outputs": [],
   "source": [
    "import numpy as np"
   ]
  },
  {
   "cell_type": "code",
   "execution_count": 90,
   "id": "b9072504-fced-4d82-bdfc-ca45511812f3",
   "metadata": {},
   "outputs": [],
   "source": [
    "lights = np.zeros((1000,1000), dtype=int)"
   ]
  },
  {
   "cell_type": "code",
   "execution_count": 91,
   "id": "a6bcd54d-6173-4b9b-bdd8-9c94f9323f7b",
   "metadata": {},
   "outputs": [],
   "source": [
    "#lights[0:1000,0:1000] = 1\n",
    "lights[499:500+1,499:500+1] = 1"
   ]
  },
  {
   "cell_type": "code",
   "execution_count": 96,
   "id": "73e97c2a-ee8c-4769-9387-4938d35e0d8b",
   "metadata": {},
   "outputs": [
    {
     "data": {
      "text/plain": [
       "0"
      ]
     },
     "execution_count": 96,
     "metadata": {},
     "output_type": "execute_result"
    }
   ],
   "source": [
    "i = 1\n",
    "i ^= 1\n",
    "i"
   ]
  },
  {
   "cell_type": "code",
   "execution_count": 92,
   "id": "6485f81b-3472-4b8f-b299-5546cfcf68f2",
   "metadata": {},
   "outputs": [
    {
     "data": {
      "text/plain": [
       "4"
      ]
     },
     "execution_count": 92,
     "metadata": {},
     "output_type": "execute_result"
    }
   ],
   "source": [
    "lights[499:500+1,499:500+1] \n",
    "np.count_nonzero(lights)"
   ]
  },
  {
   "cell_type": "code",
   "execution_count": 89,
   "id": "94fbc293-a139-45a6-9117-a7026743f766",
   "metadata": {},
   "outputs": [
    {
     "data": {
      "text/plain": [
       "7"
      ]
     },
     "execution_count": 89,
     "metadata": {},
     "output_type": "execute_result"
    }
   ],
   "source": [
    "len('toggle ')"
   ]
  },
  {
   "cell_type": "code",
   "execution_count": 106,
   "id": "7e6a9145-af30-4042-9315-dd23d4871afc",
   "metadata": {},
   "outputs": [
    {
     "data": {
      "text/plain": [
       "400410"
      ]
     },
     "execution_count": 106,
     "metadata": {},
     "output_type": "execute_result"
    }
   ],
   "source": [
    "lights = np.zeros((1000,1000), dtype=int)\n",
    "for line in data.splitlines():\n",
    "    #print(line)\n",
    "    toggle = False\n",
    "    if line.startswith('turn off '):\n",
    "        to = 0\n",
    "        line = line[9:]\n",
    "    elif line.startswith('turn on '):\n",
    "        to = 1\n",
    "        line = line[8:]\n",
    "    else:\n",
    "        toggle = True\n",
    "        line = line[7:]\n",
    "    \n",
    "    \n",
    "    f, t = [ list(map(int,x.split(','))) for x in line.split(' through ') ]\n",
    "\n",
    "    #print(f\"\\ttoggle={toggle} to={to} -- ({f}), ({t})\")\n",
    "    #print(f\"\\t [{f[0]}:{t[0]+1},{f[1]}:{t[1]+1}]\")\n",
    "    if toggle:\n",
    "        lights[f[0]:t[0]+1,f[1]:t[1]+1] ^= 1\n",
    "    else:\n",
    "        lights[f[0]:t[0]+1,f[1]:t[1]+1] = to\n",
    "np.count_nonzero(lights)"
   ]
  },
  {
   "cell_type": "code",
   "execution_count": 214,
   "id": "3466f84a-84e2-4253-9c90-ddfc3b944d2c",
   "metadata": {},
   "outputs": [
    {
     "data": {
      "text/plain": [
       "15343601"
      ]
     },
     "execution_count": 214,
     "metadata": {},
     "output_type": "execute_result"
    }
   ],
   "source": [
    "lights = np.zeros((1000,1000), dtype=int)\n",
    "for line in data.splitlines():\n",
    "    if line.startswith('turn off '):\n",
    "        action = 'off'\n",
    "        line = line[9:]\n",
    "    elif line.startswith('turn on '):\n",
    "        action = 'on'\n",
    "        line = line[8:]\n",
    "    else:\n",
    "        action = 'toggle'\n",
    "        line = line[7:]\n",
    "    \n",
    "    f, t = [ list(map(int,x.split(','))) for x in line.split(' through ') ]\n",
    "\n",
    "    #print(f\"\\ttoggle={toggle} to={to} -- ({f}), ({t})\")\n",
    "    #print(f\"\\t [{f[0]}:{t[0]+1},{f[1]}:{t[1]+1}]\")\n",
    "    \n",
    "    match action:\n",
    "        case 'off':\n",
    "            lights[f[0]:t[0]+1,f[1]:t[1]+1] -= 1\n",
    "            lights = np.where(lights < 0, 0, lights)\n",
    "        case 'on':\n",
    "            lights[f[0]:t[0]+1,f[1]:t[1]+1] += 1\n",
    "        case 'toggle':\n",
    "            lights[f[0]:t[0]+1,f[1]:t[1]+1] += 2\n",
    "        case _:\n",
    "            assert False, 'huh'\n",
    "lights.sum()"
   ]
  }
 ],
 "metadata": {
  "kernelspec": {
   "display_name": "Python 3 (ipykernel)",
   "language": "python",
   "name": "python3"
  },
  "language_info": {
   "codemirror_mode": {
    "name": "ipython",
    "version": 3
   },
   "file_extension": ".py",
   "mimetype": "text/x-python",
   "name": "python",
   "nbconvert_exporter": "python",
   "pygments_lexer": "ipython3",
   "version": "3.10.13"
  }
 },
 "nbformat": 4,
 "nbformat_minor": 5
}
