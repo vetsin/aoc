{
 "cells": [
  {
   "cell_type": "code",
   "execution_count": 1,
   "id": "a125ad0c-33c5-45e9-b670-8306c1f58249",
   "metadata": {},
   "outputs": [],
   "source": [
    "from aocd import get_data"
   ]
  },
  {
   "cell_type": "code",
   "execution_count": 4,
   "id": "a07ab973-982c-4223-ae01-576108c91abe",
   "metadata": {},
   "outputs": [
    {
     "name": "stdout",
     "output_type": "stream",
     "text": [
      "/etc/ssl/certs/ca-certificates.crt /etc/ssl/certs\n"
     ]
    }
   ],
   "source": [
    "real_data = get_data(day=2, year=2015)\n",
    "data = real_data"
   ]
  },
  {
   "cell_type": "code",
   "execution_count": null,
   "id": "00b55274-d025-44af-8c75-25f22cfccd1f",
   "metadata": {},
   "outputs": [],
   "source": []
  },
  {
   "cell_type": "code",
   "execution_count": 24,
   "id": "7b2834f5-9d79-4a59-ac29-c75b4733f09b",
   "metadata": {},
   "outputs": [
    {
     "data": {
      "text/plain": [
       "1598415"
      ]
     },
     "execution_count": 24,
     "metadata": {},
     "output_type": "execute_result"
    }
   ],
   "source": [
    "total = 0\n",
    "for line in data.splitlines():\n",
    "    l, w, h = map(int, line.split('x'))\n",
    "    sides = [l*w, w*h, h*l]\n",
    "    total += sum([ x*2 for x in [l*w, w*h, h*l] ]) + min(sides)\n",
    "total"
   ]
  },
  {
   "cell_type": "markdown",
   "id": "2f0b8767-4f98-45a7-b985-1b25b54b82e9",
   "metadata": {},
   "source": [
    "# two"
   ]
  },
  {
   "cell_type": "code",
   "execution_count": 40,
   "id": "715b0191-451e-4548-8cf3-b2f394f78221",
   "metadata": {},
   "outputs": [
    {
     "data": {
      "text/plain": [
       "3812909"
      ]
     },
     "execution_count": 40,
     "metadata": {},
     "output_type": "execute_result"
    }
   ],
   "source": [
    "ribbon = 0\n",
    "for line in data.splitlines():\n",
    "    l, w, h = map(int, line.split('x'))\n",
    "    i = [l+l,w+w,h+h]\n",
    "    i.remove(max(i))\n",
    "    ribbon += sum(i) + l*w*h\n",
    "ribbon"
   ]
  }
 ],
 "metadata": {
  "kernelspec": {
   "display_name": "Python 3 (ipykernel)",
   "language": "python",
   "name": "python3"
  },
  "language_info": {
   "codemirror_mode": {
    "name": "ipython",
    "version": 3
   },
   "file_extension": ".py",
   "mimetype": "text/x-python",
   "name": "python",
   "nbconvert_exporter": "python",
   "pygments_lexer": "ipython3",
   "version": "3.10.13"
  }
 },
 "nbformat": 4,
 "nbformat_minor": 5
}
