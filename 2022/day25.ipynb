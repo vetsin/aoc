{
 "cells": [
  {
   "cell_type": "code",
   "execution_count": 1,
   "id": "7c10416c-aa65-43b9-bb76-5f7b8c72ccd3",
   "metadata": {},
   "outputs": [],
   "source": [
    "input = '''1=-0-2\n",
    "12111\n",
    "2=0=\n",
    "21\n",
    "2=01\n",
    "111\n",
    "20012\n",
    "112\n",
    "1=-1=\n",
    "1-12\n",
    "12\n",
    "1=\n",
    "122'''"
   ]
  },
  {
   "cell_type": "code",
   "execution_count": 2,
   "id": "a1c72d6f-163e-41e0-8155-e323d68de507",
   "metadata": {},
   "outputs": [],
   "source": [
    "data = input.split('\\n')"
   ]
  },
  {
   "cell_type": "code",
   "execution_count": 4,
   "id": "0d38e792-9e53-461b-a98a-76bb0074bd17",
   "metadata": {},
   "outputs": [],
   "source": [
    "def snafu(s):\n",
    "    s.split()[-1]\n",
    "    pass\n",
    "snafu(data[0])"
   ]
  },
  {
   "cell_type": "code",
   "execution_count": 5,
   "id": "5acb4b4c-cc97-423e-8269-6a95caf3759b",
   "metadata": {},
   "outputs": [],
   "source": [
    "s = data[0]"
   ]
  },
  {
   "cell_type": "code",
   "execution_count": null,
   "id": "9faf8275-c761-4f88-88ca-9df28f7211df",
   "metadata": {},
   "outputs": [],
   "source": [
    "['=', '"
   ]
  },
  {
   "cell_type": "code",
   "execution_count": 12,
   "id": "97cfa41e-8295-41cf-b2ce-d69b2f94c275",
   "metadata": {},
   "outputs": [
    {
     "data": {
      "text/plain": [
       "'2-0-=1'"
      ]
     },
     "execution_count": 12,
     "metadata": {},
     "output_type": "execute_result"
    }
   ],
   "source": [
    "s[::-1]"
   ]
  },
  {
   "cell_type": "code",
   "execution_count": null,
   "id": "c43ae00a-8758-4659-95a1-c21ba87f98e8",
   "metadata": {},
   "outputs": [],
   "source": []
  }
 ],
 "metadata": {
  "kernelspec": {
   "display_name": "Python 3 (ipykernel)",
   "language": "python",
   "name": "python3"
  },
  "language_info": {
   "codemirror_mode": {
    "name": "ipython",
    "version": 3
   },
   "file_extension": ".py",
   "mimetype": "text/x-python",
   "name": "python",
   "nbconvert_exporter": "python",
   "pygments_lexer": "ipython3",
   "version": "3.9.15"
  }
 },
 "nbformat": 4,
 "nbformat_minor": 5
}
