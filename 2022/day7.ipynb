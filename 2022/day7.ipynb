{
 "cells": [
  {
   "cell_type": "code",
   "execution_count": 193,
   "id": "85b93295-dc1b-4bfe-9346-5560075c5ee8",
   "metadata": {},
   "outputs": [],
   "source": [
    "input = \"\"\"$ cd /\n",
    "$ ls\n",
    "dir a\n",
    "14848514 b.txt\n",
    "8504156 c.dat\n",
    "dir d\n",
    "$ cd a\n",
    "$ ls\n",
    "dir e\n",
    "29116 f\n",
    "2557 g\n",
    "62596 h.lst\n",
    "$ cd e\n",
    "$ ls\n",
    "584 i\n",
    "$ cd ..\n",
    "$ cd ..\n",
    "$ cd d\n",
    "$ ls\n",
    "4060174 j\n",
    "8033020 d.log\n",
    "5626152 d.ext\n",
    "7214296 k\"\"\""
   ]
  },
  {
   "cell_type": "code",
   "execution_count": 226,
   "id": "a19a2e73-887a-4861-8990-2c40107df118",
   "metadata": {},
   "outputs": [],
   "source": [
    "from functools import total_ordering"
   ]
  },
  {
   "cell_type": "code",
   "execution_count": 208,
   "id": "92c4db89-37b9-48a0-973a-1d10b3e668a9",
   "metadata": {},
   "outputs": [],
   "source": [
    "with open('day7.txt', 'r') as f:\n",
    "    input = f.read()"
   ]
  },
  {
   "cell_type": "code",
   "execution_count": 241,
   "id": "57acb684-9e01-42f6-8972-f42e7f778a13",
   "metadata": {},
   "outputs": [],
   "source": [
    "class Path:\n",
    "    def __init__(self, typ, name, parent):\n",
    "        self.typ = typ\n",
    "        self.name = name\n",
    "        self.parent = parent\n",
    "        self.children = []\n",
    "    \n",
    "    def add(self, p: Path):\n",
    "        self.children.append(p)\n",
    "        \n",
    "    def find_child(self, p: Path) -> Path:\n",
    "        for f in self.children:\n",
    "            if f == p:\n",
    "                return f\n",
    "        \n",
    "    def __repr__(self):\n",
    "        return self.__str__()\n",
    "    \n",
    "    def __str__(self):\n",
    "        return f\"{self.name} ({self.typ})\"\n",
    "    \n",
    "    def __eq__(self, other): \n",
    "        return self.typ == other.typ and self.name == other.name and self.parent == other.parent\n",
    "    \n",
    "    def render(self, depth=0):\n",
    "        print(f\"{' '*depth}- {self}\")\n",
    "        for c in self.children:\n",
    "            c.render(depth + 1)\n",
    "            \n",
    "    @staticmethod\n",
    "    def walk(node):\n",
    "        for n in node.children:\n",
    "            yield n\n",
    "            for c in Path.walk(n):\n",
    "                yield c\n",
    "\n",
    "class Directory(Path):\n",
    "    def __init__(self, name, parent):\n",
    "        super().__init__('dir', name, parent)\n",
    "    \n",
    "    @property\n",
    "    def size(self):\n",
    "        return sum([ x.size for x in self.children ])\n",
    "        \n",
    "class File(Path):\n",
    "    def __init__(self, size, name, parent):\n",
    "        super().__init__('file', name, parent)\n",
    "        self._size = int(size)\n",
    "        \n",
    "    def __str__(self):\n",
    "        return f\"{self.name} ({self.typ}, size={self.size})\"\n",
    "    \n",
    "    @property\n",
    "    def size(self):\n",
    "        return self._size\n",
    "    \n",
    "class Command:\n",
    "    def __init__(self, line):\n",
    "        assert Command.is_command(line), f\"`{line}` is not a command?\"\n",
    "        cmds = line.split()[1:]\n",
    "        self.cmd = cmds[0]\n",
    "        self.arg = cmds[1] if len(cmds) > 1 else None\n",
    "        \n",
    "    def __eq__(self, other):\n",
    "        if isinstance(other, str):\n",
    "            return self.cmd == other\n",
    "        return self.cmd == other.cmd\n",
    "    \n",
    "    @staticmethod\n",
    "    def is_command(line):\n",
    "        return line[0] == \"$\""
   ]
  },
  {
   "cell_type": "code",
   "execution_count": 245,
   "id": "d2599133-e55e-4e01-a5fa-148456ced37a",
   "metadata": {},
   "outputs": [],
   "source": [
    "def parse_input(lines, node):\n",
    "    for i, line in enumerate(lines):\n",
    "        if Command.is_command(line):\n",
    "            cmd = Command(line)\n",
    "            if cmd == \"ls\":\n",
    "                continue\n",
    "            elif cmd == \"cd\":\n",
    "                if cmd.arg == '..':\n",
    "                    return parse_input(lines[i+1:], node.parent)\n",
    "                return parse_input(lines[i+1:], node.find_child(Directory(cmd.arg, node)))\n",
    "        elif line.startswith(\"dir\"):\n",
    "            node.add(Directory(line.split()[-1], node))\n",
    "        else:\n",
    "            node.add(File(*line.split(), parent=node))\n",
    "\n",
    "root = Directory('/', None)\n",
    "parse_input(input.split('\\n')[1:], root)"
   ]
  },
  {
   "cell_type": "code",
   "execution_count": 246,
   "id": "394d7c93-15ff-4a5b-8aab-b90124553fcb",
   "metadata": {},
   "outputs": [],
   "source": [
    "#root.render()"
   ]
  },
  {
   "cell_type": "code",
   "execution_count": 247,
   "id": "9e73c2d5-ff4d-4954-8b62-e71a0a183ce1",
   "metadata": {},
   "outputs": [
    {
     "data": {
      "text/plain": [
       "46975962"
      ]
     },
     "execution_count": 247,
     "metadata": {},
     "output_type": "execute_result"
    }
   ],
   "source": [
    "root.size"
   ]
  },
  {
   "cell_type": "code",
   "execution_count": 251,
   "id": "6ab19abe-6b37-4828-821c-f66a6b5806c8",
   "metadata": {},
   "outputs": [
    {
     "data": {
      "text/plain": [
       "1334506"
      ]
     },
     "execution_count": 251,
     "metadata": {},
     "output_type": "execute_result"
    }
   ],
   "source": [
    "sum([ x.size for x in Path.walk(root) if x.typ == \"dir\" and x.size < 100000])"
   ]
  },
  {
   "cell_type": "code",
   "execution_count": 259,
   "id": "7136cb5a-8e8b-4931-97aa-9a75b1cf2d96",
   "metadata": {},
   "outputs": [
    {
     "data": {
      "text/plain": [
       "7421137"
      ]
     },
     "execution_count": 259,
     "metadata": {},
     "output_type": "execute_result"
    }
   ],
   "source": [
    "needed = 30000000\n",
    "unused = 70000000 - root.size\n",
    "could_delete = [ x for x in Path.walk(root) if x.typ == \"dir\" and (unused + x.size) >= needed]\n",
    "could_delete.sort(key=lambda x: x.size)\n",
    "could_delete[0].size"
   ]
  }
 ],
 "metadata": {
  "kernelspec": {
   "display_name": "Python 3",
   "language": "python",
   "name": "python3"
  },
  "language_info": {
   "codemirror_mode": {
    "name": "ipython",
    "version": 3
   },
   "file_extension": ".py",
   "mimetype": "text/x-python",
   "name": "python",
   "nbconvert_exporter": "python",
   "pygments_lexer": "ipython3",
   "version": "3.8.5"
  }
 },
 "nbformat": 4,
 "nbformat_minor": 5
}
