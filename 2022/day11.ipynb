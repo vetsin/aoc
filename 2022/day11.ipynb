{
 "cells": [
  {
   "cell_type": "code",
   "execution_count": 1,
   "id": "d5d59162-bb9a-48b4-ac6f-d5b6d6fe3b9a",
   "metadata": {},
   "outputs": [],
   "source": [
    "input = '''Monkey 0:\n",
    "  Starting items: 79, 98\n",
    "  Operation: new = old * 19\n",
    "  Test: divisible by 23\n",
    "    If true: throw to monkey 2\n",
    "    If false: throw to monkey 3\n",
    "\n",
    "Monkey 1:\n",
    "  Starting items: 54, 65, 75, 74\n",
    "  Operation: new = old + 6\n",
    "  Test: divisible by 19\n",
    "    If true: throw to monkey 2\n",
    "    If false: throw to monkey 0\n",
    "\n",
    "Monkey 2:\n",
    "  Starting items: 79, 60, 97\n",
    "  Operation: new = old * old\n",
    "  Test: divisible by 13\n",
    "    If true: throw to monkey 1\n",
    "    If false: throw to monkey 3\n",
    "\n",
    "Monkey 3:\n",
    "  Starting items: 74\n",
    "  Operation: new = old + 3\n",
    "  Test: divisible by 17\n",
    "    If true: throw to monkey 0\n",
    "    If false: throw to monkey 1'''"
   ]
  },
  {
   "cell_type": "code",
   "execution_count": 11,
   "id": "729b175b-770a-48ff-87d4-a4ae2a2d56dd",
   "metadata": {},
   "outputs": [],
   "source": [
    "with open('day11.txt', 'r') as f:\n",
    "    input = f.read()"
   ]
  },
  {
   "cell_type": "code",
   "execution_count": 32,
   "id": "1465f71e-3d1c-4511-96ed-25a08ebc3136",
   "metadata": {},
   "outputs": [],
   "source": [
    "from collections import deque"
   ]
  },
  {
   "cell_type": "code",
   "execution_count": 12,
   "id": "f38c8968-ec0e-4675-88b6-89808f924068",
   "metadata": {},
   "outputs": [],
   "source": [
    "import operator\n",
    "opmap = {'*': operator.mul, '+': operator.add}"
   ]
  },
  {
   "cell_type": "code",
   "execution_count": 13,
   "id": "376cf563-7d29-46e3-ab75-528da759f9c4",
   "metadata": {},
   "outputs": [],
   "source": [
    "data = [ [ y.strip() for y in x.split('\\n') ] for x in input.split('\\n\\n') ]"
   ]
  },
  {
   "cell_type": "code",
   "execution_count": 14,
   "id": "8709f80d-db12-4cc0-a1eb-b9ac337db3d2",
   "metadata": {},
   "outputs": [],
   "source": [
    "def collect_monkey(block):\n",
    "    monkey = block[0].split()[-1].strip(':')\n",
    "    mdata = {}\n",
    "    mdata['id'] = monkey\n",
    "    mdata['inspections'] = 0\n",
    "    for line in block[1:]:\n",
    "        command, args = line.split(': ')\n",
    "        if command == 'Starting items':\n",
    "            mdata['items'] = list(map(int, args.split(', ')))\n",
    "        elif command == 'Operation':\n",
    "            op, val = args.split()[-2:]\n",
    "            mdata['operation'] = (opmap[op], val)\n",
    "        elif command == 'Test':\n",
    "            mdata['divisible_by'] = int(args.split()[-1])\n",
    "        elif command == 'If true':\n",
    "            mdata['true_monkey'] = args.split()[-1]\n",
    "        elif command == 'If false':\n",
    "            mdata['false_monkey'] = args.split()[-1]\n",
    "        else:\n",
    "            assert False, f\"unknown command {command}\"\n",
    "    return monkey, mdata"
   ]
  },
  {
   "cell_type": "code",
   "execution_count": 15,
   "id": "5b9b98d5-f678-45f7-bc60-db44d8e472e4",
   "metadata": {},
   "outputs": [],
   "source": [
    "all_data = {}\n",
    "for rawblock in data:\n",
    "    monkey, mdata = collect_monkey(rawblock)\n",
    "    all_data[monkey] = mdata\n",
    "\n",
    "rounds = 20\n",
    "for round in range(rounds):\n",
    "    for monkey, mdata in all_data.items():\n",
    "        #print(f\"Monkey {monkey}:\")\n",
    "        for item in mdata['items']:\n",
    "            #print(f\"  Monkey inspects an item with a worry level of {item}\")\n",
    "            op, val = mdata['operation']\n",
    "            val = item if val == 'old' else int(val)\n",
    "            worry = op(item, val) // 3\n",
    "            if worry % mdata['divisible_by'] == 0:\n",
    "                throw_to = mdata['true_monkey']\n",
    "            else:\n",
    "                throw_to = mdata['false_monkey']\n",
    "            #print(f\"    Item with worry level {worry} is thrown to monkey {throw_to}\")\n",
    "            all_data[throw_to]['items'].append(worry)\n",
    "            mdata['inspections'] += 1\n",
    "        mdata['items'] = []\n",
    "        \n",
    "    #for monkey, mdata in all_data.items():\n",
    "    #    print(f\"Monkey {monkey}: { mdata['items'] }\")\n"
   ]
  },
  {
   "cell_type": "code",
   "execution_count": 16,
   "id": "6df1f7c7-c0c6-4953-8aa6-67c918ad645d",
   "metadata": {},
   "outputs": [
    {
     "name": "stdout",
     "output_type": "stream",
     "text": [
      "Monkey 0: 19\n",
      "Monkey 1: 230\n",
      "Monkey 2: 224\n",
      "Monkey 3: 231\n",
      "Monkey 4: 230\n",
      "Monkey 5: 245\n",
      "Monkey 6: 25\n",
      "Monkey 7: 17\n"
     ]
    }
   ],
   "source": [
    "for monkey, mdata in all_data.items():\n",
    "    print(f\"Monkey {monkey}: { mdata['inspections'] }\")"
   ]
  },
  {
   "cell_type": "code",
   "execution_count": 17,
   "id": "653b41c9-19fd-412b-8e89-2d6d8deb5f9e",
   "metadata": {},
   "outputs": [
    {
     "data": {
      "text/plain": [
       "56595"
      ]
     },
     "execution_count": 17,
     "metadata": {},
     "output_type": "execute_result"
    }
   ],
   "source": [
    "insp = [ x['inspections'] for x in all_data.values() ]\n",
    "insp.sort()\n",
    "operator.mul(*insp[-2:])"
   ]
  },
  {
   "cell_type": "code",
   "execution_count": 72,
   "id": "9286a752-0b81-4385-b12d-ced863225d4f",
   "metadata": {},
   "outputs": [],
   "source": [
    "class Monkey:\n",
    "    def __init__(self, number):\n",
    "        self.number = int(number)\n",
    "        self.items = deque()\n",
    "        self.inspections = 0\n",
    "        \n",
    "    def inspect(self):\n",
    "        try:\n",
    "            while item := monkey.items.popleft():\n",
    "                #print(f\"  Monkey inspects an item with a worry level of {item}\")\n",
    "                op, val = monkey.operation\n",
    "                val = item if val == 'old' else int(val)\n",
    "                worry = op(item, val)\n",
    "                if worry % monkey.divisible_by == 0:\n",
    "                    throw_to = monkey.true_monkey\n",
    "                else:\n",
    "                    throw_to = monkey.false_monkey\n",
    "                #print(f\"    Item with worry level {worry} is thrown to monkey {throw_to=}\")\n",
    "                marr[throw_to].items.append(worry)\n",
    "                monkey.inspections += 1\n",
    "        except IndexError:\n",
    "            pass\n",
    "    \n",
    "    def __repr__(self):\n",
    "        return f\"Monkey({self.number}) <{self.__hash__()}>\"\n",
    "\n",
    "class Action:\n",
    "    def __init__(self, command, args):\n",
    "        self.command = command\n",
    "        self.args = args\n",
    "\n",
    "    def evaluate(self, monkey):\n",
    "        cmd = self.command\n",
    "        if cmd == 'Starting items':\n",
    "            monkey.items.extend(map(int, self.args.split(', ')))\n",
    "        elif cmd == 'Operation':\n",
    "            op, val = self.args.split()[-2:]\n",
    "            monkey.operation = (opmap[op], val)\n",
    "        elif cmd == 'Test':\n",
    "            monkey.divisible_by = int(self.args.split()[-1])\n",
    "        elif cmd == 'If true':\n",
    "            monkey.true_monkey = int(self.args.split()[-1])\n",
    "        elif cmd == 'If false':\n",
    "            monkey.false_monkey = int(self.args.split()[-1])\n",
    "        \n",
    "    \n",
    "def collect_monkey(block):\n",
    "    monkey = Monkey(block[0].split()[-1].strip(':'))\n",
    "    [  Action(*line.split(': ')).evaluate(monkey) for line in block[1: ] ]\n",
    "    return monkey\n",
    "\n",
    "marr = []\n",
    "for rawblock in data:\n",
    "    monkey = collect_monkey(rawblock)\n",
    "    marr.append(monkey)\n",
    "    assert len(marr)-1 == monkey.number, f\"{len(marr)} != {monkey.number}\"\n",
    "    \n",
    "rounds = 100\n",
    "\n",
    "for round in range(rounds):\n",
    "    for monkey in marr:\n",
    "        #print(f\"Monkey {monkey}:\")\n",
    "        \n"
   ]
  },
  {
   "cell_type": "code",
   "execution_count": 73,
   "id": "2d6c8b08-a624-4276-9d71-e6648536a646",
   "metadata": {},
   "outputs": [
    {
     "data": {
      "text/plain": [
       "1564325"
      ]
     },
     "execution_count": 73,
     "metadata": {},
     "output_type": "execute_result"
    }
   ],
   "source": [
    "insp = [ x.inspections for x in marr ]\n",
    "insp.sort()\n",
    "operator.mul(*insp[-2:])"
   ]
  },
  {
   "cell_type": "code",
   "execution_count": null,
   "id": "e8ca3bb1-c274-4ebf-9576-7d3f91709c78",
   "metadata": {},
   "outputs": [],
   "source": []
  }
 ],
 "metadata": {
  "kernelspec": {
   "display_name": "Python 3 (ipykernel)",
   "language": "python",
   "name": "python3"
  },
  "language_info": {
   "codemirror_mode": {
    "name": "ipython",
    "version": 3
   },
   "file_extension": ".py",
   "mimetype": "text/x-python",
   "name": "python",
   "nbconvert_exporter": "python",
   "pygments_lexer": "ipython3",
   "version": "3.9.15"
  }
 },
 "nbformat": 4,
 "nbformat_minor": 5
}
