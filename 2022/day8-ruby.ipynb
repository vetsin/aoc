{
 "cells": [
  {
   "cell_type": "code",
   "execution_count": 269,
   "id": "89eb8408-c637-472b-a732-000024fd2a93",
   "metadata": {},
   "outputs": [
    {
     "data": {
      "text/plain": [
       "\"30373\\n25512\\n65332\\n33549\\n35390\""
      ]
     },
     "execution_count": 269,
     "metadata": {},
     "output_type": "execute_result"
    }
   ],
   "source": [
    "input = \"30373\n",
    "25512\n",
    "65332\n",
    "33549\n",
    "35390\""
   ]
  },
  {
   "cell_type": "code",
   "execution_count": 311,
   "id": "e07d0c0f-6aca-49eb-8873-37b99a26a9f9",
   "metadata": {},
   "outputs": [],
   "source": [
    "input = File.read('day8.txt')\n",
    "nil"
   ]
  },
  {
   "cell_type": "code",
   "execution_count": 312,
   "id": "675ecad1-6f98-44bc-ac5d-69ebabd24da7",
   "metadata": {},
   "outputs": [
    {
     "data": {
      "text/plain": [
       "false"
      ]
     },
     "execution_count": 312,
     "metadata": {},
     "output_type": "execute_result"
    }
   ],
   "source": [
    "require 'matrix'"
   ]
  },
  {
   "cell_type": "code",
   "execution_count": 313,
   "id": "4c6c4dac-e54c-492f-b29a-cefd266a23aa",
   "metadata": {},
   "outputs": [],
   "source": [
    "m = Matrix[*input.split(\"\\n\").map { |x| x.chars.map(&:to_i) }]\n",
    "nil"
   ]
  },
  {
   "cell_type": "code",
   "execution_count": 314,
   "id": "fe9d5d58-ba2e-44f0-8004-6e7d647cdfef",
   "metadata": {},
   "outputs": [
    {
     "data": {
      "text/plain": [
       ":hidden"
      ]
     },
     "execution_count": 314,
     "metadata": {},
     "output_type": "execute_result"
    }
   ],
   "source": [
    "def hidden(m, row, col)\n",
    "    tree = m[row,col]\n",
    "    vrow = m.row(row)\n",
    "    vcol = m.column(col)\n",
    "    r_left = vrow[0...col]\n",
    "    r_right = vrow[col+1..-1]\n",
    "    hidden = r_left.any? { |x| x >= tree } && r_right.any? { |x| x >= tree }\n",
    "    c_top = vcol[0...row]\n",
    "    c_bot = vcol[row+1..-1]\n",
    "    hidden = hidden && c_top.any? { |x| x >= tree } && c_bot.any? { |x| x >= tree }\n",
    "    #puts \" #{r_left} #{tree} #{r_right} is #{hidden}\"\n",
    "    #puts \" #{c_top} #{tree} #{c_bot} is #{hidden}\"\n",
    "    #puts \"#{row},#{col} is #{hidden}\"\n",
    "    return hidden\n",
    "end"
   ]
  },
  {
   "cell_type": "code",
   "execution_count": 315,
   "id": "b2c733f9-b401-49a6-b4bf-253aad62ef5f",
   "metadata": {},
   "outputs": [
    {
     "data": {
      "text/plain": [
       "1713"
      ]
     },
     "execution_count": 315,
     "metadata": {},
     "output_type": "execute_result"
    }
   ],
   "source": [
    "visible_trees = 0\n",
    "m.each_with_index { |e, row, col| visible_trees += 1 if !hidden(m, row, col) }\n",
    "visible_trees"
   ]
  },
  {
   "cell_type": "code",
   "execution_count": 316,
   "id": "0403fced-e0bc-4e8e-ab65-cdc0f3ec9c81",
   "metadata": {},
   "outputs": [
    {
     "data": {
      "text/plain": [
       "0"
      ]
     },
     "execution_count": 316,
     "metadata": {},
     "output_type": "execute_result"
    }
   ],
   "source": [
    "\n",
    "def senic_score(m, row, col)\n",
    "    tree = m[row,col]\n",
    "    vrow = m.row(row)\n",
    "    vcol = m.column(col)\n",
    "    r_left = vrow[0...col]\n",
    "    r_right = vrow[col+1..-1]\n",
    "    \n",
    "    c_top = vcol[0...row]\n",
    "    c_bot = vcol[row+1..-1]\n",
    "\n",
    "    #puts \" #{r_left} #{tree} #{r_right} \"\n",
    "    #puts \" #{c_top} #{tree} #{c_bot} \"\n",
    "    def count_trees(arr, tree)\n",
    "        count = 0\n",
    "        arr.each do |x|\n",
    "            count += 1\n",
    "            if x >= tree\n",
    "                return count\n",
    "            end\n",
    "        end\n",
    "        return count\n",
    "    end\n",
    "    \n",
    "    #puts count_trees(r_left.reverse, tree)\n",
    "    #puts count_trees(r_right, tree)\n",
    "    #puts count_trees(c_top.reverse, tree)\n",
    "    #puts count_trees(c_bot, tree)\n",
    "    return count_trees(c_top.reverse, tree) *\n",
    "        count_trees(r_left.reverse, tree) *\n",
    "        count_trees(r_right, tree) *\n",
    "        count_trees(c_bot, tree)\n",
    "\n",
    "end\n",
    "#senic_score(m, 3,2)\n",
    "senic_score(m, 3,0)"
   ]
  },
  {
   "cell_type": "code",
   "execution_count": 317,
   "id": "bb47d6ee-edb3-4c68-a684-00d58eb4649d",
   "metadata": {},
   "outputs": [
    {
     "data": {
      "text/plain": [
       "268464"
      ]
     },
     "execution_count": 317,
     "metadata": {},
     "output_type": "execute_result"
    }
   ],
   "source": [
    "t = Matrix.zero(m.row_count)\n",
    "m.each_with_index { |e, row, col| t[row,col] = senic_score(m, row, col) }\n",
    "t.max"
   ]
  },
  {
   "cell_type": "code",
   "execution_count": null,
   "id": "b0a70230-d7b9-409a-8584-4122eb7ad4a0",
   "metadata": {},
   "outputs": [],
   "source": []
  }
 ],
 "metadata": {
  "kernelspec": {
   "display_name": "Ruby 3.0.0",
   "language": "ruby",
   "name": "ruby"
  },
  "language_info": {
   "file_extension": ".rb",
   "mimetype": "application/x-ruby",
   "name": "ruby",
   "version": "3.0.0"
  }
 },
 "nbformat": 4,
 "nbformat_minor": 5
}
