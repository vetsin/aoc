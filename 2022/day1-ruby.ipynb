{
 "cells": [
  {
   "cell_type": "code",
   "execution_count": 6,
   "metadata": {},
   "outputs": [
    {
     "data": {
      "text/plain": [
       "\"1000\\n2000\\n3000\\n\\n4000\\n\\n5000\\n6000\\n\\n7000\\n8000\\n9000\\n\\n10000\""
      ]
     },
     "execution_count": 6,
     "metadata": {},
     "output_type": "execute_result"
    }
   ],
   "source": [
    "indata = \"1000\n",
    "2000\n",
    "3000\n",
    "\n",
    "4000\n",
    "\n",
    "5000\n",
    "6000\n",
    "\n",
    "7000\n",
    "8000\n",
    "9000\n",
    "\n",
    "10000\""
   ]
  },
  {
   "cell_type": "code",
   "execution_count": 32,
   "metadata": {},
   "outputs": [
    {
     "data": {
      "text/plain": [
       "24000"
      ]
     },
     "execution_count": 32,
     "metadata": {},
     "output_type": "execute_result"
    }
   ],
   "source": [
    "indata.split(\"\\n\\n\").map { |x| x.split.map(&:to_i) }.map(&:sum).max"
   ]
  },
  {
   "cell_type": "code",
   "execution_count": 78,
   "metadata": {},
   "outputs": [
    {
     "data": {
      "text/plain": [
       "24000"
      ]
     },
     "execution_count": 78,
     "metadata": {},
     "output_type": "execute_result"
    }
   ],
   "source": [
    "indata.lines.map(&:chomp).chunk(&:empty?).map { |x, y| y.map(&:to_i).sum }.max"
   ]
  },
  {
   "cell_type": "code",
   "execution_count": 85,
   "metadata": {},
   "outputs": [
    {
     "data": {
      "text/plain": [
       "45000"
      ]
     },
     "execution_count": 85,
     "metadata": {},
     "output_type": "execute_result"
    },
    {
     "ename": "Interrupt",
     "evalue": "",
     "output_type": "error",
     "traceback": [
      "\u001b[31mInterrupt\u001b[0m: ",
      "/home/vetsin/.rvm/gems/ruby-3.0.0/gems/ffi-rzmq-2.0.7/lib/ffi-rzmq/socket.rb:584:in `zmq_recvmsg'",
      "/home/vetsin/.rvm/gems/ruby-3.0.0/gems/ffi-rzmq-2.0.7/lib/ffi-rzmq/socket.rb:584:in `__recvmsg__'",
      "/home/vetsin/.rvm/gems/ruby-3.0.0/gems/ffi-rzmq-2.0.7/lib/ffi-rzmq/socket.rb:321:in `recvmsg'",
      "/home/vetsin/.rvm/gems/ruby-3.0.0/gems/ffi-rzmq-2.0.7/lib/ffi-rzmq/socket.rb:342:in `recv_string'",
      "/home/vetsin/.rvm/gems/ruby-3.0.0/gems/iruby-0.7.4/lib/iruby/session_adapter/ffirzmq_adapter.rb:19:in `recv'",
      "/home/vetsin/.rvm/gems/ruby-3.0.0/gems/iruby-0.7.4/lib/iruby/session.rb:91:in `recv'",
      "/home/vetsin/.rvm/gems/ruby-3.0.0/gems/iruby-0.7.4/lib/iruby/kernel.rb:133:in `dispatch'",
      "/home/vetsin/.rvm/gems/ruby-3.0.0/gems/iruby-0.7.4/lib/iruby/kernel.rb:127:in `run'",
      "/home/vetsin/.rvm/gems/ruby-3.0.0/gems/iruby-0.7.4/lib/iruby/command.rb:106:in `run_kernel'",
      "/home/vetsin/.rvm/gems/ruby-3.0.0/gems/iruby-0.7.4/lib/iruby/command.rb:37:in `run'",
      "/home/vetsin/.rvm/gems/ruby-3.0.0/gems/iruby-0.7.4/bin/iruby:5:in `<top (required)>'",
      "/home/vetsin/.rvm/gems/ruby-3.0.0/bin/iruby:23:in `load'",
      "/home/vetsin/.rvm/gems/ruby-3.0.0/bin/iruby:23:in `<main>'"
     ]
    }
   ],
   "source": [
    "indata.split(\"\\n\\n\").map { |x| x.split.map(&:to_i) }.map(&:sum).max(3).sum"
   ]
  },
  {
   "cell_type": "code",
   "execution_count": null,
   "metadata": {},
   "outputs": [],
   "source": []
  }
 ],
 "metadata": {
  "kernelspec": {
   "display_name": "Ruby 3.0.0",
   "language": "ruby",
   "name": "ruby"
  },
  "language_info": {
   "file_extension": ".rb",
   "mimetype": "application/x-ruby",
   "name": "ruby",
   "version": "3.0.0"
  }
 },
 "nbformat": 4,
 "nbformat_minor": 4
}
