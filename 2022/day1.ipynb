{
 "cells": [
  {
   "cell_type": "code",
   "execution_count": 84,
   "id": "a21f1e4b-fe2e-4a67-a2df-08989e483f48",
   "metadata": {},
   "outputs": [],
   "source": [
    "import pandas as pd"
   ]
  },
  {
   "cell_type": "code",
   "execution_count": 100,
   "id": "9b699a67-b4c2-4b1d-8878-5e3d7656837f",
   "metadata": {},
   "outputs": [],
   "source": [
    "with open('day1.txt') as f:\n",
    "    indata = f.read()"
   ]
  },
  {
   "cell_type": "code",
   "execution_count": 101,
   "id": "7e58838a-107c-451c-b719-3ad58e6c4ca7",
   "metadata": {},
   "outputs": [],
   "source": [
    "data = [ list(map(int,x.split())) for x in indata.split('\\n\\n') ]"
   ]
  },
  {
   "cell_type": "code",
   "execution_count": 102,
   "id": "3ebccb29-db40-4bf0-8bf3-06906b9f79f6",
   "metadata": {},
   "outputs": [],
   "source": [
    "s = pd.Series(data, index=range(len(data)))"
   ]
  },
  {
   "cell_type": "code",
   "execution_count": 103,
   "id": "93385dac-ed60-42f8-b723-6b5766d7585f",
   "metadata": {},
   "outputs": [
    {
     "data": {
      "text/html": [
       "<div>\n",
       "<style scoped>\n",
       "    .dataframe tbody tr th:only-of-type {\n",
       "        vertical-align: middle;\n",
       "    }\n",
       "\n",
       "    .dataframe tbody tr th {\n",
       "        vertical-align: top;\n",
       "    }\n",
       "\n",
       "    .dataframe thead th {\n",
       "        text-align: right;\n",
       "    }\n",
       "</style>\n",
       "<table border=\"1\" class=\"dataframe\">\n",
       "  <thead>\n",
       "    <tr style=\"text-align: right;\">\n",
       "      <th></th>\n",
       "      <th>snacks</th>\n",
       "    </tr>\n",
       "  </thead>\n",
       "  <tbody>\n",
       "    <tr>\n",
       "      <th>0</th>\n",
       "      <td>[2494, 8013, 1055, 5425, 9104, 10665]</td>\n",
       "    </tr>\n",
       "    <tr>\n",
       "      <th>1</th>\n",
       "      <td>[10642, 10677, 10300, 7374, 9085, 8508, 7569, ...</td>\n",
       "    </tr>\n",
       "    <tr>\n",
       "      <th>2</th>\n",
       "      <td>[5300, 5960, 8252, 5852, 4308, 9991, 6367]</td>\n",
       "    </tr>\n",
       "    <tr>\n",
       "      <th>3</th>\n",
       "      <td>[1361, 5356, 6114, 3379, 5996, 3822, 3785, 162...</td>\n",
       "    </tr>\n",
       "    <tr>\n",
       "      <th>4</th>\n",
       "      <td>[4892, 6648, 3022, 6063, 5436, 2174, 4264, 200...</td>\n",
       "    </tr>\n",
       "  </tbody>\n",
       "</table>\n",
       "</div>"
      ],
      "text/plain": [
       "                                              snacks\n",
       "0              [2494, 8013, 1055, 5425, 9104, 10665]\n",
       "1  [10642, 10677, 10300, 7374, 9085, 8508, 7569, ...\n",
       "2         [5300, 5960, 8252, 5852, 4308, 9991, 6367]\n",
       "3  [1361, 5356, 6114, 3379, 5996, 3822, 3785, 162...\n",
       "4  [4892, 6648, 3022, 6063, 5436, 2174, 4264, 200..."
      ]
     },
     "execution_count": 103,
     "metadata": {},
     "output_type": "execute_result"
    }
   ],
   "source": [
    "df = pd.DataFrame(s, index=range(len(data)), columns=['snacks'])\n",
    "df.head()"
   ]
  },
  {
   "cell_type": "code",
   "execution_count": 104,
   "id": "4ef8c219-04ea-4cc5-846b-ba43bfed8924",
   "metadata": {},
   "outputs": [],
   "source": [
    "df['total'] = df['snacks'].apply(sum)"
   ]
  },
  {
   "cell_type": "code",
   "execution_count": 105,
   "id": "df2d5274-ae5d-42d3-9c61-ee6842d4876f",
   "metadata": {},
   "outputs": [
    {
     "data": {
      "text/plain": [
       "70369"
      ]
     },
     "execution_count": 105,
     "metadata": {},
     "output_type": "execute_result"
    }
   ],
   "source": [
    "df['total'].max()"
   ]
  },
  {
   "cell_type": "code",
   "execution_count": 106,
   "id": "13718dcb-0aa6-423e-8ec4-705bee0b59d5",
   "metadata": {},
   "outputs": [
    {
     "data": {
      "text/plain": [
       "203002"
      ]
     },
     "execution_count": 106,
     "metadata": {},
     "output_type": "execute_result"
    }
   ],
   "source": [
    "df['total'].nlargest(3).sum()"
   ]
  },
  {
   "cell_type": "code",
   "execution_count": null,
   "id": "c3aa3cec-6697-4ae0-9115-efa2157578df",
   "metadata": {},
   "outputs": [],
   "source": []
  }
 ],
 "metadata": {
  "kernelspec": {
   "display_name": "Python 3 (ipykernel)",
   "language": "python",
   "name": "python3"
  },
  "language_info": {
   "codemirror_mode": {
    "name": "ipython",
    "version": 3
   },
   "file_extension": ".py",
   "mimetype": "text/x-python",
   "name": "python",
   "nbconvert_exporter": "python",
   "pygments_lexer": "ipython3",
   "version": "3.10.5"
  }
 },
 "nbformat": 4,
 "nbformat_minor": 5
}
