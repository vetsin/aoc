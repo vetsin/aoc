{
 "cells": [
  {
   "cell_type": "code",
   "execution_count": 1,
   "id": "9fa74d59-5e86-4c46-8f29-69992fbc41e9",
   "metadata": {},
   "outputs": [],
   "source": [
    "import pandas as pd"
   ]
  },
  {
   "cell_type": "code",
   "execution_count": 105,
   "id": "3d9d0252-0beb-462a-ae19-a49ca3a51abe",
   "metadata": {},
   "outputs": [],
   "source": [
    "with open('day2.txt') as f:\n",
    "    indata = f.read()"
   ]
  },
  {
   "cell_type": "code",
   "execution_count": 106,
   "id": "25147818-380f-4aaf-9595-23beb47e8d0a",
   "metadata": {},
   "outputs": [],
   "source": [
    "data = [ x.split() for x in indata.split('\\n') ]"
   ]
  },
  {
   "cell_type": "code",
   "execution_count": 107,
   "id": "5c795ea0-615f-421b-9172-bc4f28d575ea",
   "metadata": {},
   "outputs": [],
   "source": [
    "op =      ['A', 'B', 'C']\n",
    "me = ['X', 'Y', 'Z'] #X"
   ]
  },
  {
   "cell_type": "code",
   "execution_count": 108,
   "id": "896af83c-8ee6-424e-9855-48fe6c2e3271",
   "metadata": {},
   "outputs": [
    {
     "data": {
      "text/html": [
       "<div>\n",
       "<style scoped>\n",
       "    .dataframe tbody tr th:only-of-type {\n",
       "        vertical-align: middle;\n",
       "    }\n",
       "\n",
       "    .dataframe tbody tr th {\n",
       "        vertical-align: top;\n",
       "    }\n",
       "\n",
       "    .dataframe thead th {\n",
       "        text-align: right;\n",
       "    }\n",
       "</style>\n",
       "<table border=\"1\" class=\"dataframe\">\n",
       "  <thead>\n",
       "    <tr style=\"text-align: right;\">\n",
       "      <th></th>\n",
       "      <th>opponent</th>\n",
       "      <th>me</th>\n",
       "    </tr>\n",
       "  </thead>\n",
       "  <tbody>\n",
       "    <tr>\n",
       "      <th>0</th>\n",
       "      <td>A</td>\n",
       "      <td>Y</td>\n",
       "    </tr>\n",
       "    <tr>\n",
       "      <th>1</th>\n",
       "      <td>A</td>\n",
       "      <td>Z</td>\n",
       "    </tr>\n",
       "    <tr>\n",
       "      <th>2</th>\n",
       "      <td>A</td>\n",
       "      <td>X</td>\n",
       "    </tr>\n",
       "    <tr>\n",
       "      <th>3</th>\n",
       "      <td>B</td>\n",
       "      <td>X</td>\n",
       "    </tr>\n",
       "    <tr>\n",
       "      <th>4</th>\n",
       "      <td>A</td>\n",
       "      <td>Y</td>\n",
       "    </tr>\n",
       "  </tbody>\n",
       "</table>\n",
       "</div>"
      ],
      "text/plain": [
       "  opponent me\n",
       "0        A  Y\n",
       "1        A  Z\n",
       "2        A  X\n",
       "3        B  X\n",
       "4        A  Y"
      ]
     },
     "execution_count": 108,
     "metadata": {},
     "output_type": "execute_result"
    }
   ],
   "source": [
    "df = pd.DataFrame(data, columns=['opponent', 'me'])\n",
    "df.head()"
   ]
  },
  {
   "cell_type": "code",
   "execution_count": 109,
   "id": "5363a92d-ea62-4132-92c3-26bc3a79616e",
   "metadata": {},
   "outputs": [],
   "source": [
    "def calc_score(my_shape, op_shape):\n",
    "    draw = op_shape == my_shape\n",
    "    won = op_shape == (my_shape-1)%3\n",
    "    shape_score = my_shape+1\n",
    "    result_score = 3 if draw else [0,6][won]\n",
    "    return shape_score + result_score\n",
    "\n",
    "def score(row):\n",
    "    return calc_score(me.index(row['me']),  op.index(row['opponent']))"
   ]
  },
  {
   "cell_type": "code",
   "execution_count": 110,
   "id": "65e759b6-07ed-4192-8a56-c671e3f5121c",
   "metadata": {},
   "outputs": [],
   "source": [
    "df['score'] = df.apply(score, axis=1)"
   ]
  },
  {
   "cell_type": "code",
   "execution_count": 111,
   "id": "3be80afc-f3c3-4e8c-a17d-ac4a56a25fdb",
   "metadata": {},
   "outputs": [
    {
     "data": {
      "text/plain": [
       "10595"
      ]
     },
     "execution_count": 111,
     "metadata": {},
     "output_type": "execute_result"
    }
   ],
   "source": [
    "df['score'].sum()"
   ]
  },
  {
   "cell_type": "code",
   "execution_count": 112,
   "id": "efa392ab-d247-4364-a0ef-bb6becda665f",
   "metadata": {},
   "outputs": [],
   "source": [
    "def determine_play(row):\n",
    "    my_shape = me.index(row['me'])\n",
    "    op_shape = op.index(row['opponent'])\n",
    "    if my_shape == 0: # lose\n",
    "        return op[(op_shape-1)%3]#me[(op_shape-1)%3]\n",
    "    elif my_shape == 1: # draw\n",
    "        return op[op_shape]#me[op_shape]\n",
    "    elif my_shape == 2: # win\n",
    "        return op[(op_shape+1)%3]#me[(op_shape+1)%3]"
   ]
  },
  {
   "cell_type": "code",
   "execution_count": 113,
   "id": "da2009d5-5be5-4842-8acb-84bbd1b25d4f",
   "metadata": {},
   "outputs": [],
   "source": [
    "df['determined_play'] = df.apply(determine_play, axis=1)"
   ]
  },
  {
   "cell_type": "code",
   "execution_count": 114,
   "id": "f24a56aa-2eff-4090-ba2e-2fe8bdddbed6",
   "metadata": {},
   "outputs": [],
   "source": [
    "# X,0=lose, Y,1=draw, Z,2=win\n",
    "def deterministic_score(row):\n",
    "    return calc_score(op.index(row['determined_play']),  op.index(row['opponent']))\n",
    "df['second_score'] = df.apply(deterministic_score, axis=1)"
   ]
  },
  {
   "cell_type": "code",
   "execution_count": 115,
   "id": "3b09eb0d-97c1-4f84-9de8-5eed3655614b",
   "metadata": {},
   "outputs": [
    {
     "data": {
      "text/plain": [
       "9541"
      ]
     },
     "execution_count": 115,
     "metadata": {},
     "output_type": "execute_result"
    }
   ],
   "source": [
    "df['second_score'].sum()"
   ]
  }
 ],
 "metadata": {
  "kernelspec": {
   "display_name": "Python 3 (ipykernel)",
   "language": "python",
   "name": "python3"
  },
  "language_info": {
   "codemirror_mode": {
    "name": "ipython",
    "version": 3
   },
   "file_extension": ".py",
   "mimetype": "text/x-python",
   "name": "python",
   "nbconvert_exporter": "python",
   "pygments_lexer": "ipython3",
   "version": "3.10.5"
  }
 },
 "nbformat": 4,
 "nbformat_minor": 5
}
