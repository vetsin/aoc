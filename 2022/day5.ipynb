{
 "cells": [
  {
   "cell_type": "code",
   "execution_count": 151,
   "metadata": {},
   "outputs": [],
   "source": [
    "indata = '''    [D]    \n",
    "[N] [C]    \n",
    "[Z] [M] [P] [x]\n",
    " 1   2   3 \n",
    "\n",
    "move 1 from 2 to 1\n",
    "move 3 from 1 to 3\n",
    "move 2 from 2 to 1\n",
    "move 1 from 1 to 2'''"
   ]
  },
  {
   "cell_type": "code",
   "execution_count": 200,
   "metadata": {},
   "outputs": [],
   "source": [
    "import re\n",
    "import itertools\n",
    "from pprint import pprint\n",
    "import math"
   ]
  },
  {
   "cell_type": "code",
   "execution_count": 160,
   "metadata": {},
   "outputs": [],
   "source": [
    "with open('day5.txt', 'r') as f:\n",
    "    indata = f.read()"
   ]
  },
  {
   "cell_type": "code",
   "execution_count": 161,
   "metadata": {},
   "outputs": [],
   "source": [
    "stack_data, instructions = indata.split('\\n\\n')"
   ]
  },
  {
   "cell_type": "code",
   "execution_count": 194,
   "metadata": {},
   "outputs": [],
   "source": [
    "lines = stack_data.split('\\n')\n",
    "parts = [[ line[(4*(i+1))-3] for i in range(math.ceil(len(lines[-1])/4)) ] for line in lines ]"
   ]
  },
  {
   "cell_type": "code",
   "execution_count": 195,
   "metadata": {},
   "outputs": [],
   "source": [
    "ship = {}\n",
    "rotated = itertools.zip_longest(*parts[:-1][::-1])\n",
    "for key, values in zip(parts[-1], rotated):\n",
    "    ship[int(key)] = [ v for v in values if v != ' ']"
   ]
  },
  {
   "cell_type": "code",
   "execution_count": 196,
   "metadata": {},
   "outputs": [],
   "source": [
    "moves = [ [int(y) for y in re.findall(r'\\d+', x) ] for x in instructions.split('\\n') ]"
   ]
  },
  {
   "cell_type": "code",
   "execution_count": 197,
   "metadata": {},
   "outputs": [],
   "source": [
    "for count, frm, to in moves:\n",
    "    #print(f\"move {count} ({ship[frm][len(ship[frm])-count:]}) from {ship[frm]} to {ship[to]}\")\n",
    "    ship[frm], to_move = ship[frm][:len(ship[frm])-count], ship[frm][len(ship[frm])-count:]\n",
    "    ship[to] += to_move[::-1]\n",
    "    #pprint(ship)"
   ]
  },
  {
   "cell_type": "code",
   "execution_count": 206,
   "metadata": {},
   "outputs": [
    {
     "name": "stdout",
     "output_type": "stream",
     "text": [
      "BRQWDBBJM"
     ]
    }
   ],
   "source": [
    "for values in ship.values():\n",
    "    if values:\n",
    "        print(values[-1], end='')"
   ]
  },
  {
   "cell_type": "markdown",
   "metadata": {},
   "source": [
    "### part 2\n",
    "same thing but dont reverse..."
   ]
  },
  {
   "cell_type": "code",
   "execution_count": 207,
   "metadata": {},
   "outputs": [
    {
     "name": "stdout",
     "output_type": "stream",
     "text": [
      "BRQWDBBJM"
     ]
    }
   ],
   "source": [
    "ship = {}\n",
    "rotated = itertools.zip_longest(*parts[:-1][::-1])\n",
    "for key, values in zip(parts[-1], rotated):\n",
    "    ship[int(key)] = [ v for v in values if v != ' ']\n",
    "moves = [ [int(y) for y in re.findall(r'\\d+', x) ] for x in instructions.split('\\n') ]\n",
    "for count, frm, to in moves:\n",
    "    ship[frm], to_move = ship[frm][:len(ship[frm])-count], ship[frm][len(ship[frm])-count:]\n",
    "    ship[to] += to_move\n",
    "\n",
    "for values in ship.values():\n",
    "    if values:\n",
    "        print(values[-1], end='')\n"
   ]
  },
  {
   "cell_type": "code",
   "execution_count": null,
   "metadata": {},
   "outputs": [],
   "source": []
  }
 ],
 "metadata": {
  "kernelspec": {
   "display_name": "Python 3 (ipykernel)",
   "language": "python",
   "name": "python3"
  },
  "language_info": {
   "codemirror_mode": {
    "name": "ipython",
    "version": 3
   },
   "file_extension": ".py",
   "mimetype": "text/x-python",
   "name": "python",
   "nbconvert_exporter": "python",
   "pygments_lexer": "ipython3",
   "version": "3.10.5"
  }
 },
 "nbformat": 4,
 "nbformat_minor": 4
}
