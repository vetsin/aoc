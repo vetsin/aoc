{
 "cells": [
  {
   "cell_type": "code",
   "execution_count": 9,
   "id": "21d3acba-e2fd-479b-bae5-a94655ee8706",
   "metadata": {},
   "outputs": [
    {
     "data": {
      "text/plain": [
       "\"$ cd /\\n$ ls\\ndir a\\n14848514 b.txt\\n8504156 c.dat\\ndir d\\n$ cd a\\n$ ls\\ndir e\\n29116 f\\n2557 g\\n62596 h.lst\\n$ cd e\\n$ ls\\n584 i\\n$ cd ..\\n$ cd ..\\n$ cd d\\n$ ls\\n4060174 j\\n8033020 d.log\\n5626152 d.ext\\n7214296 k\""
      ]
     },
     "execution_count": 9,
     "metadata": {},
     "output_type": "execute_result"
    }
   ],
   "source": [
    "input = \"$ cd /\n",
    "$ ls\n",
    "dir a\n",
    "14848514 b.txt\n",
    "8504156 c.dat\n",
    "dir d\n",
    "$ cd a\n",
    "$ ls\n",
    "dir e\n",
    "29116 f\n",
    "2557 g\n",
    "62596 h.lst\n",
    "$ cd e\n",
    "$ ls\n",
    "584 i\n",
    "$ cd ..\n",
    "$ cd ..\n",
    "$ cd d\n",
    "$ ls\n",
    "4060174 j\n",
    "8033020 d.log\n",
    "5626152 d.ext\n",
    "7214296 k\""
   ]
  },
  {
   "cell_type": "code",
   "execution_count": 130,
   "id": "ae9dbe80-3b9b-4826-a4b5-9ff70d034417",
   "metadata": {},
   "outputs": [
    {
     "data": {
      "text/plain": [
       "false"
      ]
     },
     "execution_count": 130,
     "metadata": {},
     "output_type": "execute_result"
    }
   ],
   "source": [
    "require 'pathname'"
   ]
  },
  {
   "cell_type": "code",
   "execution_count": 131,
   "id": "3b028a32-7df7-444b-885f-b5f56430ff30",
   "metadata": {},
   "outputs": [],
   "source": [
    "all = []\n",
    "path = []\n",
    "input.split(\"\\n\") do |line|\n",
    "    path << line.split()[-1] if line.include? \"cd\"\n",
    "    next if line.start_with? \"dir\" or line.start_with? \"$\"\n",
    "    size, name = line.split\n",
    "    all << { :size => size.to_i, :name => name, :base => Pathname.new(path.join('/')).cleanpath.to_s }\n",
    "end\n",
    "nil"
   ]
  },
  {
   "cell_type": "code",
   "execution_count": 132,
   "id": "75e72b40-001a-477f-a8ab-674dcfc52304",
   "metadata": {},
   "outputs": [
    {
     "data": {
      "text/plain": [
       "48381165"
      ]
     },
     "execution_count": 132,
     "metadata": {},
     "output_type": "execute_result"
    }
   ],
   "source": [
    "all.collect { |x| x[:size] if x[:size] }.sum"
   ]
  },
  {
   "cell_type": "code",
   "execution_count": 134,
   "id": "cbdc31b7-ba9e-4a8e-9144-7c0fa27c5286",
   "metadata": {},
   "outputs": [
    {
     "data": {
      "text/plain": [
       "[[\"/\", 23352670], [\"/a\", 94269], [\"/a/e\", 584], [\"/d\", 24933642]]"
      ]
     },
     "execution_count": 134,
     "metadata": {},
     "output_type": "execute_result"
    }
   ],
   "source": [
    "dirs = all.collect { |x| x[:base] }.uniq.collect { |b| [b, all.collect { |x| x[:size] if x[:base] == b }.compact.sum ] }"
   ]
  },
  {
   "cell_type": "code",
   "execution_count": 144,
   "id": "f21d1842-27b2-4a27-a96d-6f575e846612",
   "metadata": {},
   "outputs": [
    {
     "data": {
      "text/plain": [
       "[nil, 94269, 584, nil]"
      ]
     },
     "execution_count": 144,
     "metadata": {},
     "output_type": "execute_result"
    }
   ],
   "source": [
    "dirs.collect { |d| d[1] if d[1] < 100_000 }"
   ]
  },
  {
   "cell_type": "code",
   "execution_count": null,
   "id": "2a459ce9-3485-4ace-90b6-753b0c215975",
   "metadata": {},
   "outputs": [],
   "source": [
    "## incomplete"
   ]
  }
 ],
 "metadata": {
  "kernelspec": {
   "display_name": "Ruby 3.0.0",
   "language": "ruby",
   "name": "ruby"
  },
  "language_info": {
   "file_extension": ".rb",
   "mimetype": "application/x-ruby",
   "name": "ruby",
   "version": "3.0.0"
  }
 },
 "nbformat": 4,
 "nbformat_minor": 5
}
