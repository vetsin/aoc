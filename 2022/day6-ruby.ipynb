{
 "cells": [
  {
   "cell_type": "code",
   "execution_count": 5,
   "id": "9b525297-7a54-44be-b50d-3b5f82a6e3e9",
   "metadata": {},
   "outputs": [
    {
     "data": {
      "text/plain": [
       "\"zcfzfwzzqfrljwzlrfnpqdbhtmscgvjw\""
      ]
     },
     "execution_count": 5,
     "metadata": {},
     "output_type": "execute_result"
    }
   ],
   "source": [
    "$indata = \"zcfzfwzzqfrljwzlrfnpqdbhtmscgvjw\""
   ]
  },
  {
   "cell_type": "code",
   "execution_count": 17,
   "id": "46615c59-6116-410c-9fa5-b585bb6a5fa3",
   "metadata": {},
   "outputs": [],
   "source": [
    "$indata = File.read('day6.txt')\n",
    "nil"
   ]
  },
  {
   "cell_type": "code",
   "execution_count": 18,
   "id": "164db4d0-53a5-42be-a642-45d32228055e",
   "metadata": {},
   "outputs": [
    {
     "data": {
      "text/plain": [
       ":findit"
      ]
     },
     "execution_count": 18,
     "metadata": {},
     "output_type": "execute_result"
    }
   ],
   "source": [
    "def findit(n) = $indata.index($indata.chars.each_cons(n).find { |x| x.uniq.count == n }.join)+n"
   ]
  },
  {
   "cell_type": "code",
   "execution_count": 19,
   "id": "3b022618-9809-45a1-a795-aad45ec8851e",
   "metadata": {},
   "outputs": [
    {
     "data": {
      "text/plain": [
       "1723"
      ]
     },
     "execution_count": 19,
     "metadata": {},
     "output_type": "execute_result"
    }
   ],
   "source": [
    "findit(4)"
   ]
  },
  {
   "cell_type": "code",
   "execution_count": 20,
   "id": "b3a6cb44-818e-4e2d-8ccc-1d5ddcffb7e2",
   "metadata": {},
   "outputs": [
    {
     "data": {
      "text/plain": [
       "3708"
      ]
     },
     "execution_count": 20,
     "metadata": {},
     "output_type": "execute_result"
    }
   ],
   "source": [
    "findit(14)"
   ]
  }
 ],
 "metadata": {
  "kernelspec": {
   "display_name": "Ruby 3.0.0",
   "language": "ruby",
   "name": "ruby"
  },
  "language_info": {
   "file_extension": ".rb",
   "mimetype": "application/x-ruby",
   "name": "ruby",
   "version": "3.0.0"
  }
 },
 "nbformat": 4,
 "nbformat_minor": 5
}
