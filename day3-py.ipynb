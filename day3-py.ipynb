{
 "cells": [
  {
   "cell_type": "code",
   "execution_count": 327,
   "id": "e8d96bd2",
   "metadata": {},
   "outputs": [],
   "source": [
    "import numpy as np\n",
    "from scipy.ndimage import label, generate_binary_structure\n",
    "import scipy.ndimage as ndimage"
   ]
  },
  {
   "cell_type": "code",
   "execution_count": 4,
   "id": "8a3d9af7",
   "metadata": {},
   "outputs": [],
   "source": [
    "input = \"\"\"467..114..\n",
    "...*......\n",
    "..35..633.\n",
    "......#...\n",
    "617*......\n",
    ".....+.58.\n",
    "..592.....\n",
    "......755.\n",
    "...$.*....\n",
    ".664.598..\"\"\""
   ]
  },
  {
   "cell_type": "code",
   "execution_count": 145,
   "id": "214cafc2",
   "metadata": {},
   "outputs": [],
   "source": [
    "data = np.array([ [c for c in l] for l in input.splitlines()])"
   ]
  },
  {
   "cell_type": "code",
   "execution_count": 223,
   "id": "b28ba007",
   "metadata": {},
   "outputs": [
    {
     "name": "stdout",
     "output_type": "stream",
     "text": [
      "['4' '6' '7' '.' '.' '1' '1' '4' '.' '.']\n",
      "['.' '.' '.' '*' '.' '.' '.' '.' '.' '.']\n",
      "['.' '.' '3' '5' '.' '.' '6' '3' '3' '.']\n",
      "['.' '.' '.' '.' '.' '.' '#' '.' '.' '.']\n",
      "['6' '1' '7' '*' '.' '.' '.' '.' '.' '.']\n",
      "['.' '.' '.' '.' '.' '+' '.' '5' '8' '.']\n",
      "['.' '.' '5' '9' '2' '.' '.' '.' '.' '.']\n",
      "['.' '.' '.' '.' '.' '.' '7' '5' '5' '.']\n",
      "['.' '.' '.' '$' '.' '*' '.' '.' '.' '.']\n",
      "['.' '6' '6' '4' '.' '5' '9' '8' '.' '.']\n"
     ]
    }
   ],
   "source": [
    "for row in data:\n",
    "    print(row)\n",
    "    numbers = np.where(np.char.isnumeric(row))[0]\n",
    "    symbols = np.where(~np.char.isnumeric(row) & (row != '.'))[0]\n",
    "    #print(np.pad(row!='.',1))\n",
    "    #print('--')"
   ]
  },
  {
   "cell_type": "code",
   "execution_count": 281,
   "id": "5de7a8b4",
   "metadata": {},
   "outputs": [],
   "source": [
    "def groups(row):\n",
    "    nrow = np.r_[0, np.char.isnumeric(row), 0]\n",
    "    gr = np.flatnonzero(np.diff(nrow) != 0).reshape(-1,2)\n",
    "    return [ np.arange(*r) for r in gr ]\n",
    "\n",
    "def extract(row, group):\n",
    "    return ''.join(row[group])\n",
    "    #return ''.join(row[group[0]:group[1]])"
   ]
  },
  {
   "cell_type": "code",
   "execution_count": 308,
   "id": "897d0ebf",
   "metadata": {},
   "outputs": [
    {
     "name": "stdout",
     "output_type": "stream",
     "text": [
      "['4' '6' '7' '.' '.' '1' '1' '4' '.' '.']\n",
      "[0 1 2]\n",
      "[5 6 7]\n",
      "-\n",
      "['.' '.' '.' '*' '.' '.' '.' '.' '.' '.']\n",
      "-\n",
      "['.' '.' '3' '5' '.' '.' '6' '3' '3' '.']\n",
      "[2 3]\n",
      "[6 7 8]\n",
      "-\n",
      "['.' '.' '.' '.' '.' '.' '#' '.' '.' '.']\n",
      "-\n",
      "['6' '1' '7' '*' '.' '.' '.' '.' '.' '.']\n",
      "[0 1 2]\n",
      "-\n",
      "['.' '.' '.' '.' '.' '+' '.' '5' '8' '.']\n",
      "[7 8]\n",
      "-\n",
      "['.' '.' '5' '9' '2' '.' '.' '.' '.' '.']\n",
      "[2 3 4]\n",
      "-\n",
      "['.' '.' '.' '.' '.' '.' '7' '5' '5' '.']\n",
      "[6 7 8]\n",
      "-\n",
      "['.' '.' '.' '$' '.' '*' '.' '.' '.' '.']\n",
      "-\n",
      "['.' '6' '6' '4' '.' '5' '9' '8' '.' '.']\n",
      "[1 2 3]\n",
      "[5 6 7]\n",
      "-\n"
     ]
    }
   ],
   "source": [
    "for row in data:\n",
    "    print(row)\n",
    "    #numbers = np.where(np.char.isnumeric(row))[0]     \n",
    "    for eg in groups(row):\n",
    "        #print(row[eg])\n",
    "        #print(np.where(row == eg, 1, 0))\n",
    "        print(np.repeat(eg.T, repeats=1, axis=0))\n",
    "        #print(extract(row, eg))\n",
    "    #for eg in groups(row):\n",
    "    #    print(np.arange(*eg))\n",
    "        #print(np.where(np.array(range(*eg))), 1, 0)\n",
    "    #    print(range(*eg))\n",
    "    #    print(extract(row, eg))\n",
    "    #symbols = np.where(~np.char.isnumeric(row) & (row != '.'))\n",
    "    smask = np.where(~np.char.isnumeric(row) & (row != '.'), 1, 0)\n",
    "    #print(smask)\n",
    "    #print(np.where(smask, row, 0))\n",
    "    print('-')\n",
    "    #print(symbols[0])\n",
    "    #print(np.pad(row!='.',1))"
   ]
  },
  {
   "cell_type": "code",
   "execution_count": 217,
   "id": "1a220c25",
   "metadata": {},
   "outputs": [
    {
     "data": {
      "text/plain": [
       "array([[0, 0, 0, 0, 0, 0, 0, 0, 0, 0],\n",
       "       [0, 0, 0, 1, 0, 0, 0, 0, 0, 0],\n",
       "       [0, 0, 0, 0, 0, 0, 0, 0, 0, 0],\n",
       "       [0, 0, 0, 0, 0, 0, 1, 0, 0, 0],\n",
       "       [0, 0, 0, 1, 0, 0, 0, 0, 0, 0],\n",
       "       [0, 0, 0, 0, 0, 1, 0, 0, 0, 0],\n",
       "       [0, 0, 0, 0, 0, 0, 0, 0, 0, 0],\n",
       "       [0, 0, 0, 0, 0, 0, 0, 0, 0, 0],\n",
       "       [0, 0, 0, 1, 0, 1, 0, 0, 0, 0],\n",
       "       [0, 0, 0, 0, 0, 0, 0, 0, 0, 0]])"
      ]
     },
     "execution_count": 217,
     "metadata": {},
     "output_type": "execute_result"
    }
   ],
   "source": [
    "feats = np.where(~np.char.isnumeric(data) & (data != '.'), 1, 0)\n",
    "#label(x)\n",
    "feats"
   ]
  },
  {
   "cell_type": "code",
   "execution_count": 218,
   "id": "d2099e29",
   "metadata": {},
   "outputs": [
    {
     "data": {
      "text/plain": [
       "array([[1, 1, 1, 0, 0, 1, 1, 1, 0, 0],\n",
       "       [0, 0, 0, 0, 0, 0, 0, 0, 0, 0],\n",
       "       [0, 0, 1, 1, 0, 0, 1, 1, 1, 0],\n",
       "       [0, 0, 0, 0, 0, 0, 0, 0, 0, 0],\n",
       "       [1, 1, 1, 0, 0, 0, 0, 0, 0, 0],\n",
       "       [0, 0, 0, 0, 0, 0, 0, 1, 1, 0],\n",
       "       [0, 0, 1, 1, 1, 0, 0, 0, 0, 0],\n",
       "       [0, 0, 0, 0, 0, 0, 1, 1, 1, 0],\n",
       "       [0, 0, 0, 0, 0, 0, 0, 0, 0, 0],\n",
       "       [0, 1, 1, 1, 0, 1, 1, 1, 0, 0]])"
      ]
     },
     "execution_count": 218,
     "metadata": {},
     "output_type": "execute_result"
    }
   ],
   "source": [
    "nums = np.where(np.char.isnumeric(data), 1, 0)\n",
    "nums"
   ]
  },
  {
   "cell_type": "code",
   "execution_count": 368,
   "id": "afb77029",
   "metadata": {},
   "outputs": [
    {
     "data": {
      "text/plain": [
       "array([[ 1,  1,  1,  0,  0,  2,  2,  2,  0,  0],\n",
       "       [ 0,  0,  0,  0,  0,  0,  0,  0,  0,  0],\n",
       "       [ 0,  0,  3,  3,  0,  0,  4,  4,  4,  0],\n",
       "       [ 0,  0,  0,  0,  0,  0,  0,  0,  0,  0],\n",
       "       [ 5,  5,  5,  0,  0,  0,  0,  0,  0,  0],\n",
       "       [ 0,  0,  0,  0,  0,  0,  0,  6,  6,  0],\n",
       "       [ 0,  0,  7,  7,  7,  0,  0,  0,  0,  0],\n",
       "       [ 0,  0,  0,  0,  0,  0,  8,  8,  8,  0],\n",
       "       [ 0,  0,  0,  0,  0,  0,  0,  0,  0,  0],\n",
       "       [ 0,  9,  9,  9,  0, 10, 10, 10,  0,  0]], dtype=int32)"
      ]
     },
     "execution_count": 368,
     "metadata": {},
     "output_type": "execute_result"
    }
   ],
   "source": [
    "nstructure = [[0,0,0],\n",
    " [1,1,1],\n",
    " [0,0,0]]\n",
    "labeled_arr, nlabels = label(nums, structure=nstructure)\n",
    "labeled_arr"
   ]
  },
  {
   "cell_type": "code",
   "execution_count": 372,
   "id": "15161f05",
   "metadata": {},
   "outputs": [
    {
     "name": "stdout",
     "output_type": "stream",
     "text": [
      "False\n",
      "True\n",
      "False\n",
      "True\n",
      "True\n",
      "True\n",
      "False\n",
      "True\n",
      "True\n",
      "True\n",
      "True\n"
     ]
    }
   ],
   "source": [
    "for i in range(0, nlabels+1):\n",
    "    n = np.where(labeled_arr == i, 1, 0) + feats\n",
    "    masked_arr, _ = label(n, structure=generate_binary_structure(2,2))\n",
    "    sizes = ndimage.sum(n, masked_arr , np.arange(0,50)) \n",
    "    mask = sizes > 1\n",
    "    res = mask[masked_arr.ravel()].reshape(masked_arr.shape).astype(int)\n",
    "    print(res.sum() > np.where(labeled_arr == i, 1, 0).sum())"
   ]
  },
  {
   "cell_type": "code",
   "execution_count": 320,
   "id": "e30f79de",
   "metadata": {},
   "outputs": [
    {
     "data": {
      "text/plain": [
       "array([[1, 1, 1, 0, 0, 0, 0, 0, 0, 0],\n",
       "       [0, 0, 0, 1, 0, 0, 0, 0, 0, 0],\n",
       "       [0, 0, 0, 0, 0, 0, 0, 0, 0, 0],\n",
       "       [0, 0, 0, 0, 0, 0, 1, 0, 0, 0],\n",
       "       [0, 0, 0, 1, 0, 0, 0, 0, 0, 0],\n",
       "       [0, 0, 0, 0, 0, 1, 0, 0, 0, 0],\n",
       "       [0, 0, 0, 0, 0, 0, 0, 0, 0, 0],\n",
       "       [0, 0, 0, 0, 0, 0, 0, 0, 0, 0],\n",
       "       [0, 0, 0, 1, 0, 1, 0, 0, 0, 0],\n",
       "       [0, 0, 0, 0, 0, 0, 0, 0, 0, 0]])"
      ]
     },
     "execution_count": 320,
     "metadata": {},
     "output_type": "execute_result"
    }
   ],
   "source": [
    "n = np.where(labeled_arr == 1, 1, 0) + feats\n",
    "n"
   ]
  },
  {
   "cell_type": "code",
   "execution_count": 355,
   "id": "c1dbe4ff",
   "metadata": {},
   "outputs": [
    {
     "data": {
      "text/plain": [
       "array([[1, 1, 1, 0, 0, 0, 0, 0, 0, 0],\n",
       "       [0, 0, 0, 1, 0, 0, 0, 0, 0, 0],\n",
       "       [0, 0, 0, 0, 0, 0, 0, 0, 0, 0],\n",
       "       [0, 0, 0, 0, 0, 0, 0, 0, 0, 0],\n",
       "       [0, 0, 0, 0, 0, 0, 0, 0, 0, 0],\n",
       "       [0, 0, 0, 0, 0, 0, 0, 0, 0, 0],\n",
       "       [0, 0, 0, 0, 0, 0, 0, 0, 0, 0],\n",
       "       [0, 0, 0, 0, 0, 0, 0, 0, 0, 0],\n",
       "       [0, 0, 0, 0, 0, 0, 0, 0, 0, 0],\n",
       "       [0, 0, 0, 0, 0, 0, 0, 0, 0, 0]])"
      ]
     },
     "execution_count": 355,
     "metadata": {},
     "output_type": "execute_result"
    }
   ],
   "source": [
    "labeled_array, _ = label(n, structure=generate_binary_structure(2,2))\n",
    "sizes = ndimage.sum(n, labeled_array , np.arange(0,50)) \n",
    "mask = sizes > 1\n",
    "mask[labeled_array.ravel()].reshape(labeled_array.shape).astype(int)"
   ]
  },
  {
   "cell_type": "code",
   "execution_count": null,
   "id": "ed4d3192",
   "metadata": {},
   "outputs": [],
   "source": []
  },
  {
   "cell_type": "code",
   "execution_count": 314,
   "id": "f993fa0e",
   "metadata": {},
   "outputs": [
    {
     "name": "stdout",
     "output_type": "stream",
     "text": [
      "(array([0, 0, 0]), array([0, 1, 2]))\n",
      "(array([0, 0, 0]), array([5, 6, 7]))\n",
      "(array([2, 2]), array([2, 3]))\n",
      "(array([2, 2, 2]), array([6, 7, 8]))\n",
      "(array([4, 4, 4]), array([0, 1, 2]))\n",
      "(array([5, 5]), array([7, 8]))\n",
      "(array([6, 6, 6]), array([2, 3, 4]))\n",
      "(array([7, 7, 7]), array([6, 7, 8]))\n",
      "(array([9, 9, 9]), array([1, 2, 3]))\n",
      "(array([9, 9, 9]), array([5, 6, 7]))\n"
     ]
    }
   ],
   "source": [
    "for i in range(1, nlabels+1):\n",
    "    x = np.where(labeled_arr == i)\n",
    "    print(x)"
   ]
  },
  {
   "cell_type": "code",
   "execution_count": 164,
   "id": "930f8215",
   "metadata": {},
   "outputs": [
    {
     "data": {
      "text/plain": [
       "array(['.', '.', '8', '9', '5', '.', '4', '6', '6', '.'], dtype='<U1')"
      ]
     },
     "execution_count": 164,
     "metadata": {},
     "output_type": "execute_result"
    }
   ],
   "source": [
    "row[~np.array([0,1,2,3,4,5,6,7,8,9])]"
   ]
  },
  {
   "cell_type": "code",
   "execution_count": 170,
   "id": "5b7c182d",
   "metadata": {},
   "outputs": [
    {
     "data": {
      "text/plain": [
       "array([0, 1, 1, 1, 0, 1, 1, 1, 0, 0])"
      ]
     },
     "execution_count": 170,
     "metadata": {},
     "output_type": "execute_result"
    }
   ],
   "source": [
    "np.where((row != '.'), 1, 0)"
   ]
  },
  {
   "cell_type": "code",
   "execution_count": null,
   "id": "cddaf4ad",
   "metadata": {},
   "outputs": [],
   "source": [
    "np.where(np.char.isnumeric(row))"
   ]
  },
  {
   "cell_type": "code",
   "execution_count": 134,
   "id": "e5c673ee",
   "metadata": {},
   "outputs": [],
   "source": [
    "a = np.array([0, 1, 0, 1, 0, 0, 0, 1], dtype='bool')\n",
    "b = np.array([1,1,0], dtype='bool')\n",
    "idx = np.where(a)[0]"
   ]
  },
  {
   "cell_type": "code",
   "execution_count": 135,
   "id": "526a77d9",
   "metadata": {},
   "outputs": [
    {
     "data": {
      "text/plain": [
       "array([False,  True, False,  True, False, False, False,  True])"
      ]
     },
     "execution_count": 135,
     "metadata": {},
     "output_type": "execute_result"
    }
   ],
   "source": [
    "a"
   ]
  },
  {
   "cell_type": "code",
   "execution_count": 136,
   "id": "c0b740f9",
   "metadata": {},
   "outputs": [
    {
     "data": {
      "text/plain": [
       "array([ True,  True, False])"
      ]
     },
     "execution_count": 136,
     "metadata": {},
     "output_type": "execute_result"
    }
   ],
   "source": [
    "b"
   ]
  },
  {
   "cell_type": "code",
   "execution_count": 137,
   "id": "48a90574",
   "metadata": {},
   "outputs": [
    {
     "data": {
      "text/plain": [
       "array([1, 3, 7])"
      ]
     },
     "execution_count": 137,
     "metadata": {},
     "output_type": "execute_result"
    }
   ],
   "source": [
    "idx"
   ]
  },
  {
   "cell_type": "code",
   "execution_count": 138,
   "id": "60da9f19",
   "metadata": {},
   "outputs": [
    {
     "ename": "IndexError",
     "evalue": "boolean index did not match indexed array along dimension 0; dimension is 3 but corresponding boolean dimension is 8",
     "output_type": "error",
     "traceback": [
      "\u001b[0;31m---------------------------------------------------------------------------\u001b[0m",
      "\u001b[0;31mIndexError\u001b[0m                                Traceback (most recent call last)",
      "\u001b[0;32m<ipython-input-138-0f1fa4044a7c>\u001b[0m in \u001b[0;36m<module>\u001b[0;34m\u001b[0m\n\u001b[0;32m----> 1\u001b[0;31m \u001b[0ma\u001b[0m\u001b[0;34m[\u001b[0m\u001b[0midx\u001b[0m\u001b[0;34m[\u001b[0m\u001b[0;34m~\u001b[0m\u001b[0ma\u001b[0m\u001b[0;34m]\u001b[0m\u001b[0;34m]\u001b[0m \u001b[0;34m=\u001b[0m \u001b[0;32mFalse\u001b[0m\u001b[0;34m\u001b[0m\u001b[0;34m\u001b[0m\u001b[0m\n\u001b[0m",
      "\u001b[0;31mIndexError\u001b[0m: boolean index did not match indexed array along dimension 0; dimension is 3 but corresponding boolean dimension is 8"
     ]
    }
   ],
   "source": [
    "a[idx[~b]] = False"
   ]
  },
  {
   "cell_type": "code",
   "execution_count": 131,
   "id": "155d525c",
   "metadata": {},
   "outputs": [
    {
     "data": {
      "text/plain": [
       "array([False,  True, False,  True, False, False, False, False])"
      ]
     },
     "execution_count": 131,
     "metadata": {},
     "output_type": "execute_result"
    }
   ],
   "source": [
    "a"
   ]
  },
  {
   "cell_type": "code",
   "execution_count": null,
   "id": "f0b82ed5",
   "metadata": {},
   "outputs": [],
   "source": []
  }
 ],
 "metadata": {
  "kernelspec": {
   "display_name": "Python 3",
   "language": "python",
   "name": "python3"
  },
  "language_info": {
   "codemirror_mode": {
    "name": "ipython",
    "version": 3
   },
   "file_extension": ".py",
   "mimetype": "text/x-python",
   "name": "python",
   "nbconvert_exporter": "python",
   "pygments_lexer": "ipython3",
   "version": "3.8.5"
  }
 },
 "nbformat": 4,
 "nbformat_minor": 5
}
